{
 "cells": [
  {
   "cell_type": "markdown",
   "metadata": {},
   "source": [
    "# Fast stream Movie Recommender System"
   ]
  },
  {
   "cell_type": "markdown",
   "metadata": {},
   "source": [
    "![image](./images/images.png)"
   ]
  },
  {
   "cell_type": "markdown",
   "metadata": {},
   "source": [
    "***\n",
    "* __Group 10\n",
    "* Student names:\n",
    "    * Allan Kiplagat : https://github.com/Allan-Kipkemei\n",
    "    * Esther Njagi  : https://github.com/emukami2\n",
    "    * Benedict Kuloba :https://github.com/myles-G\n",
    "    \n",
    "* Student pace: DFT08\n",
    "* Scheduled project review date/time: \n",
    "* Instructor name: Asha Deen\n",
    "\n",
    "***"
   ]
  },
  {
   "cell_type": "markdown",
   "metadata": {},
   "source": [
    "### Table of Contents\n",
    "\n",
    "1. [Business Understanding](#business-understanding)\n",
    "   - Introduction to the business problem and objectives.\n",
    "   - \n",
    "2. [Data Understanding](#data-understanding)\n",
    "   - Overview of the dataset and its features.\n",
    "3. [Data Preprocessing](#data-preprocessing)\n",
    "   - Steps taken to clean and prepare the data for analysis.\n",
    "4. [Exploratory Data Analysis](#exploratory-data-analysis)\n",
    "   - Insights and patterns discovered through data exploration.\n",
    "5. [Generating the Recommendation System](#generating-the-recommendation-system)\n",
    "   - Methods and techniques used to build the recommendation system.\n",
    "6. [Conclusion and Recommendations](#conclusion-and-recommendations)\n",
    "   - Summary of findings and suggested next steps.\n"
   ]
  },
  {
   "cell_type": "markdown",
   "metadata": {},
   "source": [
    "## Overview\n",
    "\n",
    "\n",
    "**Objective:**\n",
    "The goal of this project is to design and implement a movie recommender system that provides personalized recommendations to users based on their preferences and viewing history. The system employs various collaborative and content-based filtering techniques to enhance the accuracy and relevance of movie suggestions.\n",
    "\n",
    "**Key Components:**\n",
    "\n",
    "1. **Data Collection:**\n",
    "   - Utilized a movie dataset containing information about movies, genres, user ratings, and tags.\n",
    "   - Explored and cleaned the dataset to prepare it for modeling.\n",
    "\n",
    "2. **Exploratory Data Analysis (EDA):**\n",
    "   - Analyzed the dataset to understand its structure, features, and distributions.\n",
    "   - Visualized key patterns, such as user preferences and movie popularity, to gain insights.\n",
    "\n",
    "3. **Content-Based Filtering:**\n",
    "   - Implemented a content-based recommender system using movie genres.\n",
    "   - Explored the use of TF-IDF vectors to represent movie content and calculate similarities.\n",
    "\n",
    "4. **Neighborhood-Based Collaborative Filtering (KNN):**\n",
    "   - Implemented a neighborhood-based collaborative filtering model using SciKit Learn's KNN.\n",
    "   - Explored both user-based and item-based collaborative filtering approaches.\n",
    "   - Evaluated the model's performance using metrics such as RMSE and MAE.\n",
    "\n",
    "5. **Model-Based Collaborative Filtering (SVD):**\n",
    "   - Implemented a model-based collaborative filtering approach using the Surprise library and Singular Value Decomposition (SVD).\n",
    "   - Evaluated the model's performance and explored hyperparameter tuning.\n",
    "\n",
    "6. **Hybrid Approach:**\n",
    "   - Recommended a hybrid model that combines the strengths of content-based and collaborative filtering approaches.\n",
    "   - Highlighted the potential benefits of leveraging both user-item interactions and content features.\n"
   ]
  },
  {
   "cell_type": "markdown",
   "metadata": {},
   "source": [
    "Business Understanding:\n",
    "=======\n",
    "\n",
    "Objective:\n",
    "-------------\n",
    "The primary objective of the recommender system project is to enhance user satisfaction and engagement on the MovieLens platform by delivering personalized and relevant movie recommendations. The recommender system aims to provide users with tailored suggestions based on their historical movie ratings and tagging activities, ultimately improving their overall experience.\n",
    "\n",
    "Scope:\n",
    "-------------\n",
    "The project will focus on implementing a collaborative filtering-based recommender system, leveraging the ml-latest-small dataset from MovieLens. The recommendations will be centered around user preferences, ensuring that users discover movies aligned with their tastes and interests. The scope includes both explicit ratings and user-generated tags as valuable indicators of user preferences.\n",
    "\n",
    "Success Criteria:\n",
    "-------------\n",
    "The success of the recommender system will be evaluated based on several key performance indicators (KPIs):\n",
    "##### User Engagement:\n",
    "Increase in the number of user interactions with the platform, including ratings, tags, and time spent on the website.\n",
    "##### Recommendation Accuracy:\n",
    "Improvement in the precision and relevance of movie recommendations, reducing instances of irrelevant or disliked suggestions.\n",
    "#####  User Satisfaction:\n",
    "Positive feedback from users, measured through surveys, reviews, and user ratings.\n",
    "##### Platform Adoption:\n",
    "Growth in the number of registered users and active users leveraging the recommendation features."
   ]
  },
  {
   "cell_type": "markdown",
   "metadata": {},
   "source": [
    "Data Understanding:\n",
    "=======\n",
    "\n",
    "## Data Source:\n",
    "\n",
    "The dataset (ml-latest-small) consists of 100,836 ratings and 3,683 tag applications across 9,742 movies. The data were \n",
    "generated by 610 users between March 29, 1996, and September 24, 2018.\n",
    "\n",
    "The data used in this project will be pulled from 4 different separate file:\n",
    "\n",
    "##### 1. Movies Data (movies.csv):\n",
    "\n",
    "Contains movie information, including titles and genres.\n",
    "\n",
    "Columns: \n",
    "\n",
    " * movieId: Unique identifier for each movie.\n",
    " * title: The title of the movie, which also includes the year of release in parentheses.\n",
    " * genres: A pipe-separated list of genres to categorize the movie (e.g., Action|Adventure|Comedy).\n",
    "\n",
    "\n",
    "##### 2. Links Data (links.csv):\n",
    "\n",
    "Provides identifiers for linking to external movie-related sources (IMDb, TMDb).\n",
    "\n",
    "Columns:\n",
    "\n",
    "* movieId: Unique identifier for each movie, consistent with other data files.\n",
    "\n",
    "* imdbId: Identifier for movies used by IMDb (Internet Movie Database).\n",
    "\n",
    "* tmdbId: Identifier for movies used by TMDb (The Movie Database).\n",
    "\n",
    "##### 3. Ratings Data (ratings.csv):\n",
    "\n",
    "\n",
    "Each entry represents a user's rating for a specific movie.\n",
    "\n",
    "Contains user ratings on a 5-star scale for movies.\n",
    "\n",
    "Columns: \n",
    "\n",
    "* userId: ID representing the unique identifier for each user.\n",
    "* movieId: Unique identifier for each movie.\n",
    "* rating: User's rating for the movie on a 5-star scale with half-star increments (0.5 to 5.0).\n",
    "* timestamp: The timestamp when the rating was recorded, represented in seconds since midnight Coordinated Universal Time (UTC) of January 1, 1970.\n",
    "\n",
    "##### 4. Tags Data (tags.csv):\n",
    "\n",
    "Contains user-generated metadata (tags) about movies.\n",
    "\n",
    "Columns: \n",
    "* userId: ID representing the unique identifier for each user.\n",
    "* movieId: Unique identifier for each movie.\n",
    "* tag: User-generated metadata describing a movie, typically a single word or short phrase.\n",
    "* timestamp: The timestamp when the tag was applied, represented in seconds since midnight Coordinated Universal Time (UTC) of January 1, 1970.\n"
   ]
  },
  {
   "cell_type": "code",
   "execution_count": 210,
   "metadata": {},
   "outputs": [],
   "source": [
    "# File paths for the datasets\n",
    "\n",
    "import pandas as pd\n",
    "\n",
    "movies = \"data/ml-latest-small/movies.csv\"\n",
    "links = \"data/ml-latest-small/links.csv\"\n",
    "ratings = \"data/ml-latest-small/ratings.csv\"\n",
    "tags = \"data/ml-latest-small/tags.csv\"\n",
    "\n",
    "# Dictionary to store the dataframes\n",
    "data = {\"movies\": None, \"links\": None, \"ratings\": None, \"tags\": None}\n",
    "\n",
    "# Loop through the dictionary keys and read the corresponding CSV files into pandas DataFrames\n",
    "for key in data.keys():\n",
    "    data[key] = pd.read_csv(f\"data/ml-latest-small/{key}.csv\")\n"
   ]
  },
  {
   "cell_type": "markdown",
   "metadata": {},
   "source": [
    "#### EXPLORING DATAFRAMES"
   ]
  },
  {
   "cell_type": "markdown",
   "metadata": {},
   "source": [
    "Datasets Lengths"
   ]
  },
  {
   "cell_type": "code",
   "execution_count": 211,
   "metadata": {
    "scrolled": true
   },
   "outputs": [
    {
     "name": "stdout",
     "output_type": "stream",
     "text": [
      "Length of each data-set:\n",
      "movies : 9742\n",
      "links : 9742\n",
      "ratings : 100836\n",
      "tags : 3683\n"
     ]
    }
   ],
   "source": [
    "# Print the length (number of rows) of each dataset\n",
    "print(\"Length of each data-set:\")\n",
    "\n",
    "# Iterate through the dictionary items\n",
    "for k, v in data.items():\n",
    "    # Print the name of the dataset and its length\n",
    "    print(k, \":\", len(v))\n"
   ]
  },
  {
   "cell_type": "markdown",
   "metadata": {},
   "source": [
    "Top five of each:"
   ]
  },
  {
   "cell_type": "code",
   "execution_count": 212,
   "metadata": {},
   "outputs": [
    {
     "data": {
      "text/html": [
       "<div>\n",
       "<style scoped>\n",
       "    .dataframe tbody tr th:only-of-type {\n",
       "        vertical-align: middle;\n",
       "    }\n",
       "\n",
       "    .dataframe tbody tr th {\n",
       "        vertical-align: top;\n",
       "    }\n",
       "\n",
       "    .dataframe thead th {\n",
       "        text-align: right;\n",
       "    }\n",
       "</style>\n",
       "<table border=\"1\" class=\"dataframe\">\n",
       "  <thead>\n",
       "    <tr style=\"text-align: right;\">\n",
       "      <th></th>\n",
       "      <th>movieId</th>\n",
       "      <th>title</th>\n",
       "      <th>genres</th>\n",
       "    </tr>\n",
       "  </thead>\n",
       "  <tbody>\n",
       "    <tr>\n",
       "      <th>0</th>\n",
       "      <td>1</td>\n",
       "      <td>Toy Story (1995)</td>\n",
       "      <td>Adventure|Animation|Children|Comedy|Fantasy</td>\n",
       "    </tr>\n",
       "    <tr>\n",
       "      <th>1</th>\n",
       "      <td>2</td>\n",
       "      <td>Jumanji (1995)</td>\n",
       "      <td>Adventure|Children|Fantasy</td>\n",
       "    </tr>\n",
       "    <tr>\n",
       "      <th>2</th>\n",
       "      <td>3</td>\n",
       "      <td>Grumpier Old Men (1995)</td>\n",
       "      <td>Comedy|Romance</td>\n",
       "    </tr>\n",
       "    <tr>\n",
       "      <th>3</th>\n",
       "      <td>4</td>\n",
       "      <td>Waiting to Exhale (1995)</td>\n",
       "      <td>Comedy|Drama|Romance</td>\n",
       "    </tr>\n",
       "    <tr>\n",
       "      <th>4</th>\n",
       "      <td>5</td>\n",
       "      <td>Father of the Bride Part II (1995)</td>\n",
       "      <td>Comedy</td>\n",
       "    </tr>\n",
       "  </tbody>\n",
       "</table>\n",
       "</div>"
      ],
      "text/plain": [
       "   movieId                               title  \\\n",
       "0        1                    Toy Story (1995)   \n",
       "1        2                      Jumanji (1995)   \n",
       "2        3             Grumpier Old Men (1995)   \n",
       "3        4            Waiting to Exhale (1995)   \n",
       "4        5  Father of the Bride Part II (1995)   \n",
       "\n",
       "                                        genres  \n",
       "0  Adventure|Animation|Children|Comedy|Fantasy  \n",
       "1                   Adventure|Children|Fantasy  \n",
       "2                               Comedy|Romance  \n",
       "3                         Comedy|Drama|Romance  \n",
       "4                                       Comedy  "
      ]
     },
     "execution_count": 212,
     "metadata": {},
     "output_type": "execute_result"
    }
   ],
   "source": [
    "data[\"movies\"].head()"
   ]
  },
  {
   "cell_type": "code",
   "execution_count": 213,
   "metadata": {},
   "outputs": [
    {
     "data": {
      "text/html": [
       "<div>\n",
       "<style scoped>\n",
       "    .dataframe tbody tr th:only-of-type {\n",
       "        vertical-align: middle;\n",
       "    }\n",
       "\n",
       "    .dataframe tbody tr th {\n",
       "        vertical-align: top;\n",
       "    }\n",
       "\n",
       "    .dataframe thead th {\n",
       "        text-align: right;\n",
       "    }\n",
       "</style>\n",
       "<table border=\"1\" class=\"dataframe\">\n",
       "  <thead>\n",
       "    <tr style=\"text-align: right;\">\n",
       "      <th></th>\n",
       "      <th>movieId</th>\n",
       "      <th>imdbId</th>\n",
       "      <th>tmdbId</th>\n",
       "    </tr>\n",
       "  </thead>\n",
       "  <tbody>\n",
       "    <tr>\n",
       "      <th>0</th>\n",
       "      <td>1</td>\n",
       "      <td>114709</td>\n",
       "      <td>862.0</td>\n",
       "    </tr>\n",
       "    <tr>\n",
       "      <th>1</th>\n",
       "      <td>2</td>\n",
       "      <td>113497</td>\n",
       "      <td>8844.0</td>\n",
       "    </tr>\n",
       "    <tr>\n",
       "      <th>2</th>\n",
       "      <td>3</td>\n",
       "      <td>113228</td>\n",
       "      <td>15602.0</td>\n",
       "    </tr>\n",
       "    <tr>\n",
       "      <th>3</th>\n",
       "      <td>4</td>\n",
       "      <td>114885</td>\n",
       "      <td>31357.0</td>\n",
       "    </tr>\n",
       "    <tr>\n",
       "      <th>4</th>\n",
       "      <td>5</td>\n",
       "      <td>113041</td>\n",
       "      <td>11862.0</td>\n",
       "    </tr>\n",
       "  </tbody>\n",
       "</table>\n",
       "</div>"
      ],
      "text/plain": [
       "   movieId  imdbId   tmdbId\n",
       "0        1  114709    862.0\n",
       "1        2  113497   8844.0\n",
       "2        3  113228  15602.0\n",
       "3        4  114885  31357.0\n",
       "4        5  113041  11862.0"
      ]
     },
     "execution_count": 213,
     "metadata": {},
     "output_type": "execute_result"
    }
   ],
   "source": [
    "data[\"links\"].head()"
   ]
  },
  {
   "cell_type": "code",
   "execution_count": 214,
   "metadata": {},
   "outputs": [
    {
     "data": {
      "text/html": [
       "<div>\n",
       "<style scoped>\n",
       "    .dataframe tbody tr th:only-of-type {\n",
       "        vertical-align: middle;\n",
       "    }\n",
       "\n",
       "    .dataframe tbody tr th {\n",
       "        vertical-align: top;\n",
       "    }\n",
       "\n",
       "    .dataframe thead th {\n",
       "        text-align: right;\n",
       "    }\n",
       "</style>\n",
       "<table border=\"1\" class=\"dataframe\">\n",
       "  <thead>\n",
       "    <tr style=\"text-align: right;\">\n",
       "      <th></th>\n",
       "      <th>userId</th>\n",
       "      <th>movieId</th>\n",
       "      <th>rating</th>\n",
       "      <th>timestamp</th>\n",
       "    </tr>\n",
       "  </thead>\n",
       "  <tbody>\n",
       "    <tr>\n",
       "      <th>0</th>\n",
       "      <td>1</td>\n",
       "      <td>1</td>\n",
       "      <td>4.0</td>\n",
       "      <td>964982703</td>\n",
       "    </tr>\n",
       "    <tr>\n",
       "      <th>1</th>\n",
       "      <td>1</td>\n",
       "      <td>3</td>\n",
       "      <td>4.0</td>\n",
       "      <td>964981247</td>\n",
       "    </tr>\n",
       "    <tr>\n",
       "      <th>2</th>\n",
       "      <td>1</td>\n",
       "      <td>6</td>\n",
       "      <td>4.0</td>\n",
       "      <td>964982224</td>\n",
       "    </tr>\n",
       "    <tr>\n",
       "      <th>3</th>\n",
       "      <td>1</td>\n",
       "      <td>47</td>\n",
       "      <td>5.0</td>\n",
       "      <td>964983815</td>\n",
       "    </tr>\n",
       "    <tr>\n",
       "      <th>4</th>\n",
       "      <td>1</td>\n",
       "      <td>50</td>\n",
       "      <td>5.0</td>\n",
       "      <td>964982931</td>\n",
       "    </tr>\n",
       "  </tbody>\n",
       "</table>\n",
       "</div>"
      ],
      "text/plain": [
       "   userId  movieId  rating  timestamp\n",
       "0       1        1     4.0  964982703\n",
       "1       1        3     4.0  964981247\n",
       "2       1        6     4.0  964982224\n",
       "3       1       47     5.0  964983815\n",
       "4       1       50     5.0  964982931"
      ]
     },
     "execution_count": 214,
     "metadata": {},
     "output_type": "execute_result"
    }
   ],
   "source": [
    "data[\"ratings\"].head()"
   ]
  },
  {
   "cell_type": "code",
   "execution_count": 215,
   "metadata": {},
   "outputs": [
    {
     "data": {
      "text/html": [
       "<div>\n",
       "<style scoped>\n",
       "    .dataframe tbody tr th:only-of-type {\n",
       "        vertical-align: middle;\n",
       "    }\n",
       "\n",
       "    .dataframe tbody tr th {\n",
       "        vertical-align: top;\n",
       "    }\n",
       "\n",
       "    .dataframe thead th {\n",
       "        text-align: right;\n",
       "    }\n",
       "</style>\n",
       "<table border=\"1\" class=\"dataframe\">\n",
       "  <thead>\n",
       "    <tr style=\"text-align: right;\">\n",
       "      <th></th>\n",
       "      <th>userId</th>\n",
       "      <th>movieId</th>\n",
       "      <th>tag</th>\n",
       "      <th>timestamp</th>\n",
       "    </tr>\n",
       "  </thead>\n",
       "  <tbody>\n",
       "    <tr>\n",
       "      <th>0</th>\n",
       "      <td>2</td>\n",
       "      <td>60756</td>\n",
       "      <td>funny</td>\n",
       "      <td>1445714994</td>\n",
       "    </tr>\n",
       "    <tr>\n",
       "      <th>1</th>\n",
       "      <td>2</td>\n",
       "      <td>60756</td>\n",
       "      <td>Highly quotable</td>\n",
       "      <td>1445714996</td>\n",
       "    </tr>\n",
       "    <tr>\n",
       "      <th>2</th>\n",
       "      <td>2</td>\n",
       "      <td>60756</td>\n",
       "      <td>will ferrell</td>\n",
       "      <td>1445714992</td>\n",
       "    </tr>\n",
       "    <tr>\n",
       "      <th>3</th>\n",
       "      <td>2</td>\n",
       "      <td>89774</td>\n",
       "      <td>Boxing story</td>\n",
       "      <td>1445715207</td>\n",
       "    </tr>\n",
       "    <tr>\n",
       "      <th>4</th>\n",
       "      <td>2</td>\n",
       "      <td>89774</td>\n",
       "      <td>MMA</td>\n",
       "      <td>1445715200</td>\n",
       "    </tr>\n",
       "  </tbody>\n",
       "</table>\n",
       "</div>"
      ],
      "text/plain": [
       "   userId  movieId              tag   timestamp\n",
       "0       2    60756            funny  1445714994\n",
       "1       2    60756  Highly quotable  1445714996\n",
       "2       2    60756     will ferrell  1445714992\n",
       "3       2    89774     Boxing story  1445715207\n",
       "4       2    89774              MMA  1445715200"
      ]
     },
     "execution_count": 215,
     "metadata": {},
     "output_type": "execute_result"
    }
   ],
   "source": [
    "data[\"tags\"].head()"
   ]
  },
  {
   "cell_type": "code",
   "execution_count": 216,
   "metadata": {},
   "outputs": [
    {
     "name": "stdout",
     "output_type": "stream",
     "text": [
      "Summary of each data-set:\n",
      "\n",
      "movies \n",
      "\n",
      "<class 'pandas.core.frame.DataFrame'>\n",
      "RangeIndex: 9742 entries, 0 to 9741\n",
      "Data columns (total 3 columns):\n",
      " #   Column   Non-Null Count  Dtype \n",
      "---  ------   --------------  ----- \n",
      " 0   movieId  9742 non-null   int64 \n",
      " 1   title    9742 non-null   object\n",
      " 2   genres   9742 non-null   object\n",
      "dtypes: int64(1), object(2)\n",
      "memory usage: 228.5+ KB\n",
      "None\n",
      "==================================================================================================== \n",
      "\n",
      "links \n",
      "\n",
      "<class 'pandas.core.frame.DataFrame'>\n",
      "RangeIndex: 9742 entries, 0 to 9741\n",
      "Data columns (total 3 columns):\n",
      " #   Column   Non-Null Count  Dtype  \n",
      "---  ------   --------------  -----  \n",
      " 0   movieId  9742 non-null   int64  \n",
      " 1   imdbId   9742 non-null   int64  \n",
      " 2   tmdbId   9734 non-null   float64\n",
      "dtypes: float64(1), int64(2)\n",
      "memory usage: 228.5 KB\n",
      "None\n",
      "==================================================================================================== \n",
      "\n",
      "ratings \n",
      "\n",
      "<class 'pandas.core.frame.DataFrame'>\n",
      "RangeIndex: 100836 entries, 0 to 100835\n",
      "Data columns (total 4 columns):\n",
      " #   Column     Non-Null Count   Dtype  \n",
      "---  ------     --------------   -----  \n",
      " 0   userId     100836 non-null  int64  \n",
      " 1   movieId    100836 non-null  int64  \n",
      " 2   rating     100836 non-null  float64\n",
      " 3   timestamp  100836 non-null  int64  \n",
      "dtypes: float64(1), int64(3)\n",
      "memory usage: 3.1 MB\n",
      "None\n",
      "==================================================================================================== \n",
      "\n",
      "tags \n",
      "\n",
      "<class 'pandas.core.frame.DataFrame'>\n",
      "RangeIndex: 3683 entries, 0 to 3682\n",
      "Data columns (total 4 columns):\n",
      " #   Column     Non-Null Count  Dtype \n",
      "---  ------     --------------  ----- \n",
      " 0   userId     3683 non-null   int64 \n",
      " 1   movieId    3683 non-null   int64 \n",
      " 2   tag        3683 non-null   object\n",
      " 3   timestamp  3683 non-null   int64 \n",
      "dtypes: int64(3), object(1)\n",
      "memory usage: 115.2+ KB\n",
      "None\n",
      "==================================================================================================== \n",
      "\n"
     ]
    }
   ],
   "source": [
    "# Print a summary of each dataset\n",
    "print(\"Summary of each data-set:\\n\")\n",
    "\n",
    "# Iterate through the dictionary items\n",
    "for k, v in data.items():\n",
    "    # Print the name of the dataset\n",
    "    print(k, \"\\n\")\n",
    "    # Print the summary information of the dataset\n",
    "    print(v.info())\n",
    "    # Print a separator line for clarity\n",
    "    print(\"=\"*100, \"\\n\")\n"
   ]
  },
  {
   "cell_type": "code",
   "execution_count": 208,
   "metadata": {},
   "outputs": [
    {
     "name": "stdout",
     "output_type": "stream",
     "text": [
      "Columns of each data-set:\n",
      "\n",
      "movies \n",
      "\n",
      "['movieId', 'title', 'genres']\n",
      "==================================================================================================== \n",
      "\n",
      "links \n",
      "\n",
      "['movieId', 'imdbId', 'tmdbId']\n",
      "==================================================================================================== \n",
      "\n",
      "ratings \n",
      "\n",
      "['userId', 'movieId', 'rating', 'timestamp']\n",
      "==================================================================================================== \n",
      "\n",
      "tags \n",
      "\n",
      "['userId', 'movieId', 'tag', 'timestamp']\n",
      "==================================================================================================== \n",
      "\n",
      "All unique columns: {'imdbId', 'title', 'genres', 'userId', 'rating', 'movieId', 'tmdbId', 'tag', 'timestamp'}\n"
     ]
    }
   ],
   "source": [
    "# Print a header for the columns of each dataset\n",
    "print(\"Columns of each data-set:\\n\")\n",
    "\n",
    "# Initialize an empty list to store all column names\n",
    "all_columns = []\n",
    "\n",
    "# Iterate over each item in the 'data' dictionary\n",
    "for k, v in data.items():\n",
    "    # Print the name of the dataset (or key in the dictionary)\n",
    "    print(k, \"\\n\")\n",
    "    \n",
    "    # Add the columns of the current DataFrame to the list of all columns\n",
    "    all_columns += list(v.columns)\n",
    "    \n",
    "    # Print the columns of the current DataFrame\n",
    "    print(list(v.columns))\n",
    "    \n",
    "    # Print a separator line for readability\n",
    "    print(\"=\"*100, \"\\n\")\n",
    "\n",
    "# Print the set of all unique columns across all datasets\n",
    "print(\"All unique columns:\", set(all_columns))\n"
   ]
  },
  {
   "cell_type": "markdown",
   "metadata": {},
   "source": [
    "### MERGING DATAFRAMES"
   ]
  },
  {
   "cell_type": "markdown",
   "metadata": {},
   "source": [
    "merging the datasets is essential to be able to work with different dataset at one"
   ]
  },
  {
   "cell_type": "code",
   "execution_count": 204,
   "metadata": {},
   "outputs": [
    {
     "name": "stdout",
     "output_type": "stream",
     "text": [
      "(9742, 5)\n"
     ]
    }
   ],
   "source": [
    "# Extract the movies and links dataframes from the dictionary\n",
    "movies_df = data[\"movies\"]\n",
    "links_df = data[\"links\"]\n",
    "\n",
    "# Merge the movies dataframe with the links dataframe using an inner join\n",
    "# The 'movieId' column is used as the key for the join\n",
    "merged_movies_links = movies_df.join(links_df.set_index(\"movieId\"), on=\"movieId\", how=\"inner\")\n",
    "\n",
    "# Display the shape (number of rows and columns) of the resulting merged DataFrame\n",
    "print(merged_movies_links.shape)\n"
   ]
  },
  {
   "cell_type": "code",
   "execution_count": 205,
   "metadata": {},
   "outputs": [
    {
     "data": {
      "text/html": [
       "<div>\n",
       "<style scoped>\n",
       "    .dataframe tbody tr th:only-of-type {\n",
       "        vertical-align: middle;\n",
       "    }\n",
       "\n",
       "    .dataframe tbody tr th {\n",
       "        vertical-align: top;\n",
       "    }\n",
       "\n",
       "    .dataframe thead th {\n",
       "        text-align: right;\n",
       "    }\n",
       "</style>\n",
       "<table border=\"1\" class=\"dataframe\">\n",
       "  <thead>\n",
       "    <tr style=\"text-align: right;\">\n",
       "      <th></th>\n",
       "      <th>movieId</th>\n",
       "      <th>title</th>\n",
       "      <th>genres</th>\n",
       "      <th>imdbId</th>\n",
       "      <th>tmdbId</th>\n",
       "    </tr>\n",
       "  </thead>\n",
       "  <tbody>\n",
       "    <tr>\n",
       "      <th>0</th>\n",
       "      <td>1</td>\n",
       "      <td>Toy Story (1995)</td>\n",
       "      <td>Adventure|Animation|Children|Comedy|Fantasy</td>\n",
       "      <td>114709</td>\n",
       "      <td>862.0</td>\n",
       "    </tr>\n",
       "    <tr>\n",
       "      <th>1</th>\n",
       "      <td>2</td>\n",
       "      <td>Jumanji (1995)</td>\n",
       "      <td>Adventure|Children|Fantasy</td>\n",
       "      <td>113497</td>\n",
       "      <td>8844.0</td>\n",
       "    </tr>\n",
       "    <tr>\n",
       "      <th>2</th>\n",
       "      <td>3</td>\n",
       "      <td>Grumpier Old Men (1995)</td>\n",
       "      <td>Comedy|Romance</td>\n",
       "      <td>113228</td>\n",
       "      <td>15602.0</td>\n",
       "    </tr>\n",
       "    <tr>\n",
       "      <th>3</th>\n",
       "      <td>4</td>\n",
       "      <td>Waiting to Exhale (1995)</td>\n",
       "      <td>Comedy|Drama|Romance</td>\n",
       "      <td>114885</td>\n",
       "      <td>31357.0</td>\n",
       "    </tr>\n",
       "    <tr>\n",
       "      <th>4</th>\n",
       "      <td>5</td>\n",
       "      <td>Father of the Bride Part II (1995)</td>\n",
       "      <td>Comedy</td>\n",
       "      <td>113041</td>\n",
       "      <td>11862.0</td>\n",
       "    </tr>\n",
       "  </tbody>\n",
       "</table>\n",
       "</div>"
      ],
      "text/plain": [
       "   movieId                               title  \\\n",
       "0        1                    Toy Story (1995)   \n",
       "1        2                      Jumanji (1995)   \n",
       "2        3             Grumpier Old Men (1995)   \n",
       "3        4            Waiting to Exhale (1995)   \n",
       "4        5  Father of the Bride Part II (1995)   \n",
       "\n",
       "                                        genres  imdbId   tmdbId  \n",
       "0  Adventure|Animation|Children|Comedy|Fantasy  114709    862.0  \n",
       "1                   Adventure|Children|Fantasy  113497   8844.0  \n",
       "2                               Comedy|Romance  113228  15602.0  \n",
       "3                         Comedy|Drama|Romance  114885  31357.0  \n",
       "4                                       Comedy  113041  11862.0  "
      ]
     },
     "execution_count": 205,
     "metadata": {},
     "output_type": "execute_result"
    }
   ],
   "source": [
    "merged_movies_links.head()"
   ]
  },
  {
   "cell_type": "code",
   "execution_count": 206,
   "metadata": {},
   "outputs": [
    {
     "name": "stdout",
     "output_type": "stream",
     "text": [
      "Final Merged Data has 100854 rows and 8 columns:\n"
     ]
    },
    {
     "data": {
      "text/html": [
       "<div>\n",
       "<style scoped>\n",
       "    .dataframe tbody tr th:only-of-type {\n",
       "        vertical-align: middle;\n",
       "    }\n",
       "\n",
       "    .dataframe tbody tr th {\n",
       "        vertical-align: top;\n",
       "    }\n",
       "\n",
       "    .dataframe thead th {\n",
       "        text-align: right;\n",
       "    }\n",
       "</style>\n",
       "<table border=\"1\" class=\"dataframe\">\n",
       "  <thead>\n",
       "    <tr style=\"text-align: right;\">\n",
       "      <th></th>\n",
       "      <th>movieId</th>\n",
       "      <th>title</th>\n",
       "      <th>genres</th>\n",
       "      <th>imdbId</th>\n",
       "      <th>tmdbId</th>\n",
       "      <th>userId</th>\n",
       "      <th>rating</th>\n",
       "      <th>timestamp</th>\n",
       "    </tr>\n",
       "  </thead>\n",
       "  <tbody>\n",
       "    <tr>\n",
       "      <th>0</th>\n",
       "      <td>1</td>\n",
       "      <td>Toy Story (1995)</td>\n",
       "      <td>Adventure|Animation|Children|Comedy|Fantasy</td>\n",
       "      <td>114709</td>\n",
       "      <td>862.0</td>\n",
       "      <td>1.0</td>\n",
       "      <td>4.0</td>\n",
       "      <td>9.649827e+08</td>\n",
       "    </tr>\n",
       "    <tr>\n",
       "      <th>0</th>\n",
       "      <td>1</td>\n",
       "      <td>Toy Story (1995)</td>\n",
       "      <td>Adventure|Animation|Children|Comedy|Fantasy</td>\n",
       "      <td>114709</td>\n",
       "      <td>862.0</td>\n",
       "      <td>5.0</td>\n",
       "      <td>4.0</td>\n",
       "      <td>8.474350e+08</td>\n",
       "    </tr>\n",
       "    <tr>\n",
       "      <th>0</th>\n",
       "      <td>1</td>\n",
       "      <td>Toy Story (1995)</td>\n",
       "      <td>Adventure|Animation|Children|Comedy|Fantasy</td>\n",
       "      <td>114709</td>\n",
       "      <td>862.0</td>\n",
       "      <td>7.0</td>\n",
       "      <td>4.5</td>\n",
       "      <td>1.106636e+09</td>\n",
       "    </tr>\n",
       "    <tr>\n",
       "      <th>0</th>\n",
       "      <td>1</td>\n",
       "      <td>Toy Story (1995)</td>\n",
       "      <td>Adventure|Animation|Children|Comedy|Fantasy</td>\n",
       "      <td>114709</td>\n",
       "      <td>862.0</td>\n",
       "      <td>15.0</td>\n",
       "      <td>2.5</td>\n",
       "      <td>1.510578e+09</td>\n",
       "    </tr>\n",
       "    <tr>\n",
       "      <th>0</th>\n",
       "      <td>1</td>\n",
       "      <td>Toy Story (1995)</td>\n",
       "      <td>Adventure|Animation|Children|Comedy|Fantasy</td>\n",
       "      <td>114709</td>\n",
       "      <td>862.0</td>\n",
       "      <td>17.0</td>\n",
       "      <td>4.5</td>\n",
       "      <td>1.305696e+09</td>\n",
       "    </tr>\n",
       "  </tbody>\n",
       "</table>\n",
       "</div>"
      ],
      "text/plain": [
       "   movieId             title                                       genres  \\\n",
       "0        1  Toy Story (1995)  Adventure|Animation|Children|Comedy|Fantasy   \n",
       "0        1  Toy Story (1995)  Adventure|Animation|Children|Comedy|Fantasy   \n",
       "0        1  Toy Story (1995)  Adventure|Animation|Children|Comedy|Fantasy   \n",
       "0        1  Toy Story (1995)  Adventure|Animation|Children|Comedy|Fantasy   \n",
       "0        1  Toy Story (1995)  Adventure|Animation|Children|Comedy|Fantasy   \n",
       "\n",
       "   imdbId  tmdbId  userId  rating     timestamp  \n",
       "0  114709   862.0     1.0     4.0  9.649827e+08  \n",
       "0  114709   862.0     5.0     4.0  8.474350e+08  \n",
       "0  114709   862.0     7.0     4.5  1.106636e+09  \n",
       "0  114709   862.0    15.0     2.5  1.510578e+09  \n",
       "0  114709   862.0    17.0     4.5  1.305696e+09  "
      ]
     },
     "execution_count": 206,
     "metadata": {},
     "output_type": "execute_result"
    }
   ],
   "source": [
    "# Left outer join with ratings_df and specify suffixes\n",
    "merged_data_ratings = merged_movies_links.join(data[\"ratings\"].set_index(\"movieId\"), on=\"movieId\", how=\"left\", lsuffix='_movies_links', rsuffix='_ratings')\n",
    "\n",
    "# Left outer join with tags_df and specify suffixes\n",
    "df = merged_data_ratings\n",
    "\n",
    "# Display the first few rows of the resulting DataFrame\n",
    "print(f\"Final Merged Data has {df.shape[0]} rows and {df.shape[1]} columns:\")\n",
    "df.head()"
   ]
  },
  {
   "cell_type": "code",
   "execution_count": 108,
   "metadata": {},
   "outputs": [
    {
     "data": {
      "text/html": [
       "<div>\n",
       "<style scoped>\n",
       "    .dataframe tbody tr th:only-of-type {\n",
       "        vertical-align: middle;\n",
       "    }\n",
       "\n",
       "    .dataframe tbody tr th {\n",
       "        vertical-align: top;\n",
       "    }\n",
       "\n",
       "    .dataframe thead th {\n",
       "        text-align: right;\n",
       "    }\n",
       "</style>\n",
       "<table border=\"1\" class=\"dataframe\">\n",
       "  <thead>\n",
       "    <tr style=\"text-align: right;\">\n",
       "      <th></th>\n",
       "      <th>userId</th>\n",
       "      <th>movieId</th>\n",
       "    </tr>\n",
       "  </thead>\n",
       "  <tbody>\n",
       "    <tr>\n",
       "      <th>0</th>\n",
       "      <td>1.0</td>\n",
       "      <td>1</td>\n",
       "    </tr>\n",
       "    <tr>\n",
       "      <th>0</th>\n",
       "      <td>5.0</td>\n",
       "      <td>1</td>\n",
       "    </tr>\n",
       "    <tr>\n",
       "      <th>0</th>\n",
       "      <td>7.0</td>\n",
       "      <td>1</td>\n",
       "    </tr>\n",
       "    <tr>\n",
       "      <th>0</th>\n",
       "      <td>15.0</td>\n",
       "      <td>1</td>\n",
       "    </tr>\n",
       "    <tr>\n",
       "      <th>0</th>\n",
       "      <td>17.0</td>\n",
       "      <td>1</td>\n",
       "    </tr>\n",
       "    <tr>\n",
       "      <th>...</th>\n",
       "      <td>...</td>\n",
       "      <td>...</td>\n",
       "    </tr>\n",
       "    <tr>\n",
       "      <th>9737</th>\n",
       "      <td>184.0</td>\n",
       "      <td>193581</td>\n",
       "    </tr>\n",
       "    <tr>\n",
       "      <th>9738</th>\n",
       "      <td>184.0</td>\n",
       "      <td>193583</td>\n",
       "    </tr>\n",
       "    <tr>\n",
       "      <th>9739</th>\n",
       "      <td>184.0</td>\n",
       "      <td>193585</td>\n",
       "    </tr>\n",
       "    <tr>\n",
       "      <th>9740</th>\n",
       "      <td>184.0</td>\n",
       "      <td>193587</td>\n",
       "    </tr>\n",
       "    <tr>\n",
       "      <th>9741</th>\n",
       "      <td>331.0</td>\n",
       "      <td>193609</td>\n",
       "    </tr>\n",
       "  </tbody>\n",
       "</table>\n",
       "<p>100854 rows × 2 columns</p>\n",
       "</div>"
      ],
      "text/plain": [
       "      userId  movieId\n",
       "0        1.0        1\n",
       "0        5.0        1\n",
       "0        7.0        1\n",
       "0       15.0        1\n",
       "0       17.0        1\n",
       "...      ...      ...\n",
       "9737   184.0   193581\n",
       "9738   184.0   193583\n",
       "9739   184.0   193585\n",
       "9740   184.0   193587\n",
       "9741   331.0   193609\n",
       "\n",
       "[100854 rows x 2 columns]"
      ]
     },
     "execution_count": 108,
     "metadata": {},
     "output_type": "execute_result"
    }
   ],
   "source": [
    "df[['userId', \"movieId\"]]"
   ]
  },
  {
   "cell_type": "code",
   "execution_count": 109,
   "metadata": {},
   "outputs": [
    {
     "name": "stdout",
     "output_type": "stream",
     "text": [
      "The Final dataframe has 100854 rows and 8 columns\n"
     ]
    }
   ],
   "source": [
    "# Print the dimensions of the final DataFrame\n",
    "print(f\"The Final dataframe has {df.shape[0]} rows and {df.shape[1]} columns\")\n"
   ]
  },
  {
   "cell_type": "markdown",
   "metadata": {},
   "source": [
    "## Data Cleaning:"
   ]
  },
  {
   "cell_type": "markdown",
   "metadata": {},
   "source": [
    "#### Dealing with missing values:"
   ]
  },
  {
   "cell_type": "code",
   "execution_count": 110,
   "metadata": {},
   "outputs": [
    {
     "name": "stdout",
     "output_type": "stream",
     "text": [
      "The tmdbId column has 13 missing values\n",
      "The userId column has 18 missing values\n",
      "The rating column has 18 missing values\n",
      "The timestamp column has 18 missing values\n"
     ]
    }
   ],
   "source": [
    "# Check for missing values in each column of the DataFrame\n",
    "missing_values = df.isna().sum()\n",
    "\n",
    "# Iterate through each column and the number of missing values\n",
    "for column, count in missing_values.items():\n",
    "    # Print a message if there are missing values in the column\n",
    "    if count > 0:\n",
    "        print(f\"The {column} column has {count} missing values\")\n"
   ]
  },
  {
   "cell_type": "code",
   "execution_count": 111,
   "metadata": {},
   "outputs": [
    {
     "name": "stdout",
     "output_type": "stream",
     "text": [
      "Percentage of Missing Values\n"
     ]
    },
    {
     "data": {
      "text/html": [
       "<div>\n",
       "<style scoped>\n",
       "    .dataframe tbody tr th:only-of-type {\n",
       "        vertical-align: middle;\n",
       "    }\n",
       "\n",
       "    .dataframe tbody tr th {\n",
       "        vertical-align: top;\n",
       "    }\n",
       "\n",
       "    .dataframe thead th {\n",
       "        text-align: right;\n",
       "    }\n",
       "</style>\n",
       "<table border=\"1\" class=\"dataframe\">\n",
       "  <thead>\n",
       "    <tr style=\"text-align: right;\">\n",
       "      <th></th>\n",
       "      <th>Columns</th>\n",
       "      <th>% of Missing Values</th>\n",
       "    </tr>\n",
       "  </thead>\n",
       "  <tbody>\n",
       "    <tr>\n",
       "      <th>0</th>\n",
       "      <td>tmdbId</td>\n",
       "      <td>0.012890</td>\n",
       "    </tr>\n",
       "    <tr>\n",
       "      <th>1</th>\n",
       "      <td>userId</td>\n",
       "      <td>0.017848</td>\n",
       "    </tr>\n",
       "    <tr>\n",
       "      <th>2</th>\n",
       "      <td>rating</td>\n",
       "      <td>0.017848</td>\n",
       "    </tr>\n",
       "    <tr>\n",
       "      <th>3</th>\n",
       "      <td>timestamp</td>\n",
       "      <td>0.017848</td>\n",
       "    </tr>\n",
       "  </tbody>\n",
       "</table>\n",
       "</div>"
      ],
      "text/plain": [
       "     Columns  % of Missing Values\n",
       "0     tmdbId             0.012890\n",
       "1     userId             0.017848\n",
       "2     rating             0.017848\n",
       "3  timestamp             0.017848"
      ]
     },
     "execution_count": 111,
     "metadata": {},
     "output_type": "execute_result"
    }
   ],
   "source": [
    "# Calculate the percentage of missing values in each column of the DataFrame\n",
    "missing_percentage = df.isna().mean() * 100\n",
    "\n",
    "# Filter out columns with no missing values\n",
    "missing_percentage = missing_percentage[missing_percentage > 0]\n",
    "\n",
    "# Create a DataFrame to display the columns and their percentage of missing values\n",
    "missing_table = pd.DataFrame({\n",
    "    'Columns': missing_percentage.index,\n",
    "    '% of Missing Values': missing_percentage.values\n",
    "})\n",
    "\n",
    "# Print a header for the missing values table\n",
    "print(\"Percentage of Missing Values\")\n",
    "\n",
    "# Display the DataFrame with the missing values information\n",
    "missing_table\n"
   ]
  },
  {
   "cell_type": "code",
   "execution_count": 112,
   "metadata": {},
   "outputs": [],
   "source": [
    "# dropped all the missing values in tmdbId,userId_x,timestamp_x,userId_y,tag,timestamp_y columns\n",
    "# \tmovieId\ttitle\tgenres\timdbId\ttmdbId\tuserId\trating\ttimestamp\tuserId_tags\ttag\ttimestamp_tags\n",
    "\n",
    "df.dropna(subset = ['tmdbId', 'userId','timestamp','rating'], inplace=True)"
   ]
  },
  {
   "cell_type": "code",
   "execution_count": 113,
   "metadata": {},
   "outputs": [
    {
     "name": "stdout",
     "output_type": "stream",
     "text": [
      "The movieId column has 0 missing values\n",
      "The title column has 0 missing values\n",
      "The genres column has 0 missing values\n",
      "The imdbId column has 0 missing values\n",
      "The tmdbId column has 0 missing values\n",
      "The userId column has 0 missing values\n",
      "The rating column has 0 missing values\n",
      "The timestamp column has 0 missing values\n"
     ]
    }
   ],
   "source": [
    "# Calculate the number of missing values in each column of the DataFrame\n",
    "missing_values1 = df.isna().sum()\n",
    "\n",
    "# Iterate through each column and the number of missing values\n",
    "for column, count in missing_values1.items():\n",
    "    # Print a message for each column that has missing values, along with the count\n",
    "    print(f\"The {column} column has {count} missing values\")\n"
   ]
  },
  {
   "cell_type": "markdown",
   "metadata": {},
   "source": [
    "#### Handling duplicates:"
   ]
  },
  {
   "cell_type": "code",
   "execution_count": 114,
   "metadata": {},
   "outputs": [
    {
     "name": "stdout",
     "output_type": "stream",
     "text": [
      "The DataFrame has 0 duplicated rows.\n"
     ]
    }
   ],
   "source": [
    "# Calculate the number of duplicated rows in the DataFrame\n",
    "duplicated_rows = df.duplicated().sum()\n",
    "\n",
    "# Print the number of duplicated rows\n",
    "print(f'The DataFrame has {duplicated_rows} duplicated rows.')\n"
   ]
  },
  {
   "cell_type": "markdown",
   "metadata": {},
   "source": [
    "#### Confirm data types:"
   ]
  },
  {
   "cell_type": "code",
   "execution_count": 115,
   "metadata": {
    "scrolled": false
   },
   "outputs": [
    {
     "name": "stdout",
     "output_type": "stream",
     "text": [
      "<class 'pandas.core.frame.DataFrame'>\n",
      "Index: 100823 entries, 0 to 9741\n",
      "Data columns (total 8 columns):\n",
      " #   Column     Non-Null Count   Dtype  \n",
      "---  ------     --------------   -----  \n",
      " 0   movieId    100823 non-null  int64  \n",
      " 1   title      100823 non-null  object \n",
      " 2   genres     100823 non-null  object \n",
      " 3   imdbId     100823 non-null  int64  \n",
      " 4   tmdbId     100823 non-null  float64\n",
      " 5   userId     100823 non-null  float64\n",
      " 6   rating     100823 non-null  float64\n",
      " 7   timestamp  100823 non-null  float64\n",
      "dtypes: float64(4), int64(2), object(2)\n",
      "memory usage: 6.9+ MB\n"
     ]
    }
   ],
   "source": [
    "df.info()"
   ]
  },
  {
   "cell_type": "code",
   "execution_count": 116,
   "metadata": {},
   "outputs": [
    {
     "name": "stdout",
     "output_type": "stream",
     "text": [
      "<class 'pandas.core.frame.DataFrame'>\n",
      "Index: 100823 entries, 0 to 9741\n",
      "Data columns (total 8 columns):\n",
      " #   Column     Non-Null Count   Dtype  \n",
      "---  ------     --------------   -----  \n",
      " 0   movieId    100823 non-null  int64  \n",
      " 1   title      100823 non-null  object \n",
      " 2   genres     100823 non-null  object \n",
      " 3   imdbId     100823 non-null  int64  \n",
      " 4   tmdbId     100823 non-null  object \n",
      " 5   userId     100823 non-null  object \n",
      " 6   rating     100823 non-null  float64\n",
      " 7   timestamp  100823 non-null  float64\n",
      "dtypes: float64(2), int64(2), object(4)\n",
      "memory usage: 6.9+ MB\n"
     ]
    }
   ],
   "source": [
    "# Converting user IDs and tmdbId to object data type\n",
    "df[['userId', 'tmdbId']] = df[['userId', 'tmdbId']].astype('object')\n",
    "df.info()"
   ]
  },
  {
   "cell_type": "markdown",
   "metadata": {},
   "source": [
    "#### Handling Outliers"
   ]
  },
  {
   "cell_type": "code",
   "execution_count": 117,
   "metadata": {},
   "outputs": [
    {
     "data": {
      "text/plain": [
       "rating\n",
       "4.0       26816\n",
       "3.0       20044\n",
       "5.0       13209\n",
       "3.5       13134\n",
       "4.5        8551\n",
       "2.0        7550\n",
       "2.5        5550\n",
       "1.0        2811\n",
       "1.5        1791\n",
       "0.5        1367\n",
       "Name: count, dtype: int64"
      ]
     },
     "execution_count": 117,
     "metadata": {},
     "output_type": "execute_result"
    }
   ],
   "source": [
    "# OUTLIERS IN RATING COLUMN\n",
    "df.value_counts(['rating'])"
   ]
  },
  {
   "cell_type": "code",
   "execution_count": 118,
   "metadata": {},
   "outputs": [
    {
     "data": {
      "image/png": "[encoded data removed]",
      "text/plain": [
       "<Figure size 1000x600 with 1 Axes>"
      ]
     },
     "metadata": {},
     "output_type": "display_data"
    },
    {
     "name": "stdout",
     "output_type": "stream",
     "text": [
      "The maximum rating is 5.0\n",
      "The minimum rating is 0.5\n"
     ]
    }
   ],
   "source": [
    "import matplotlib.pyplot as plt\n",
    "import seaborn as sns\n",
    "\n",
    "# Create a box plot to visualize outliers in the 'rating' column\n",
    "plt.figure(figsize=(10, 6))\n",
    "sns.boxplot(y=df['rating'])\n",
    "plt.title('Box Plot of Rating Outliers', fontsize=15, pad=10)\n",
    "plt.ylabel('Rating')\n",
    "plt.grid(True)\n",
    "plt.show()\n",
    "\n",
    "# Calculate the maximum and minimum ratings\n",
    "max_rating = df['rating'].max()\n",
    "min_rating = df['rating'].min()\n",
    "\n",
    "# Print the maximum and minimum ratings\n",
    "print(f\"The maximum rating is {max_rating}\")\n",
    "print(f\"The minimum rating is {min_rating}\")\n"
   ]
  },
  {
   "cell_type": "markdown",
   "metadata": {},
   "source": [
    "The aim of this file is to analyze the distribution of movie ratings in your dataset. Here's a summary of its objectives:\n",
    "\n",
    "Visualize Rating Distribution:\n",
    "\n",
    "Box Plot: Create a box plot to visualize the distribution of ratings and identify any outliers. A box plot helps in understanding the spread of the data, the central tendency, and the presence of extreme values or outliers.\n",
    "Calculate Rating Extremes:\n",
    "\n",
    "Maximum and Minimum Ratings: Calculate and display the highest and lowest ratings in the dataset. This provides insights into the range of ratings given by users and helps in understanding the variability in the data.\n",
    "Overall, the file aims to provide both a graphical and numerical summary of the rating data, which can be useful for further analysis and improving the recommendation system"
   ]
  },
  {
   "cell_type": "markdown",
   "metadata": {},
   "source": [
    "### Exploratory Data Analysis"
   ]
  },
  {
   "cell_type": "markdown",
   "metadata": {},
   "source": [
    "## Univariate"
   ]
  },
  {
   "cell_type": "code",
   "execution_count": 119,
   "metadata": {},
   "outputs": [
    {
     "data": {
      "image/png": "[encoded data removed]",
      "text/plain": [
       "<Figure size 1000x600 with 1 Axes>"
      ]
     },
     "metadata": {},
     "output_type": "display_data"
    },
    {
     "data": {
      "image/png": "[encoded data removed]",
      "text/plain": [
       "<Figure size 1200x600 with 1 Axes>"
      ]
     },
     "metadata": {},
     "output_type": "display_data"
    }
   ],
   "source": [
    "\n",
    "# Distribution of ratings\n",
    "plt.figure(figsize=(10, 6))\n",
    "sns.countplot(x='rating', data=df)\n",
    "plt.title('Histogram showing Ratings')\n",
    "plt.show()\n",
    "\n",
    "# Number of ratings per movie\n",
    "ratings_per_movie = df.groupby('movieId')['rating'].count().reset_index()\n",
    "plt.figure(figsize=(12, 6))\n",
    "plt.hist(ratings_per_movie['rating'], bins=50)\n",
    "plt.title('Number of Ratings per Movie')\n",
    "plt.xlabel('Number of Ratings')\n",
    "plt.ylabel('Frequency')\n",
    "plt.show()\n"
   ]
  },
  {
   "cell_type": "markdown",
   "metadata": {},
   "source": [
    "The majority of ratings are clustered around the higher end of the scale, particularly around 4.0, indicating that users tend to rate movies positively. There are fewer low ratings, suggesting that either the movies are generally well-received, or users are more generous with their ratings. This kind of analysis is crucial for understanding user behavior and preferences, which is essential for building effective recommendation systems."
   ]
  },
  {
   "cell_type": "code",
   "execution_count": 120,
   "metadata": {
    "scrolled": true
   },
   "outputs": [
    {
     "data": {
      "image/png": "[encoded data removed]",
      "text/plain": [
       "<Figure size 1200x600 with 1 Axes>"
      ]
     },
     "metadata": {},
     "output_type": "display_data"
    }
   ],
   "source": [
    "\n",
    "ratings = data[\"ratings\"]\n",
    "\n",
    "# Convert timestamp to datetime\n",
    "ratings['timestamp'] = pd.to_datetime(ratings['timestamp'], unit='s')\n",
    "\n",
    "# Create a new DataFrame with monthly counts of ratings\n",
    "monthly_ratings = ratings.set_index('timestamp').resample('M').size().reset_index(name='count')\n",
    "\n",
    "# Plot the number of ratings over time using a line plot with a different color\n",
    "plt.figure(figsize=(12, 6))\n",
    "sns.lineplot(x='timestamp', y='count', data=monthly_ratings, color='teal')\n",
    "plt.title('Number of Ratings vs Time', fontsize=15)\n",
    "plt.xlabel('Time')\n",
    "plt.ylabel('Number of Ratings')\n",
    "plt.grid(True)\n",
    "plt.show()\n"
   ]
  },
  {
   "cell_type": "markdown",
   "metadata": {},
   "source": [
    "The aim of this code is to visualize the trend of the number of ratings over time. By converting timestamps to datetime, aggregating ratings by month, and plotting the results, it helps in understanding how the volume of ratings has changed throughout the dataset."
   ]
  },
  {
   "cell_type": "code",
   "execution_count": 121,
   "metadata": {},
   "outputs": [
    {
     "name": "stdout",
     "output_type": "stream",
     "text": [
      "Requirement already satisfied: wordcloud in c:\\users\\alus\\appdata\\local\\programs\\python\\python312\\lib\\site-packages (1.9.3)\n",
      "Requirement already satisfied: numpy>=1.6.1 in c:\\users\\alus\\appdata\\local\\programs\\python\\python312\\lib\\site-packages (from wordcloud) (1.26.4)\n",
      "Requirement already satisfied: pillow in c:\\users\\alus\\appdata\\local\\programs\\python\\python312\\lib\\site-packages (from wordcloud) (10.3.0)\n",
      "Requirement already satisfied: matplotlib in c:\\users\\alus\\appdata\\local\\programs\\python\\python312\\lib\\site-packages (from wordcloud) (3.8.4)\n",
      "Requirement already satisfied: contourpy>=1.0.1 in c:\\users\\alus\\appdata\\local\\programs\\python\\python312\\lib\\site-packages (from matplotlib->wordcloud) (1.2.1)\n",
      "Requirement already satisfied: cycler>=0.10 in c:\\users\\alus\\appdata\\local\\programs\\python\\python312\\lib\\site-packages (from matplotlib->wordcloud) (0.12.1)\n",
      "Requirement already satisfied: fonttools>=4.22.0 in c:\\users\\alus\\appdata\\local\\programs\\python\\python312\\lib\\site-packages (from matplotlib->wordcloud) (4.51.0)\n",
      "Requirement already satisfied: kiwisolver>=1.3.1 in c:\\users\\alus\\appdata\\local\\programs\\python\\python312\\lib\\site-packages (from matplotlib->wordcloud) (1.4.5)\n",
      "Requirement already satisfied: packaging>=20.0 in c:\\users\\alus\\appdata\\local\\programs\\python\\python312\\lib\\site-packages (from matplotlib->wordcloud) (23.2)\n",
      "Requirement already satisfied: pyparsing>=2.3.1 in c:\\users\\alus\\appdata\\local\\programs\\python\\python312\\lib\\site-packages (from matplotlib->wordcloud) (3.1.2)\n",
      "Requirement already satisfied: python-dateutil>=2.7 in c:\\users\\alus\\appdata\\roaming\\python\\python312\\site-packages (from matplotlib->wordcloud) (2.9.0.post0)\n",
      "Requirement already satisfied: six>=1.5 in c:\\users\\alus\\appdata\\local\\programs\\python\\python312\\lib\\site-packages (from python-dateutil>=2.7->matplotlib->wordcloud) (1.16.0)\n"
     ]
    },
    {
     "name": "stderr",
     "output_type": "stream",
     "text": [
      "\n",
      "[notice] A new release of pip is available: 24.1.2 -> 24.2\n",
      "[notice] To update, run: python.exe -m pip install --upgrade pip\n"
     ]
    }
   ],
   "source": [
    "!pip install wordcloud"
   ]
  },
  {
   "cell_type": "code",
   "execution_count": 209,
   "metadata": {},
   "outputs": [
    {
     "data": {
      "image/png": "[encoded data removed]",
      "text/plain": [
       "<Figure size 1000x500 with 1 Axes>"
      ]
     },
     "metadata": {},
     "output_type": "display_data"
    }
   ],
   "source": [
    "from wordcloud import WordCloud\n",
    "\n",
    "# Generate a word cloud for movie genres\n",
    "genre_wordcloud = WordCloud(width=800, height=400, background_color='black').generate(' '.join(df['genres']))\n",
    "\n",
    "plt.figure(figsize=(10, 5))\n",
    "plt.imshow(genre_wordcloud, interpolation='bilinear')\n",
    "plt.axis('off')\n",
    "plt.title('Word Cloud for Movie Genres')\n",
    "plt.show()"
   ]
  },
  {
   "cell_type": "markdown",
   "metadata": {},
   "source": [
    "The aim of this code is to create a visual representation of movie genres using a word cloud. It highlights the most frequently occurring genres in the dataset, with more common genres appearing larger, allowing for a quick and intuitive understanding of genre distribution."
   ]
  },
  {
   "cell_type": "code",
   "execution_count": 123,
   "metadata": {},
   "outputs": [
    {
     "data": {
      "image/png": "[encoded data removed]",
      "text/plain": [
       "<Figure size 1200x600 with 1 Axes>"
      ]
     },
     "metadata": {},
     "output_type": "display_data"
    }
   ],
   "source": [
    "# Boxplot of ratings by movie\n",
    "plt.figure(figsize=(12, 6))\n",
    "sns.boxplot(x='rating', data=df)\n",
    "plt.title('Distribution of Ratings by Movie')\n",
    "\n",
    "plt.xlabel('Rating')\n",
    "plt.show()"
   ]
  },
  {
   "cell_type": "markdown",
   "metadata": {},
   "source": [
    "The goal of this code is to visualize the distribution of movie ratings using a boxplot. It helps in understanding the spread, central tendency, and potential outliers in the ratings data across different movies."
   ]
  },
  {
   "cell_type": "code",
   "execution_count": 124,
   "metadata": {},
   "outputs": [
    {
     "data": {
      "image/png": "[encoded data removed]",
      "text/plain": [
       "<Figure size 800x600 with 1 Axes>"
      ]
     },
     "metadata": {},
     "output_type": "display_data"
    }
   ],
   "source": [
    "# Creating a lineplot of the 'genre' column\n",
    "\n",
    "fig, ax = plt.subplots(figsize=(8,6))\n",
    "\n",
    "genre_counts = df['genres'].value_counts()\n",
    "\n",
    "# plot the lineplot\n",
    "genre_counts.plot()\n",
    "\n",
    "plt.xticks(rotation=45)\n",
    "\n",
    "#Set the axis labels and title\n",
    "plt.xlabel('Genre')\n",
    "plt.ylabel('Count')\n",
    "plt.title('Distribution of Movie Genres')\n",
    "\n",
    "# Show the plot\n",
    "plt.show();"
   ]
  },
  {
   "cell_type": "code",
   "execution_count": 125,
   "metadata": {},
   "outputs": [
    {
     "data": {
      "image/png": "[encoded data removed]",
      "text/plain": [
       "<Figure size 1200x600 with 1 Axes>"
      ]
     },
     "metadata": {},
     "output_type": "display_data"
    }
   ],
   "source": [
    "# count of movies in each genre\n",
    "genre_counts = df['genres'].str.split('|', expand=True).stack().value_counts()\n",
    "plt.figure(figsize=(12, 6))\n",
    "genre_counts.plot(kind='bar', color='skyblue')\n",
    "plt.title('Number of Movies in Each Genre')\n",
    "plt.xlabel('Genre')\n",
    "plt.ylabel('Number of Movies')\n",
    "plt.show()"
   ]
  },
  {
   "cell_type": "markdown",
   "metadata": {},
   "source": [
    "This analysis helps us understand which genres are more prevalent in the dataset, providing insights that can be useful for further analysis or recommendations.\n"
   ]
  },
  {
   "cell_type": "code",
   "execution_count": 176,
   "metadata": {},
   "outputs": [
    {
     "data": {
      "image/png": "[encoded data removed]",
      "text/plain": [
       "<Figure size 1200x800 with 1 Axes>"
      ]
     },
     "metadata": {},
     "output_type": "display_data"
    }
   ],
   "source": [
    "\n",
    "# Top N most rated movies\n",
    "top_rated_movies = df.groupby('movieId')['rating'].count().sort_values(ascending=False).head(10)\n",
    "top_rated_movies = pd.merge(top_rated_movies, df[['movieId', 'title']], on='movieId', how='left')\n",
    "\n",
    "# Plotting a horizontal bar chart\n",
    "plt.figure(figsize=(12, 8))\n",
    "sns.barplot(x='rating', y='title', data=top_rated_movies, palette='plasma')\n",
    "plt.title('Top 10 Most Rated Movies')\n",
    "plt.xlabel('Number of Ratings')\n",
    "plt.ylabel('Movie Title')\n",
    "plt.gca().invert_yaxis()  # Invert y-axis to have the highest ratings on top\n",
    "plt.show()\n"
   ]
  },
  {
   "cell_type": "markdown",
   "metadata": {},
   "source": [
    "Your code snippet for identifying and visualizing the top 10 most rated movies is almost correct, but it has a small issue: it will duplicate titles when merging because df[['movieId', 'title']] may contain duplicate rows. Here's a refined version:"
   ]
  },
  {
   "cell_type": "markdown",
   "metadata": {},
   "source": [
    "## Generating the Recommender System"
   ]
  },
  {
   "cell_type": "markdown",
   "metadata": {},
   "source": [
    "It's time to now come up with a recommender system, and for that there are a few choices we have as listed below:"
   ]
  },
  {
   "cell_type": "markdown",
   "metadata": {},
   "source": [
    "## 1. Personalized Approach\n",
    "\n",
    "To offer a more tailored user experience, we opt for a personalized recommendation system rather than a generic one. The available methods for personalization include:\n",
    "\n",
    "- **Content-Based Filtering:** \n",
    "  - Recommends movies based on their features, such as genres and descriptions.\n",
    "\n",
    "- **Collaborative Filtering:**\n",
    "  - **Memory-Based (KNN):** Utilizes user-item interactions to recommend movies based on similarities between users or items.\n",
    "  - **Model-Based (Matrix Factorization):**\n",
    "    - **Singular Value Decomposition (SVD):** Decomposes the user-item interaction matrix into latent factors for recommendations.\n",
    "    - **Alternating Least Squares (ALS):** Another matrix factorization technique for generating recommendations.\n",
    "\n",
    "## 2. Unpersonalized Approach\n",
    "\n",
    "Alternatively, we could recommend the most popular movies across all users. However, this method lacks the customization and specific relevance that a personalized system provides.\n",
    "\n",
    "## Objective\n",
    "\n",
    "The goal is to experiment with various recommendation methods and determine which system performs best.\n"
   ]
  },
  {
   "cell_type": "markdown",
   "metadata": {},
   "source": [
    "### Content-based filtering:"
   ]
  },
  {
   "cell_type": "markdown",
   "metadata": {},
   "source": [
    "In the context of this data-set, a content-based recommendation system is one where we recommend a movie similar to one a user likes. We will use the genres for the content-based filtering which is shown below:"
   ]
  },
  {
   "cell_type": "code",
   "execution_count": 177,
   "metadata": {},
   "outputs": [
    {
     "data": {
      "text/plain": [
       "0       Adventure|Animation|Children|Comedy|Fantasy\n",
       "0       Adventure|Animation|Children|Comedy|Fantasy\n",
       "0       Adventure|Animation|Children|Comedy|Fantasy\n",
       "0       Adventure|Animation|Children|Comedy|Fantasy\n",
       "0       Adventure|Animation|Children|Comedy|Fantasy\n",
       "                           ...                     \n",
       "9737                Action|Animation|Comedy|Fantasy\n",
       "9738                       Animation|Comedy|Fantasy\n",
       "9739                                          Drama\n",
       "9740                               Action|Animation\n",
       "9741                                         Comedy\n",
       "Name: genres, Length: 100823, dtype: object"
      ]
     },
     "execution_count": 177,
     "metadata": {},
     "output_type": "execute_result"
    }
   ],
   "source": [
    "# genres in the dataframe\n",
    "df[\"genres\"]"
   ]
  },
  {
   "cell_type": "markdown",
   "metadata": {},
   "source": [
    "There is a slight problem though. After merging our dataframe with the ratings, the dataframe expanded from 9742 to 100000+ records, which will present a slight problem with computation."
   ]
  },
  {
   "cell_type": "code",
   "execution_count": 178,
   "metadata": {},
   "outputs": [
    {
     "data": {
      "text/plain": [
       "(100823, 8)"
      ]
     },
     "execution_count": 178,
     "metadata": {},
     "output_type": "execute_result"
    }
   ],
   "source": [
    "df.shape"
   ]
  },
  {
   "cell_type": "markdown",
   "metadata": {},
   "source": [
    "So this leads us to use the dataset without the ratings and tags, which we stored in a variable called __merged_movies_links__.\n",
    "\n",
    "#### Procedure:\n",
    "- We shall use the __SciKit Learn's TfidfVectorizer__, which is a class from scikit-learn, a popular machine learning library in Python, used for converting a collection of raw text documents into a matrix of TF-IDF (Term Frequency-Inverse Document Frequency) features. TF-IDF is a numerical statistic that reflects the importance of a word in a document relative to a collection of documents.\n",
    "    - We shall then fit the __genres__ into the TfidfVectorizer which yields a sparse matrix.\n",
    "- To compute a similarity matrix, we then use a sigmoid kernel, which computes the similarity of movies given the index.\n",
    "\n",
    "__Note__: As a safety measure, we fill in any NaN values with an empty text to enable the machine learning algorithm to work well"
   ]
  },
  {
   "cell_type": "code",
   "execution_count": 179,
   "metadata": {},
   "outputs": [
    {
     "data": {
      "text/plain": [
       "0    Adventure, Animation, Children, Comedy, Fantasy\n",
       "1                       Adventure, Children, Fantasy\n",
       "2                                    Comedy, Romance\n",
       "3                             Comedy, Drama, Romance\n",
       "4                                             Comedy\n",
       "Name: genres, dtype: object"
      ]
     },
     "execution_count": 179,
     "metadata": {},
     "output_type": "execute_result"
    }
   ],
   "source": [
    "from sklearn.feature_extraction.text import TfidfVectorizer\n",
    "from sklearn.metrics.pairwise import sigmoid_kernel\n",
    "\n",
    "\n",
    "tfv = TfidfVectorizer(min_df=3,  max_features=None, \n",
    "            strip_accents='unicode', analyzer='word',token_pattern=r'\\w{1,}',\n",
    "            ngram_range=(1, 3),\n",
    "            stop_words = 'english')\n",
    "\n",
    "# Filling NaNs with empty string\n",
    "merged_movies_links['genres'] = merged_movies_links['genres'].fillna('')\n",
    "# replace the pipes '|' from the genres with 'commas'\n",
    "merged_movies_links['genres'] = merged_movies_links['genres'].map(lambda x: \", \".join(x.split(\"|\")))\n",
    "# genres\n",
    "merged_movies_links['genres'].head()"
   ]
  },
  {
   "cell_type": "code",
   "execution_count": 180,
   "metadata": {},
   "outputs": [
    {
     "data": {
      "text/plain": [
       "<9742x402 sparse matrix of type '<class 'numpy.float64'>'\n",
       "\twith 42867 stored elements in Compressed Sparse Row format>"
      ]
     },
     "execution_count": 180,
     "metadata": {},
     "output_type": "execute_result"
    }
   ],
   "source": [
    "tfv_matrix = tfv.fit_transform(merged_movies_links['genres'])\n",
    "tfv_matrix"
   ]
  },
  {
   "cell_type": "code",
   "execution_count": 181,
   "metadata": {},
   "outputs": [],
   "source": [
    "# Compute the sigmoid kernel\n",
    "sig = sigmoid_kernel(tfv_matrix, tfv_matrix)"
   ]
  },
  {
   "cell_type": "code",
   "execution_count": 182,
   "metadata": {},
   "outputs": [
    {
     "name": "stdout",
     "output_type": "stream",
     "text": [
      "length of the similarity matrix: 9742\n",
      "[0.76263689 0.76180765 0.76164424 ... 0.76159416 0.76172628 0.76173151]\n"
     ]
    }
   ],
   "source": [
    "print(\"length of the similarity matrix:\", len(sig))\n",
    "print(sig[0])"
   ]
  },
  {
   "cell_type": "markdown",
   "metadata": {},
   "source": [
    "We create a reverse map of the movies titles, which helps us get a movie index just by the name as shown:"
   ]
  },
  {
   "cell_type": "code",
   "execution_count": 183,
   "metadata": {},
   "outputs": [
    {
     "data": {
      "text/plain": [
       "title\n",
       "Toy Story (1995)                                0\n",
       "Jumanji (1995)                                  1\n",
       "Grumpier Old Men (1995)                         2\n",
       "Waiting to Exhale (1995)                        3\n",
       "Father of the Bride Part II (1995)              4\n",
       "                                             ... \n",
       "Black Butler: Book of the Atlantic (2017)    9737\n",
       "No Game No Life: Zero (2017)                 9738\n",
       "Flint (2017)                                 9739\n",
       "Bungo Stray Dogs: Dead Apple (2018)          9740\n",
       "Andrew Dice Clay: Dice Rules (1991)          9741\n",
       "Length: 9742, dtype: int64"
      ]
     },
     "execution_count": 183,
     "metadata": {},
     "output_type": "execute_result"
    }
   ],
   "source": [
    "# reverse mapping of indices and movie titles\n",
    "indices = pd.Series(merged_movies_links.index, index=merged_movies_links['title']).drop_duplicates()\n",
    "indices"
   ]
  },
  {
   "cell_type": "code",
   "execution_count": 184,
   "metadata": {},
   "outputs": [
    {
     "data": {
      "text/plain": [
       "9738"
      ]
     },
     "execution_count": 184,
     "metadata": {},
     "output_type": "execute_result"
    }
   ],
   "source": [
    "# test\n",
    "indices['No Game No Life: Zero (2017)']"
   ]
  },
  {
   "cell_type": "code",
   "execution_count": 185,
   "metadata": {},
   "outputs": [
    {
     "data": {
      "text/plain": [
       "[(0, 0.7626368906233343),\n",
       " (1, 0.7618076535093508),\n",
       " (2, 0.7616442356858768),\n",
       " (3, 0.7616291558555321),\n",
       " (4, 0.7617315097208257)]"
      ]
     },
     "execution_count": 185,
     "metadata": {},
     "output_type": "execute_result"
    }
   ],
   "source": [
    "list(enumerate(sig[indices['Toy Story (1995)']]))[:5]"
   ]
  },
  {
   "cell_type": "code",
   "execution_count": 186,
   "metadata": {},
   "outputs": [],
   "source": [
    "def get_title(text, df=df):\n",
    "    \"\"\"Gets movie title matching `text`\n",
    "    returns:\n",
    "        title - title of movie matching the input\n",
    "        genres - the movie's genres \n",
    "    \"\"\"\n",
    "    mask = df['title'].str.contains(text, case=False, regex=False)\n",
    "    title = df.loc[mask, 'title'].head(1).values[0] if any(mask) else None\n",
    "    \n",
    "    if not title:\n",
    "        print(f\"\\n'{text}' does not match any movies. Please try again\")\n",
    "        return None, None\n",
    "\n",
    "    return title, df.loc[mask].head(1)[\"genres\"].values[0]"
   ]
  },
  {
   "cell_type": "code",
   "execution_count": 188,
   "metadata": {},
   "outputs": [
    {
     "name": "stdout",
     "output_type": "stream",
     "text": [
      "('Superman (1978)', 'Action|Adventure|Sci-Fi')\n",
      "\n",
      "('Jumanji (1995)', 'Adventure|Children|Fantasy')\n"
     ]
    }
   ],
   "source": [
    "# test\n",
    "print(get_title(\"Superman (1978)\", df))\n",
    "print()\n",
    "print(get_title(\"Jumanji (1995)\", df))"
   ]
  },
  {
   "cell_type": "code",
   "execution_count": 174,
   "metadata": {},
   "outputs": [
    {
     "name": "stdout",
     "output_type": "stream",
     "text": [
      "Recommendation for Superman (1978)\n",
      "Genres:  Action, Adventure, Sci-Fi\n",
      "only integers, slices (`:`), ellipsis (`...`), numpy.newaxis (`None`) and integer or boolean arrays are valid indices\n"
     ]
    },
    {
     "data": {
      "text/plain": [
       "'⚠ Oops! Something went wrong!'"
      ]
     },
     "execution_count": 174,
     "metadata": {},
     "output_type": "execute_result"
    }
   ],
   "source": [
    "def give_rec(title, sig=sig):\n",
    "    \"\"\"Get the index corresponding to title\"\"\"\n",
    "    try:\n",
    "        # get title\n",
    "        title, genres = get_title(title, merged_movies_links)\n",
    "        \n",
    "        # print the movie title matching the text\n",
    "        if title:\n",
    "            print(f\"Recommendation for {title}\")\n",
    "            print(\"Genres: \", genres)\n",
    "        \n",
    "        idx = indices[title]\n",
    "        \n",
    "        # Get the pairwsie similarity scores \n",
    "        sig_scores = list(enumerate(sig[idx]))\n",
    "\n",
    "        # Sort the movies \n",
    "        sig_scores = sorted(sig_scores, key=lambda x: x[1], reverse=True)\n",
    "\n",
    "        # Scores of the 10 most similar movies\n",
    "        sig_scores = sig_scores[1:11]\n",
    "\n",
    "        # Movie indices\n",
    "        movie_indices = [i[0] for i in sig_scores]\n",
    "\n",
    "        # Top 10 most similar movies\n",
    "        return merged_movies_links.iloc[movie_indices].drop_duplicates()\n",
    "    except Exception as _:\n",
    "        print(_)\n",
    "        return \"⚠ Oops! Something went wrong!\"\n",
    "    \n",
    "    \n",
    "    \n",
    "# test\n",
    "give_rec('superman')"
   ]
  },
  {
   "cell_type": "code",
   "execution_count": 173,
   "metadata": {},
   "outputs": [
    {
     "name": "stdout",
     "output_type": "stream",
     "text": [
      "Recommendation for Tron (1982)\n",
      "Genres:  Action, Adventure, Sci-Fi\n",
      "only integers, slices (`:`), ellipsis (`...`), numpy.newaxis (`None`) and integer or boolean arrays are valid indices\n"
     ]
    },
    {
     "data": {
      "text/plain": [
       "'⚠ Oops! Something went wrong!'"
      ]
     },
     "execution_count": 173,
     "metadata": {},
     "output_type": "execute_result"
    }
   ],
   "source": [
    "give_rec(\"Tron (1982)\")"
   ]
  },
  {
   "cell_type": "markdown",
   "metadata": {},
   "source": [
    "#### Summary of the output:\n",
    "As we can see, the system works for the most part, but it inherently has a few issues:\n",
    "- It only recommends by genre, which is shallow and insufficient, as it doesn't scoop out the patterns deeply embedded in our dataset.\n",
    "- Ratings, which are a high indicator of preference aren't used, so the system is to a degree, not as effective.\n",
    "- Finally, as demonstrated above, the recommendation is somewhat 'rigid', meaning, if a movie's genre is Action, Adventure and Sci-fi, then one can only get a movie with the same exact genres. \n",
    "\n",
    "For a more flexible system which goes deeper into the data-set, we have to use a collaborative filtering approach."
   ]
  },
  {
   "cell_type": "markdown",
   "metadata": {},
   "source": [
    "### Collaborative filtering\n",
    "Collaborative filtering can be user-based or item-based. User-based collaborative filtering recommends items based on the preferences of users with similar tastes, while item-based collaborative filtering recommends items similar to those the user has liked.\n",
    "#### Memory/ Neighbourhood based:\n",
    "- For this, we first create a pivot table, from which we'll derive our sparse matrix: "
   ]
  },
  {
   "cell_type": "code",
   "execution_count": 140,
   "metadata": {},
   "outputs": [
    {
     "data": {
      "text/html": [
       "<div>\n",
       "<style scoped>\n",
       "    .dataframe tbody tr th:only-of-type {\n",
       "        vertical-align: middle;\n",
       "    }\n",
       "\n",
       "    .dataframe tbody tr th {\n",
       "        vertical-align: top;\n",
       "    }\n",
       "\n",
       "    .dataframe thead th {\n",
       "        text-align: right;\n",
       "    }\n",
       "</style>\n",
       "<table border=\"1\" class=\"dataframe\">\n",
       "  <thead>\n",
       "    <tr style=\"text-align: right;\">\n",
       "      <th>userId</th>\n",
       "      <th>1.0</th>\n",
       "      <th>2.0</th>\n",
       "      <th>3.0</th>\n",
       "      <th>4.0</th>\n",
       "      <th>5.0</th>\n",
       "      <th>6.0</th>\n",
       "      <th>7.0</th>\n",
       "      <th>8.0</th>\n",
       "      <th>9.0</th>\n",
       "      <th>10.0</th>\n",
       "      <th>...</th>\n",
       "      <th>601.0</th>\n",
       "      <th>602.0</th>\n",
       "      <th>603.0</th>\n",
       "      <th>604.0</th>\n",
       "      <th>605.0</th>\n",
       "      <th>606.0</th>\n",
       "      <th>607.0</th>\n",
       "      <th>608.0</th>\n",
       "      <th>609.0</th>\n",
       "      <th>610.0</th>\n",
       "    </tr>\n",
       "    <tr>\n",
       "      <th>title</th>\n",
       "      <th></th>\n",
       "      <th></th>\n",
       "      <th></th>\n",
       "      <th></th>\n",
       "      <th></th>\n",
       "      <th></th>\n",
       "      <th></th>\n",
       "      <th></th>\n",
       "      <th></th>\n",
       "      <th></th>\n",
       "      <th></th>\n",
       "      <th></th>\n",
       "      <th></th>\n",
       "      <th></th>\n",
       "      <th></th>\n",
       "      <th></th>\n",
       "      <th></th>\n",
       "      <th></th>\n",
       "      <th></th>\n",
       "      <th></th>\n",
       "      <th></th>\n",
       "    </tr>\n",
       "  </thead>\n",
       "  <tbody>\n",
       "    <tr>\n",
       "      <th>'71 (2014)</th>\n",
       "      <td>0.0</td>\n",
       "      <td>0.0</td>\n",
       "      <td>0.0</td>\n",
       "      <td>0.0</td>\n",
       "      <td>0.0</td>\n",
       "      <td>0.0</td>\n",
       "      <td>0.0</td>\n",
       "      <td>0.0</td>\n",
       "      <td>0.0</td>\n",
       "      <td>0.0</td>\n",
       "      <td>...</td>\n",
       "      <td>0.0</td>\n",
       "      <td>0.0</td>\n",
       "      <td>0.0</td>\n",
       "      <td>0.0</td>\n",
       "      <td>0.0</td>\n",
       "      <td>0.0</td>\n",
       "      <td>0.0</td>\n",
       "      <td>0.0</td>\n",
       "      <td>0.0</td>\n",
       "      <td>4.0</td>\n",
       "    </tr>\n",
       "    <tr>\n",
       "      <th>'Hellboy': The Seeds of Creation (2004)</th>\n",
       "      <td>0.0</td>\n",
       "      <td>0.0</td>\n",
       "      <td>0.0</td>\n",
       "      <td>0.0</td>\n",
       "      <td>0.0</td>\n",
       "      <td>0.0</td>\n",
       "      <td>0.0</td>\n",
       "      <td>0.0</td>\n",
       "      <td>0.0</td>\n",
       "      <td>0.0</td>\n",
       "      <td>...</td>\n",
       "      <td>0.0</td>\n",
       "      <td>0.0</td>\n",
       "      <td>0.0</td>\n",
       "      <td>0.0</td>\n",
       "      <td>0.0</td>\n",
       "      <td>0.0</td>\n",
       "      <td>0.0</td>\n",
       "      <td>0.0</td>\n",
       "      <td>0.0</td>\n",
       "      <td>0.0</td>\n",
       "    </tr>\n",
       "    <tr>\n",
       "      <th>'Round Midnight (1986)</th>\n",
       "      <td>0.0</td>\n",
       "      <td>0.0</td>\n",
       "      <td>0.0</td>\n",
       "      <td>0.0</td>\n",
       "      <td>0.0</td>\n",
       "      <td>0.0</td>\n",
       "      <td>0.0</td>\n",
       "      <td>0.0</td>\n",
       "      <td>0.0</td>\n",
       "      <td>0.0</td>\n",
       "      <td>...</td>\n",
       "      <td>0.0</td>\n",
       "      <td>0.0</td>\n",
       "      <td>0.0</td>\n",
       "      <td>0.0</td>\n",
       "      <td>0.0</td>\n",
       "      <td>0.0</td>\n",
       "      <td>0.0</td>\n",
       "      <td>0.0</td>\n",
       "      <td>0.0</td>\n",
       "      <td>0.0</td>\n",
       "    </tr>\n",
       "    <tr>\n",
       "      <th>'Salem's Lot (2004)</th>\n",
       "      <td>0.0</td>\n",
       "      <td>0.0</td>\n",
       "      <td>0.0</td>\n",
       "      <td>0.0</td>\n",
       "      <td>0.0</td>\n",
       "      <td>0.0</td>\n",
       "      <td>0.0</td>\n",
       "      <td>0.0</td>\n",
       "      <td>0.0</td>\n",
       "      <td>0.0</td>\n",
       "      <td>...</td>\n",
       "      <td>0.0</td>\n",
       "      <td>0.0</td>\n",
       "      <td>0.0</td>\n",
       "      <td>0.0</td>\n",
       "      <td>0.0</td>\n",
       "      <td>0.0</td>\n",
       "      <td>0.0</td>\n",
       "      <td>0.0</td>\n",
       "      <td>0.0</td>\n",
       "      <td>0.0</td>\n",
       "    </tr>\n",
       "    <tr>\n",
       "      <th>'Til There Was You (1997)</th>\n",
       "      <td>0.0</td>\n",
       "      <td>0.0</td>\n",
       "      <td>0.0</td>\n",
       "      <td>0.0</td>\n",
       "      <td>0.0</td>\n",
       "      <td>0.0</td>\n",
       "      <td>0.0</td>\n",
       "      <td>0.0</td>\n",
       "      <td>0.0</td>\n",
       "      <td>0.0</td>\n",
       "      <td>...</td>\n",
       "      <td>0.0</td>\n",
       "      <td>0.0</td>\n",
       "      <td>0.0</td>\n",
       "      <td>0.0</td>\n",
       "      <td>0.0</td>\n",
       "      <td>0.0</td>\n",
       "      <td>0.0</td>\n",
       "      <td>0.0</td>\n",
       "      <td>0.0</td>\n",
       "      <td>0.0</td>\n",
       "    </tr>\n",
       "  </tbody>\n",
       "</table>\n",
       "<p>5 rows × 610 columns</p>\n",
       "</div>"
      ],
      "text/plain": [
       "userId                                   1.0    2.0    3.0    4.0    5.0    \\\n",
       "title                                                                        \n",
       "'71 (2014)                                 0.0    0.0    0.0    0.0    0.0   \n",
       "'Hellboy': The Seeds of Creation (2004)    0.0    0.0    0.0    0.0    0.0   \n",
       "'Round Midnight (1986)                     0.0    0.0    0.0    0.0    0.0   \n",
       "'Salem's Lot (2004)                        0.0    0.0    0.0    0.0    0.0   \n",
       "'Til There Was You (1997)                  0.0    0.0    0.0    0.0    0.0   \n",
       "\n",
       "userId                                   6.0    7.0    8.0    9.0    10.0   \\\n",
       "title                                                                        \n",
       "'71 (2014)                                 0.0    0.0    0.0    0.0    0.0   \n",
       "'Hellboy': The Seeds of Creation (2004)    0.0    0.0    0.0    0.0    0.0   \n",
       "'Round Midnight (1986)                     0.0    0.0    0.0    0.0    0.0   \n",
       "'Salem's Lot (2004)                        0.0    0.0    0.0    0.0    0.0   \n",
       "'Til There Was You (1997)                  0.0    0.0    0.0    0.0    0.0   \n",
       "\n",
       "userId                                   ...  601.0  602.0  603.0  604.0  \\\n",
       "title                                    ...                               \n",
       "'71 (2014)                               ...    0.0    0.0    0.0    0.0   \n",
       "'Hellboy': The Seeds of Creation (2004)  ...    0.0    0.0    0.0    0.0   \n",
       "'Round Midnight (1986)                   ...    0.0    0.0    0.0    0.0   \n",
       "'Salem's Lot (2004)                      ...    0.0    0.0    0.0    0.0   \n",
       "'Til There Was You (1997)                ...    0.0    0.0    0.0    0.0   \n",
       "\n",
       "userId                                   605.0  606.0  607.0  608.0  609.0  \\\n",
       "title                                                                        \n",
       "'71 (2014)                                 0.0    0.0    0.0    0.0    0.0   \n",
       "'Hellboy': The Seeds of Creation (2004)    0.0    0.0    0.0    0.0    0.0   \n",
       "'Round Midnight (1986)                     0.0    0.0    0.0    0.0    0.0   \n",
       "'Salem's Lot (2004)                        0.0    0.0    0.0    0.0    0.0   \n",
       "'Til There Was You (1997)                  0.0    0.0    0.0    0.0    0.0   \n",
       "\n",
       "userId                                   610.0  \n",
       "title                                           \n",
       "'71 (2014)                                 4.0  \n",
       "'Hellboy': The Seeds of Creation (2004)    0.0  \n",
       "'Round Midnight (1986)                     0.0  \n",
       "'Salem's Lot (2004)                        0.0  \n",
       "'Til There Was You (1997)                  0.0  \n",
       "\n",
       "[5 rows x 610 columns]"
      ]
     },
     "execution_count": 140,
     "metadata": {},
     "output_type": "execute_result"
    }
   ],
   "source": [
    "## First lets create a Pivot matrix\n",
    "knnrc_df=df.pivot_table(index='title',columns='userId',values='rating').fillna(0)\n",
    "knnrc_df.head()"
   ]
  },
  {
   "cell_type": "code",
   "execution_count": 141,
   "metadata": {},
   "outputs": [
    {
     "data": {
      "text/plain": [
       "(9713, 610)"
      ]
     },
     "execution_count": 141,
     "metadata": {},
     "output_type": "execute_result"
    }
   ],
   "source": [
    "knnrc_df.shape"
   ]
  },
  {
   "cell_type": "code",
   "execution_count": 142,
   "metadata": {},
   "outputs": [
    {
     "data": {
      "text/html": [
       "<style>#sk-container-id-2 {\n",
       "  /* Definition of color scheme common for light and dark mode */\n",
       "  --sklearn-color-text: black;\n",
       "  --sklearn-color-line: gray;\n",
       "  /* Definition of color scheme for unfitted estimators */\n",
       "  --sklearn-color-unfitted-level-0: #fff5e6;\n",
       "  --sklearn-color-unfitted-level-1: #f6e4d2;\n",
       "  --sklearn-color-unfitted-level-2: #ffe0b3;\n",
       "  --sklearn-color-unfitted-level-3: chocolate;\n",
       "  /* Definition of color scheme for fitted estimators */\n",
       "  --sklearn-color-fitted-level-0: #f0f8ff;\n",
       "  --sklearn-color-fitted-level-1: #d4ebff;\n",
       "  --sklearn-color-fitted-level-2: #b3dbfd;\n",
       "  --sklearn-color-fitted-level-3: cornflowerblue;\n",
       "\n",
       "  /* Specific color for light theme */\n",
       "  --sklearn-color-text-on-default-background: var(--sg-text-color, var(--theme-code-foreground, var(--jp-content-font-color1, black)));\n",
       "  --sklearn-color-background: var(--sg-background-color, var(--theme-background, var(--jp-layout-color0, white)));\n",
       "  --sklearn-color-border-box: var(--sg-text-color, var(--theme-code-foreground, var(--jp-content-font-color1, black)));\n",
       "  --sklearn-color-icon: #696969;\n",
       "\n",
       "  @media (prefers-color-scheme: dark) {\n",
       "    /* Redefinition of color scheme for dark theme */\n",
       "    --sklearn-color-text-on-default-background: var(--sg-text-color, var(--theme-code-foreground, var(--jp-content-font-color1, white)));\n",
       "    --sklearn-color-background: var(--sg-background-color, var(--theme-background, var(--jp-layout-color0, #111)));\n",
       "    --sklearn-color-border-box: var(--sg-text-color, var(--theme-code-foreground, var(--jp-content-font-color1, white)));\n",
       "    --sklearn-color-icon: #878787;\n",
       "  }\n",
       "}\n",
       "\n",
       "#sk-container-id-2 {\n",
       "  color: var(--sklearn-color-text);\n",
       "}\n",
       "\n",
       "#sk-container-id-2 pre {\n",
       "  padding: 0;\n",
       "}\n",
       "\n",
       "#sk-container-id-2 input.sk-hidden--visually {\n",
       "  border: 0;\n",
       "  clip: rect(1px 1px 1px 1px);\n",
       "  clip: rect(1px, 1px, 1px, 1px);\n",
       "  height: 1px;\n",
       "  margin: -1px;\n",
       "  overflow: hidden;\n",
       "  padding: 0;\n",
       "  position: absolute;\n",
       "  width: 1px;\n",
       "}\n",
       "\n",
       "#sk-container-id-2 div.sk-dashed-wrapped {\n",
       "  border: 1px dashed var(--sklearn-color-line);\n",
       "  margin: 0 0.4em 0.5em 0.4em;\n",
       "  box-sizing: border-box;\n",
       "  padding-bottom: 0.4em;\n",
       "  background-color: var(--sklearn-color-background);\n",
       "}\n",
       "\n",
       "#sk-container-id-2 div.sk-container {\n",
       "  /* jupyter's `normalize.less` sets `[hidden] { display: none; }`\n",
       "     but bootstrap.min.css set `[hidden] { display: none !important; }`\n",
       "     so we also need the `!important` here to be able to override the\n",
       "     default hidden behavior on the sphinx rendered scikit-learn.org.\n",
       "     See: https://github.com/scikit-learn/scikit-learn/issues/21755 */\n",
       "  display: inline-block !important;\n",
       "  position: relative;\n",
       "}\n",
       "\n",
       "#sk-container-id-2 div.sk-text-repr-fallback {\n",
       "  display: none;\n",
       "}\n",
       "\n",
       "div.sk-parallel-item,\n",
       "div.sk-serial,\n",
       "div.sk-item {\n",
       "  /* draw centered vertical line to link estimators */\n",
       "  background-image: linear-gradient(var(--sklearn-color-text-on-default-background), var(--sklearn-color-text-on-default-background));\n",
       "  background-size: 2px 100%;\n",
       "  background-repeat: no-repeat;\n",
       "  background-position: center center;\n",
       "}\n",
       "\n",
       "/* Parallel-specific style estimator block */\n",
       "\n",
       "#sk-container-id-2 div.sk-parallel-item::after {\n",
       "  content: \"\";\n",
       "  width: 100%;\n",
       "  border-bottom: 2px solid var(--sklearn-color-text-on-default-background);\n",
       "  flex-grow: 1;\n",
       "}\n",
       "\n",
       "#sk-container-id-2 div.sk-parallel {\n",
       "  display: flex;\n",
       "  align-items: stretch;\n",
       "  justify-content: center;\n",
       "  background-color: var(--sklearn-color-background);\n",
       "  position: relative;\n",
       "}\n",
       "\n",
       "#sk-container-id-2 div.sk-parallel-item {\n",
       "  display: flex;\n",
       "  flex-direction: column;\n",
       "}\n",
       "\n",
       "#sk-container-id-2 div.sk-parallel-item:first-child::after {\n",
       "  align-self: flex-end;\n",
       "  width: 50%;\n",
       "}\n",
       "\n",
       "#sk-container-id-2 div.sk-parallel-item:last-child::after {\n",
       "  align-self: flex-start;\n",
       "  width: 50%;\n",
       "}\n",
       "\n",
       "#sk-container-id-2 div.sk-parallel-item:only-child::after {\n",
       "  width: 0;\n",
       "}\n",
       "\n",
       "/* Serial-specific style estimator block */\n",
       "\n",
       "#sk-container-id-2 div.sk-serial {\n",
       "  display: flex;\n",
       "  flex-direction: column;\n",
       "  align-items: center;\n",
       "  background-color: var(--sklearn-color-background);\n",
       "  padding-right: 1em;\n",
       "  padding-left: 1em;\n",
       "}\n",
       "\n",
       "\n",
       "/* Toggleable style: style used for estimator/Pipeline/ColumnTransformer box that is\n",
       "clickable and can be expanded/collapsed.\n",
       "- Pipeline and ColumnTransformer use this feature and define the default style\n",
       "- Estimators will overwrite some part of the style using the `sk-estimator` class\n",
       "*/\n",
       "\n",
       "/* Pipeline and ColumnTransformer style (default) */\n",
       "\n",
       "#sk-container-id-2 div.sk-toggleable {\n",
       "  /* Default theme specific background. It is overwritten whether we have a\n",
       "  specific estimator or a Pipeline/ColumnTransformer */\n",
       "  background-color: var(--sklearn-color-background);\n",
       "}\n",
       "\n",
       "/* Toggleable label */\n",
       "#sk-container-id-2 label.sk-toggleable__label {\n",
       "  cursor: pointer;\n",
       "  display: block;\n",
       "  width: 100%;\n",
       "  margin-bottom: 0;\n",
       "  padding: 0.5em;\n",
       "  box-sizing: border-box;\n",
       "  text-align: center;\n",
       "}\n",
       "\n",
       "#sk-container-id-2 label.sk-toggleable__label-arrow:before {\n",
       "  /* Arrow on the left of the label */\n",
       "  content: \"▸\";\n",
       "  float: left;\n",
       "  margin-right: 0.25em;\n",
       "  color: var(--sklearn-color-icon);\n",
       "}\n",
       "\n",
       "#sk-container-id-2 label.sk-toggleable__label-arrow:hover:before {\n",
       "  color: var(--sklearn-color-text);\n",
       "}\n",
       "\n",
       "/* Toggleable content - dropdown */\n",
       "\n",
       "#sk-container-id-2 div.sk-toggleable__content {\n",
       "  max-height: 0;\n",
       "  max-width: 0;\n",
       "  overflow: hidden;\n",
       "  text-align: left;\n",
       "  /* unfitted */\n",
       "  background-color: var(--sklearn-color-unfitted-level-0);\n",
       "}\n",
       "\n",
       "#sk-container-id-2 div.sk-toggleable__content.fitted {\n",
       "  /* fitted */\n",
       "  background-color: var(--sklearn-color-fitted-level-0);\n",
       "}\n",
       "\n",
       "#sk-container-id-2 div.sk-toggleable__content pre {\n",
       "  margin: 0.2em;\n",
       "  border-radius: 0.25em;\n",
       "  color: var(--sklearn-color-text);\n",
       "  /* unfitted */\n",
       "  background-color: var(--sklearn-color-unfitted-level-0);\n",
       "}\n",
       "\n",
       "#sk-container-id-2 div.sk-toggleable__content.fitted pre {\n",
       "  /* unfitted */\n",
       "  background-color: var(--sklearn-color-fitted-level-0);\n",
       "}\n",
       "\n",
       "#sk-container-id-2 input.sk-toggleable__control:checked~div.sk-toggleable__content {\n",
       "  /* Expand drop-down */\n",
       "  max-height: 200px;\n",
       "  max-width: 100%;\n",
       "  overflow: auto;\n",
       "}\n",
       "\n",
       "#sk-container-id-2 input.sk-toggleable__control:checked~label.sk-toggleable__label-arrow:before {\n",
       "  content: \"▾\";\n",
       "}\n",
       "\n",
       "/* Pipeline/ColumnTransformer-specific style */\n",
       "\n",
       "#sk-container-id-2 div.sk-label input.sk-toggleable__control:checked~label.sk-toggleable__label {\n",
       "  color: var(--sklearn-color-text);\n",
       "  background-color: var(--sklearn-color-unfitted-level-2);\n",
       "}\n",
       "\n",
       "#sk-container-id-2 div.sk-label.fitted input.sk-toggleable__control:checked~label.sk-toggleable__label {\n",
       "  background-color: var(--sklearn-color-fitted-level-2);\n",
       "}\n",
       "\n",
       "/* Estimator-specific style */\n",
       "\n",
       "/* Colorize estimator box */\n",
       "#sk-container-id-2 div.sk-estimator input.sk-toggleable__control:checked~label.sk-toggleable__label {\n",
       "  /* unfitted */\n",
       "  background-color: var(--sklearn-color-unfitted-level-2);\n",
       "}\n",
       "\n",
       "#sk-container-id-2 div.sk-estimator.fitted input.sk-toggleable__control:checked~label.sk-toggleable__label {\n",
       "  /* fitted */\n",
       "  background-color: var(--sklearn-color-fitted-level-2);\n",
       "}\n",
       "\n",
       "#sk-container-id-2 div.sk-label label.sk-toggleable__label,\n",
       "#sk-container-id-2 div.sk-label label {\n",
       "  /* The background is the default theme color */\n",
       "  color: var(--sklearn-color-text-on-default-background);\n",
       "}\n",
       "\n",
       "/* On hover, darken the color of the background */\n",
       "#sk-container-id-2 div.sk-label:hover label.sk-toggleable__label {\n",
       "  color: var(--sklearn-color-text);\n",
       "  background-color: var(--sklearn-color-unfitted-level-2);\n",
       "}\n",
       "\n",
       "/* Label box, darken color on hover, fitted */\n",
       "#sk-container-id-2 div.sk-label.fitted:hover label.sk-toggleable__label.fitted {\n",
       "  color: var(--sklearn-color-text);\n",
       "  background-color: var(--sklearn-color-fitted-level-2);\n",
       "}\n",
       "\n",
       "/* Estimator label */\n",
       "\n",
       "#sk-container-id-2 div.sk-label label {\n",
       "  font-family: monospace;\n",
       "  font-weight: bold;\n",
       "  display: inline-block;\n",
       "  line-height: 1.2em;\n",
       "}\n",
       "\n",
       "#sk-container-id-2 div.sk-label-container {\n",
       "  text-align: center;\n",
       "}\n",
       "\n",
       "/* Estimator-specific */\n",
       "#sk-container-id-2 div.sk-estimator {\n",
       "  font-family: monospace;\n",
       "  border: 1px dotted var(--sklearn-color-border-box);\n",
       "  border-radius: 0.25em;\n",
       "  box-sizing: border-box;\n",
       "  margin-bottom: 0.5em;\n",
       "  /* unfitted */\n",
       "  background-color: var(--sklearn-color-unfitted-level-0);\n",
       "}\n",
       "\n",
       "#sk-container-id-2 div.sk-estimator.fitted {\n",
       "  /* fitted */\n",
       "  background-color: var(--sklearn-color-fitted-level-0);\n",
       "}\n",
       "\n",
       "/* on hover */\n",
       "#sk-container-id-2 div.sk-estimator:hover {\n",
       "  /* unfitted */\n",
       "  background-color: var(--sklearn-color-unfitted-level-2);\n",
       "}\n",
       "\n",
       "#sk-container-id-2 div.sk-estimator.fitted:hover {\n",
       "  /* fitted */\n",
       "  background-color: var(--sklearn-color-fitted-level-2);\n",
       "}\n",
       "\n",
       "/* Specification for estimator info (e.g. \"i\" and \"?\") */\n",
       "\n",
       "/* Common style for \"i\" and \"?\" */\n",
       "\n",
       ".sk-estimator-doc-link,\n",
       "a:link.sk-estimator-doc-link,\n",
       "a:visited.sk-estimator-doc-link {\n",
       "  float: right;\n",
       "  font-size: smaller;\n",
       "  line-height: 1em;\n",
       "  font-family: monospace;\n",
       "  background-color: var(--sklearn-color-background);\n",
       "  border-radius: 1em;\n",
       "  height: 1em;\n",
       "  width: 1em;\n",
       "  text-decoration: none !important;\n",
       "  margin-left: 1ex;\n",
       "  /* unfitted */\n",
       "  border: var(--sklearn-color-unfitted-level-1) 1pt solid;\n",
       "  color: var(--sklearn-color-unfitted-level-1);\n",
       "}\n",
       "\n",
       ".sk-estimator-doc-link.fitted,\n",
       "a:link.sk-estimator-doc-link.fitted,\n",
       "a:visited.sk-estimator-doc-link.fitted {\n",
       "  /* fitted */\n",
       "  border: var(--sklearn-color-fitted-level-1) 1pt solid;\n",
       "  color: var(--sklearn-color-fitted-level-1);\n",
       "}\n",
       "\n",
       "/* On hover */\n",
       "div.sk-estimator:hover .sk-estimator-doc-link:hover,\n",
       ".sk-estimator-doc-link:hover,\n",
       "div.sk-label-container:hover .sk-estimator-doc-link:hover,\n",
       ".sk-estimator-doc-link:hover {\n",
       "  /* unfitted */\n",
       "  background-color: var(--sklearn-color-unfitted-level-3);\n",
       "  color: var(--sklearn-color-background);\n",
       "  text-decoration: none;\n",
       "}\n",
       "\n",
       "div.sk-estimator.fitted:hover .sk-estimator-doc-link.fitted:hover,\n",
       ".sk-estimator-doc-link.fitted:hover,\n",
       "div.sk-label-container:hover .sk-estimator-doc-link.fitted:hover,\n",
       ".sk-estimator-doc-link.fitted:hover {\n",
       "  /* fitted */\n",
       "  background-color: var(--sklearn-color-fitted-level-3);\n",
       "  color: var(--sklearn-color-background);\n",
       "  text-decoration: none;\n",
       "}\n",
       "\n",
       "/* Span, style for the box shown on hovering the info icon */\n",
       ".sk-estimator-doc-link span {\n",
       "  display: none;\n",
       "  z-index: 9999;\n",
       "  position: relative;\n",
       "  font-weight: normal;\n",
       "  right: .2ex;\n",
       "  padding: .5ex;\n",
       "  margin: .5ex;\n",
       "  width: min-content;\n",
       "  min-width: 20ex;\n",
       "  max-width: 50ex;\n",
       "  color: var(--sklearn-color-text);\n",
       "  box-shadow: 2pt 2pt 4pt #999;\n",
       "  /* unfitted */\n",
       "  background: var(--sklearn-color-unfitted-level-0);\n",
       "  border: .5pt solid var(--sklearn-color-unfitted-level-3);\n",
       "}\n",
       "\n",
       ".sk-estimator-doc-link.fitted span {\n",
       "  /* fitted */\n",
       "  background: var(--sklearn-color-fitted-level-0);\n",
       "  border: var(--sklearn-color-fitted-level-3);\n",
       "}\n",
       "\n",
       ".sk-estimator-doc-link:hover span {\n",
       "  display: block;\n",
       "}\n",
       "\n",
       "/* \"?\"-specific style due to the `<a>` HTML tag */\n",
       "\n",
       "#sk-container-id-2 a.estimator_doc_link {\n",
       "  float: right;\n",
       "  font-size: 1rem;\n",
       "  line-height: 1em;\n",
       "  font-family: monospace;\n",
       "  background-color: var(--sklearn-color-background);\n",
       "  border-radius: 1rem;\n",
       "  height: 1rem;\n",
       "  width: 1rem;\n",
       "  text-decoration: none;\n",
       "  /* unfitted */\n",
       "  color: var(--sklearn-color-unfitted-level-1);\n",
       "  border: var(--sklearn-color-unfitted-level-1) 1pt solid;\n",
       "}\n",
       "\n",
       "#sk-container-id-2 a.estimator_doc_link.fitted {\n",
       "  /* fitted */\n",
       "  border: var(--sklearn-color-fitted-level-1) 1pt solid;\n",
       "  color: var(--sklearn-color-fitted-level-1);\n",
       "}\n",
       "\n",
       "/* On hover */\n",
       "#sk-container-id-2 a.estimator_doc_link:hover {\n",
       "  /* unfitted */\n",
       "  background-color: var(--sklearn-color-unfitted-level-3);\n",
       "  color: var(--sklearn-color-background);\n",
       "  text-decoration: none;\n",
       "}\n",
       "\n",
       "#sk-container-id-2 a.estimator_doc_link.fitted:hover {\n",
       "  /* fitted */\n",
       "  background-color: var(--sklearn-color-fitted-level-3);\n",
       "}\n",
       "</style><div id=\"sk-container-id-2\" class=\"sk-top-container\"><div class=\"sk-text-repr-fallback\"><pre>NearestNeighbors(algorithm=&#x27;brute&#x27;, metric=&#x27;cosine&#x27;)</pre><b>In a Jupyter environment, please rerun this cell to show the HTML representation or trust the notebook. <br />On GitHub, the HTML representation is unable to render, please try loading this page with nbviewer.org.</b></div><div class=\"sk-container\" hidden><div class=\"sk-item\"><div class=\"sk-estimator fitted sk-toggleable\"><input class=\"sk-toggleable__control sk-hidden--visually\" id=\"sk-estimator-id-2\" type=\"checkbox\" checked><label for=\"sk-estimator-id-2\" class=\"sk-toggleable__label fitted sk-toggleable__label-arrow fitted\">&nbsp;&nbsp;NearestNeighbors<a class=\"sk-estimator-doc-link fitted\" rel=\"noreferrer\" target=\"_blank\" href=\"https://scikit-learn.org/1.5/modules/generated/sklearn.neighbors.NearestNeighbors.html\">?<span>Documentation for NearestNeighbors</span></a><span class=\"sk-estimator-doc-link fitted\">i<span>Fitted</span></span></label><div class=\"sk-toggleable__content fitted\"><pre>NearestNeighbors(algorithm=&#x27;brute&#x27;, metric=&#x27;cosine&#x27;)</pre></div> </div></div></div></div>"
      ],
      "text/plain": [
       "NearestNeighbors(algorithm='brute', metric='cosine')"
      ]
     },
     "execution_count": 142,
     "metadata": {},
     "output_type": "execute_result"
    }
   ],
   "source": [
    "# Import necessary libraries\n",
    "from scipy.sparse import csr_matrix\n",
    "from sklearn.neighbors import NearestNeighbors\n",
    "\n",
    "# The csr_matrix (Compressed Sparse Row matrix) is a common format for sparse matrices.\n",
    "movie_features_df_matrix = csr_matrix(knnrc_df.values)\n",
    "\n",
    "# The 'brute' algorithm is used for computing the nearest neighbors.\n",
    "model_knn = NearestNeighbors(metric='cosine', algorithm='brute')\n",
    "\n",
    "# Fit the NearestNeighbors model on the movie features sparse matrix\n",
    "\n",
    "model_knn.fit(movie_features_df_matrix)\n"
   ]
  },
  {
   "cell_type": "code",
   "execution_count": 143,
   "metadata": {},
   "outputs": [],
   "source": [
    "# reverse map using the pivot matrix\n",
    "new_indices = {value: index for index, value in enumerate(knnrc_df.index)}"
   ]
  },
  {
   "cell_type": "code",
   "execution_count": 144,
   "metadata": {},
   "outputs": [
    {
     "name": "stdout",
     "output_type": "stream",
     "text": [
      "Recommendations for Tron (1982):\n",
      "\n",
      "1: RoboCop (1987), with distance of 0.4333110059193197:\n",
      "2: Logan's Run (1976), with distance of 0.5173426988364118:\n",
      "3: Cocoon (1985), with distance of 0.5194918665320847:\n",
      "4: Total Recall (1990), with distance of 0.5267681600937928:\n",
      "5: Star Wars: Episode I - The Phantom Menace (1999), with distance of 0.5270073286035528:\n"
     ]
    }
   ],
   "source": [
    "# Test the k-NN model by finding recommendations for a specific movie\n",
    "\n",
    "\n",
    "query_index = new_indices['Tron (1982)']\n",
    "\n",
    "\n",
    "\n",
    "# Here, n_neighbors is set to 6, meaning we want to find the 5 closest movies (excluding the movie itself).\n",
    "distances, indices = model_knn.kneighbors(knnrc_df.iloc[query_index, :].values.reshape(1, -1), n_neighbors=6)\n",
    "\n",
    "# Loop through the nearest neighbors and print the recommendations\n",
    "for i in range(0, len(distances.flatten())):\n",
    "    if i == 0:\n",
    "        # Print the movie for which we are finding recommendations\n",
    "        print('Recommendations for {0}:\\n'.format(knnrc_df.index[query_index]))\n",
    "    else:\n",
    "        # Print each recommendation with its distance from the query movie\n",
    "\n",
    "        print('{0}: {1}, with distance of {2}:'.format(i, knnrc_df.index[indices.flatten()[i]], distances.flatten()[i]))\n"
   ]
  },
  {
   "cell_type": "markdown",
   "metadata": {},
   "source": [
    "Let's now use __surprise__ library aso as to be able to validate our models:"
   ]
  },
  {
   "cell_type": "code",
   "execution_count": 145,
   "metadata": {},
   "outputs": [],
   "source": [
    "from surprise import Dataset, Reader\n",
    "from surprise.model_selection import train_test_split\n",
    "from surprise import accuracy\n",
    "from surprise.prediction_algorithms import KNNWithMeans, KNNBasic, KNNBaseline\n",
    "from surprise.prediction_algorithms import SVD\n",
    "from surprise.model_selection import GridSearchCV, cross_validate\n",
    "\n",
    "reader = Reader(rating_scale=(1, 5))\n",
    "\n",
    "expected_column_names = [\"userId\", \"movieId\", \"rating\"]\n",
    "\n",
    "# Load the data into a Surprise Dataset\n",
    "data_surp = Dataset.load_from_df(df[expected_column_names], reader)"
   ]
  },
  {
   "cell_type": "code",
   "execution_count": 146,
   "metadata": {},
   "outputs": [
    {
     "name": "stdout",
     "output_type": "stream",
     "text": [
      "Estimating biases using als...\n",
      "Computing the pearson similarity matrix...\n",
      "Done computing similarity matrix.\n",
      "Estimating biases using als...\n",
      "Computing the pearson similarity matrix...\n",
      "Done computing similarity matrix.\n",
      "Estimating biases using als...\n",
      "Computing the pearson similarity matrix...\n",
      "Done computing similarity matrix.\n",
      "Estimating biases using als...\n",
      "Computing the pearson similarity matrix...\n",
      "Done computing similarity matrix.\n",
      "Estimating biases using als...\n",
      "Computing the pearson similarity matrix...\n",
      "Done computing similarity matrix.\n"
     ]
    }
   ],
   "source": [
    "# cross validating with KNNBasic\n",
    "knn_basic = KNNBasic(sim_options={'name':'pearson', 'user_based':True})\n",
    "cv_knn_basic = cross_validate(knn_basic, data_surp, n_jobs=-1)\n",
    "\n",
    "\n",
    "# cross validating with KNNBaseline\n",
    "knn_baseline = KNNBaseline(sim_options={'name':'pearson', 'user_based':True})\n",
    "cv_knn_baseline = cross_validate(knn_baseline, data_surp)\n"
   ]
  },
  {
   "cell_type": "code",
   "execution_count": 147,
   "metadata": {},
   "outputs": [
    {
     "name": "stdout",
     "output_type": "stream",
     "text": [
      "('test_rmse', array([0.87583052, 0.88164636, 0.87582351, 0.87577967, 0.87722332]))\n",
      "('test_mae', array([0.67136619, 0.67339742, 0.6662221 , 0.66887716, 0.67025439]))\n",
      "('fit_time', (1.5734765529632568, 1.344259262084961, 1.3713548183441162, 1.5610237121582031, 1.8084831237792969))\n",
      "('test_time', (3.1668922901153564, 2.429286241531372, 3.26318359375, 2.978238105773926, 3.0231969356536865))\n",
      "-----------------------\n"
     ]
    },
    {
     "data": {
      "text/plain": [
       "0.8772606744347933"
      ]
     },
     "execution_count": 147,
     "metadata": {},
     "output_type": "execute_result"
    }
   ],
   "source": [
    "for i in cv_knn_baseline.items():\n",
    "    print(i)\n",
    "    \n",
    "print('-----------------------')\n",
    "# print validation results\n",
    "np.mean(cv_knn_baseline['test_rmse'])"
   ]
  },
  {
   "cell_type": "code",
   "execution_count": 148,
   "metadata": {},
   "outputs": [
    {
     "name": "stdout",
     "output_type": "stream",
     "text": [
      "('test_rmse', array([0.98288753, 0.96582341, 0.97361797, 0.96699393, 0.97296462]))\n",
      "('test_mae', array([0.75996826, 0.74560822, 0.75212438, 0.7454361 , 0.75124072]))\n",
      "('fit_time', (2.5315070152282715, 2.7707672119140625, 3.0230560302734375, 3.4452455043792725, 0.9026598930358887))\n",
      "('test_time', (7.632218360900879, 7.333896636962891, 7.067130088806152, 6.229653596878052, 3.0019984245300293))\n",
      "-----------------------\n",
      "0.9724574911993423\n"
     ]
    }
   ],
   "source": [
    "# print out the average RMSE score for the test set\n",
    "for i in cv_knn_basic.items():\n",
    "    print(i)\n",
    "# print validation results\n",
    "print('-----------------------')\n",
    "print(np.mean(cv_knn_basic['test_rmse']))"
   ]
  },
  {
   "cell_type": "markdown",
   "metadata": {},
   "source": [
    "**Summary of Surprise lib's KNN:**\n",
    "- The KNN Basic and KNN Baseline models exhibit similar RMSE, with the KNN Baseline slightly outperforming the KNN Basic model.\n",
    "- Both KNN models have relatively low MAE, indicating good accuracy in predicting user ratings.\n",
    "- The training time for the KNN models is relatively short, making them efficient for training.\n",
    "- The SVD model has a slightly higher RMSE compared to the KNN models, but its overall performance is still competitive.\n",
    "\n",
    "The choice between these models depends on specific use-case requirements, including the trade-off between accuracy and computational efficiency. Further analysis and potential hyperparameter tuning could refine the performance of these models."
   ]
  },
  {
   "cell_type": "markdown",
   "metadata": {},
   "source": [
    "Let's make a function to test out the KNN method"
   ]
  },
  {
   "cell_type": "code",
   "execution_count": 170,
   "metadata": {},
   "outputs": [
    {
     "name": "stdout",
     "output_type": "stream",
     "text": [
      "Recommendations for Deadpool 2 (2018):\n",
      "Genres: Action, Comedy, Sci-Fi\n"
     ]
    },
    {
     "data": {
      "text/html": [
       "<div>\n",
       "<style scoped>\n",
       "    .dataframe tbody tr th:only-of-type {\n",
       "        vertical-align: middle;\n",
       "    }\n",
       "\n",
       "    .dataframe tbody tr th {\n",
       "        vertical-align: top;\n",
       "    }\n",
       "\n",
       "    .dataframe thead th {\n",
       "        text-align: right;\n",
       "    }\n",
       "</style>\n",
       "<table border=\"1\" class=\"dataframe\">\n",
       "  <thead>\n",
       "    <tr style=\"text-align: right;\">\n",
       "      <th></th>\n",
       "      <th>movieId</th>\n",
       "      <th>title</th>\n",
       "      <th>genres</th>\n",
       "      <th>knn_distance</th>\n",
       "    </tr>\n",
       "  </thead>\n",
       "  <tbody>\n",
       "    <tr>\n",
       "      <th>8693</th>\n",
       "      <td>122912</td>\n",
       "      <td>Avengers: Infinity War - Part I (2018)</td>\n",
       "      <td>Action|Adventure|Sci-Fi</td>\n",
       "      <td>0.197364</td>\n",
       "    </tr>\n",
       "    <tr>\n",
       "      <th>8694</th>\n",
       "      <td>122916</td>\n",
       "      <td>Thor: Ragnarok (2017)</td>\n",
       "      <td>Action|Adventure|Sci-Fi</td>\n",
       "      <td>0.390162</td>\n",
       "    </tr>\n",
       "    <tr>\n",
       "      <th>8699</th>\n",
       "      <td>122926</td>\n",
       "      <td>Untitled Spider-Man Reboot (2017)</td>\n",
       "      <td>Action|Adventure|Fantasy</td>\n",
       "      <td>0.436736</td>\n",
       "    </tr>\n",
       "    <tr>\n",
       "      <th>9345</th>\n",
       "      <td>160954</td>\n",
       "      <td>Nerve (2016)</td>\n",
       "      <td>Drama|Thriller</td>\n",
       "      <td>0.485904</td>\n",
       "    </tr>\n",
       "    <tr>\n",
       "      <th>8654</th>\n",
       "      <td>120799</td>\n",
       "      <td>Terminator Genisys (2015)</td>\n",
       "      <td>Action|Adventure|Sci-Fi|Thriller</td>\n",
       "      <td>0.506968</td>\n",
       "    </tr>\n",
       "    <tr>\n",
       "      <th>7700</th>\n",
       "      <td>89840</td>\n",
       "      <td>Killer Elite (2011)</td>\n",
       "      <td>Action|Thriller</td>\n",
       "      <td>0.522001</td>\n",
       "    </tr>\n",
       "    <tr>\n",
       "      <th>9645</th>\n",
       "      <td>179819</td>\n",
       "      <td>Star Wars: The Last Jedi (2017)</td>\n",
       "      <td>Action|Adventure|Fantasy|Sci-Fi</td>\n",
       "      <td>0.524305</td>\n",
       "    </tr>\n",
       "    <tr>\n",
       "      <th>9710</th>\n",
       "      <td>187595</td>\n",
       "      <td>Solo: A Star Wars Story (2018)</td>\n",
       "      <td>Action|Adventure|Children|Sci-Fi</td>\n",
       "      <td>0.528528</td>\n",
       "    </tr>\n",
       "    <tr>\n",
       "      <th>7991</th>\n",
       "      <td>96861</td>\n",
       "      <td>Taken 2 (2012)</td>\n",
       "      <td>Action|Crime|Drama|Thriller</td>\n",
       "      <td>0.541514</td>\n",
       "    </tr>\n",
       "    <tr>\n",
       "      <th>6650</th>\n",
       "      <td>56801</td>\n",
       "      <td>AVPR: Aliens vs. Predator - Requiem (2007)</td>\n",
       "      <td>Action|Horror|Sci-Fi</td>\n",
       "      <td>0.543988</td>\n",
       "    </tr>\n",
       "  </tbody>\n",
       "</table>\n",
       "</div>"
      ],
      "text/plain": [
       "      movieId                                       title  \\\n",
       "8693   122912      Avengers: Infinity War - Part I (2018)   \n",
       "8694   122916                       Thor: Ragnarok (2017)   \n",
       "8699   122926           Untitled Spider-Man Reboot (2017)   \n",
       "9345   160954                                Nerve (2016)   \n",
       "8654   120799                   Terminator Genisys (2015)   \n",
       "7700    89840                         Killer Elite (2011)   \n",
       "9645   179819             Star Wars: The Last Jedi (2017)   \n",
       "9710   187595              Solo: A Star Wars Story (2018)   \n",
       "7991    96861                              Taken 2 (2012)   \n",
       "6650    56801  AVPR: Aliens vs. Predator - Requiem (2007)   \n",
       "\n",
       "                                genres  knn_distance  \n",
       "8693           Action|Adventure|Sci-Fi      0.197364  \n",
       "8694           Action|Adventure|Sci-Fi      0.390162  \n",
       "8699          Action|Adventure|Fantasy      0.436736  \n",
       "9345                    Drama|Thriller      0.485904  \n",
       "8654  Action|Adventure|Sci-Fi|Thriller      0.506968  \n",
       "7700                   Action|Thriller      0.522001  \n",
       "9645   Action|Adventure|Fantasy|Sci-Fi      0.524305  \n",
       "9710  Action|Adventure|Children|Sci-Fi      0.528528  \n",
       "7991       Action|Crime|Drama|Thriller      0.541514  \n",
       "6650              Action|Horror|Sci-Fi      0.543988  "
      ]
     },
     "execution_count": 170,
     "metadata": {},
     "output_type": "execute_result"
    }
   ],
   "source": [
    "def knn_get_rec(title, rec=6, verbose=True):\n",
    "    \"\"\"Get recommendations for a movie using KNN\n",
    "    \"\"\"\n",
    "    # create a return dataframe\n",
    "    ret_df = pd.DataFrame()\n",
    "    # initiate an empty list to fill the knn distances\n",
    "    dists = []\n",
    "    try:\n",
    "        # get movie details and the pivot matrix index\n",
    "        title, genres = get_title(title, df)\n",
    "        idx = new_indices[title]\n",
    "        \n",
    "        # compute the knn distance and index\n",
    "        distances, knn_indices = model_knn.kneighbors(knnrc_df.iloc[idx,:].values.reshape(1, -1), n_neighbors = rec + 1)\n",
    "\n",
    "        if title and verbose:\n",
    "            print(f'Recommendations for {title}:')\n",
    "            print(f\"Genres: {', '.join(genres.split('|'))}\")\n",
    "\n",
    "        for i in range(0, len(distances.flatten())):\n",
    "            if i == 0:\n",
    "                continue\n",
    "            rec_movie = knnrc_df.index[knn_indices.flatten()[i]]\n",
    "            movies_df = data['movies']\n",
    "            mask = movies_df['title'].str.contains(rec_movie, case=False, regex=False)\n",
    "            \n",
    "            # fill in return dataframe\n",
    "            ret_df = pd.concat([ret_df, movies_df[mask]])\n",
    "            \n",
    "            # fill in the knn distances in the df\n",
    "            dists.append(distances.flatten()[i])\n",
    "\n",
    "        ret_df[\"knn_distance\"] = dists\n",
    "\n",
    "        return ret_df\n",
    "\n",
    "    except Exception as _:\n",
    "        return \"⚠ Oops! Something went wrong!\"\n",
    "        \n",
    "\n",
    "# test\n",
    "knn_get_rec('Deadpool 2 (2018)', 10)"
   ]
  },
  {
   "cell_type": "code",
   "execution_count": 169,
   "metadata": {},
   "outputs": [
    {
     "name": "stdout",
     "output_type": "stream",
     "text": [
      "Recommendations for Jumanji (1995):\n",
      "Genres: Adventure, Children, Fantasy\n"
     ]
    },
    {
     "data": {
      "text/html": [
       "<div>\n",
       "<style scoped>\n",
       "    .dataframe tbody tr th:only-of-type {\n",
       "        vertical-align: middle;\n",
       "    }\n",
       "\n",
       "    .dataframe tbody tr th {\n",
       "        vertical-align: top;\n",
       "    }\n",
       "\n",
       "    .dataframe thead th {\n",
       "        text-align: right;\n",
       "    }\n",
       "</style>\n",
       "<table border=\"1\" class=\"dataframe\">\n",
       "  <thead>\n",
       "    <tr style=\"text-align: right;\">\n",
       "      <th></th>\n",
       "      <th>movieId</th>\n",
       "      <th>title</th>\n",
       "      <th>genres</th>\n",
       "      <th>knn_distance</th>\n",
       "    </tr>\n",
       "  </thead>\n",
       "  <tbody>\n",
       "    <tr>\n",
       "      <th>322</th>\n",
       "      <td>364</td>\n",
       "      <td>Lion King, The (1994)</td>\n",
       "      <td>Adventure|Animation|Children|Drama|Musical|IMAX</td>\n",
       "      <td>0.411562</td>\n",
       "    </tr>\n",
       "    <tr>\n",
       "      <th>436</th>\n",
       "      <td>500</td>\n",
       "      <td>Mrs. Doubtfire (1993)</td>\n",
       "      <td>Comedy|Drama</td>\n",
       "      <td>0.450182</td>\n",
       "    </tr>\n",
       "    <tr>\n",
       "      <th>325</th>\n",
       "      <td>367</td>\n",
       "      <td>Mask, The (1994)</td>\n",
       "      <td>Action|Comedy|Crime|Fantasy</td>\n",
       "      <td>0.455019</td>\n",
       "    </tr>\n",
       "    <tr>\n",
       "      <th>418</th>\n",
       "      <td>480</td>\n",
       "      <td>Jurassic Park (1993)</td>\n",
       "      <td>Action|Adventure|Sci-Fi|Thriller</td>\n",
       "      <td>0.461954</td>\n",
       "    </tr>\n",
       "    <tr>\n",
       "      <th>504</th>\n",
       "      <td>586</td>\n",
       "      <td>Home Alone (1990)</td>\n",
       "      <td>Children|Comedy</td>\n",
       "      <td>0.475124</td>\n",
       "    </tr>\n",
       "    <tr>\n",
       "      <th>483</th>\n",
       "      <td>551</td>\n",
       "      <td>Nightmare Before Christmas, The (1993)</td>\n",
       "      <td>Animation|Children|Fantasy|Musical</td>\n",
       "      <td>0.481839</td>\n",
       "    </tr>\n",
       "    <tr>\n",
       "      <th>506</th>\n",
       "      <td>588</td>\n",
       "      <td>Aladdin (1992)</td>\n",
       "      <td>Adventure|Animation|Children|Comedy|Musical</td>\n",
       "      <td>0.484380</td>\n",
       "    </tr>\n",
       "    <tr>\n",
       "      <th>512</th>\n",
       "      <td>595</td>\n",
       "      <td>Beauty and the Beast (1991)</td>\n",
       "      <td>Animation|Children|Fantasy|Musical|Romance|IMAX</td>\n",
       "      <td>0.492542</td>\n",
       "    </tr>\n",
       "    <tr>\n",
       "      <th>18</th>\n",
       "      <td>19</td>\n",
       "      <td>Ace Ventura: When Nature Calls (1995)</td>\n",
       "      <td>Comedy</td>\n",
       "      <td>0.502440</td>\n",
       "    </tr>\n",
       "    <tr>\n",
       "      <th>276</th>\n",
       "      <td>317</td>\n",
       "      <td>Santa Clause, The (1994)</td>\n",
       "      <td>Comedy|Drama|Fantasy</td>\n",
       "      <td>0.502632</td>\n",
       "    </tr>\n",
       "  </tbody>\n",
       "</table>\n",
       "</div>"
      ],
      "text/plain": [
       "     movieId                                   title  \\\n",
       "322      364                   Lion King, The (1994)   \n",
       "436      500                   Mrs. Doubtfire (1993)   \n",
       "325      367                        Mask, The (1994)   \n",
       "418      480                    Jurassic Park (1993)   \n",
       "504      586                       Home Alone (1990)   \n",
       "483      551  Nightmare Before Christmas, The (1993)   \n",
       "506      588                          Aladdin (1992)   \n",
       "512      595             Beauty and the Beast (1991)   \n",
       "18        19   Ace Ventura: When Nature Calls (1995)   \n",
       "276      317                Santa Clause, The (1994)   \n",
       "\n",
       "                                              genres  knn_distance  \n",
       "322  Adventure|Animation|Children|Drama|Musical|IMAX      0.411562  \n",
       "436                                     Comedy|Drama      0.450182  \n",
       "325                      Action|Comedy|Crime|Fantasy      0.455019  \n",
       "418                 Action|Adventure|Sci-Fi|Thriller      0.461954  \n",
       "504                                  Children|Comedy      0.475124  \n",
       "483               Animation|Children|Fantasy|Musical      0.481839  \n",
       "506      Adventure|Animation|Children|Comedy|Musical      0.484380  \n",
       "512  Animation|Children|Fantasy|Musical|Romance|IMAX      0.492542  \n",
       "18                                            Comedy      0.502440  \n",
       "276                             Comedy|Drama|Fantasy      0.502632  "
      ]
     },
     "execution_count": 169,
     "metadata": {},
     "output_type": "execute_result"
    }
   ],
   "source": [
    "# test 2\n",
    "knn_get_rec('Jumanji', 10)"
   ]
  },
  {
   "cell_type": "markdown",
   "metadata": {},
   "source": [
    "#### Sumarry of the Neighbourhood based collaborative approach (SciKit's):\n",
    "- This model works better than the content-based approach as it makes use of the user ratings, thereby reading more into the dataset.\n",
    "    - However, neighbourhood-based collaborative filtering has some limitations, particularly in scenarios with sparse data, the cold start problem for new users or items, and scalability issues as the dataset grows. Therefore, it becomes essential to explore model-based approaches like Singular Value Decomposition (SVD) or Alternating Least Squares (ALS).\n",
    "\n"
   ]
  },
  {
   "cell_type": "code",
   "execution_count": 151,
   "metadata": {},
   "outputs": [
    {
     "name": "stdout",
     "output_type": "stream",
     "text": [
      "Computing the pearson similarity matrix...\n",
      "Done computing similarity matrix.\n"
     ]
    },
    {
     "data": {
      "text/html": [
       "<div>\n",
       "<style scoped>\n",
       "    .dataframe tbody tr th:only-of-type {\n",
       "        vertical-align: middle;\n",
       "    }\n",
       "\n",
       "    .dataframe tbody tr th {\n",
       "        vertical-align: top;\n",
       "    }\n",
       "\n",
       "    .dataframe thead th {\n",
       "        text-align: right;\n",
       "    }\n",
       "</style>\n",
       "<table border=\"1\" class=\"dataframe\">\n",
       "  <thead>\n",
       "    <tr style=\"text-align: right;\">\n",
       "      <th></th>\n",
       "      <th>movieId</th>\n",
       "      <th>title</th>\n",
       "      <th>genres</th>\n",
       "    </tr>\n",
       "  </thead>\n",
       "  <tbody>\n",
       "    <tr>\n",
       "      <th>36</th>\n",
       "      <td>40</td>\n",
       "      <td>Cry, the Beloved Country (1995)</td>\n",
       "      <td>Drama</td>\n",
       "    </tr>\n",
       "    <tr>\n",
       "      <th>107</th>\n",
       "      <td>123</td>\n",
       "      <td>Chungking Express (Chung Hing sam lam) (1994)</td>\n",
       "      <td>Drama|Mystery|Romance</td>\n",
       "    </tr>\n",
       "    <tr>\n",
       "      <th>265</th>\n",
       "      <td>305</td>\n",
       "      <td>Ready to Wear (Pret-A-Porter) (1994)</td>\n",
       "      <td>Comedy</td>\n",
       "    </tr>\n",
       "    <tr>\n",
       "      <th>346</th>\n",
       "      <td>389</td>\n",
       "      <td>Colonel Chabert, Le (1994)</td>\n",
       "      <td>Drama|Romance|War</td>\n",
       "    </tr>\n",
       "    <tr>\n",
       "      <th>467</th>\n",
       "      <td>534</td>\n",
       "      <td>Shadowlands (1993)</td>\n",
       "      <td>Drama|Romance</td>\n",
       "    </tr>\n",
       "    <tr>\n",
       "      <th>525</th>\n",
       "      <td>613</td>\n",
       "      <td>Jane Eyre (1996)</td>\n",
       "      <td>Drama|Romance</td>\n",
       "    </tr>\n",
       "    <tr>\n",
       "      <th>531</th>\n",
       "      <td>626</td>\n",
       "      <td>Thin Line Between Love and Hate, A (1996)</td>\n",
       "      <td>Comedy</td>\n",
       "    </tr>\n",
       "    <tr>\n",
       "      <th>536</th>\n",
       "      <td>633</td>\n",
       "      <td>Denise Calls Up (1995)</td>\n",
       "      <td>Comedy</td>\n",
       "    </tr>\n",
       "    <tr>\n",
       "      <th>548</th>\n",
       "      <td>650</td>\n",
       "      <td>Moll Flanders (1996)</td>\n",
       "      <td>Drama</td>\n",
       "    </tr>\n",
       "    <tr>\n",
       "      <th>557</th>\n",
       "      <td>670</td>\n",
       "      <td>World of Apu, The (Apur Sansar) (1959)</td>\n",
       "      <td>Drama</td>\n",
       "    </tr>\n",
       "  </tbody>\n",
       "</table>\n",
       "</div>"
      ],
      "text/plain": [
       "     movieId                                          title  \\\n",
       "36        40                Cry, the Beloved Country (1995)   \n",
       "107      123  Chungking Express (Chung Hing sam lam) (1994)   \n",
       "265      305           Ready to Wear (Pret-A-Porter) (1994)   \n",
       "346      389                     Colonel Chabert, Le (1994)   \n",
       "467      534                             Shadowlands (1993)   \n",
       "525      613                               Jane Eyre (1996)   \n",
       "531      626      Thin Line Between Love and Hate, A (1996)   \n",
       "536      633                         Denise Calls Up (1995)   \n",
       "548      650                           Moll Flanders (1996)   \n",
       "557      670         World of Apu, The (Apur Sansar) (1959)   \n",
       "\n",
       "                    genres  \n",
       "36                   Drama  \n",
       "107  Drama|Mystery|Romance  \n",
       "265                 Comedy  \n",
       "346      Drama|Romance|War  \n",
       "467          Drama|Romance  \n",
       "525          Drama|Romance  \n",
       "531                 Comedy  \n",
       "536                 Comedy  \n",
       "548                  Drama  \n",
       "557                  Drama  "
      ]
     },
     "execution_count": 151,
     "metadata": {},
     "output_type": "execute_result"
    }
   ],
   "source": [
    "def surp_knn_get_rec(uid=1000, rec_count=10):\n",
    "    # Load the dataset and create a train-test split\n",
    "    reader = Reader(rating_scale=(1, 5))\n",
    "    data_ = Dataset.load_from_df(df[expected_column_names], reader)\n",
    "    trainset, _ = train_test_split(data_, test_size=0.2, random_state=42)\n",
    "\n",
    "    # Train the KNN model\n",
    "    sim_options = {'name': 'pearson', 'user_based': True}\n",
    "    knn_model = KNNBasic(sim_options=sim_options)\n",
    "    knn_model.fit(trainset)\n",
    "\n",
    "    # Get the user's unrated items\n",
    "    unrated_items = [item for item in trainset.all_items() if item not in trainset.ur[uid]]\n",
    "\n",
    "    # Predict ratings for unrated items\n",
    "    predictions = [knn_model.predict(uid, iid) for iid in unrated_items]\n",
    "\n",
    "    # Sort the predictions by estimated rating in descending order\n",
    "    sorted_predictions = sorted(predictions, key=lambda x: x.est, reverse=True)\n",
    "\n",
    "    # Extract the top N recommended items\n",
    "    top_recommendations = sorted_predictions[:rec_count]\n",
    "\n",
    "    # Print or return the recommended items\n",
    "    recommended_movie_ids = [prediction.iid for prediction in top_recommendations]\n",
    "    movie_df = data['movies']\n",
    "    recommended_movies = movie_df[movie_df['movieId'].isin(recommended_movie_ids)]\n",
    "\n",
    "    return recommended_movies\n",
    "\n",
    "# test\n",
    "surp_knn_get_rec(uid=100, rec_count=10)"
   ]
  },
  {
   "cell_type": "code",
   "execution_count": 152,
   "metadata": {},
   "outputs": [
    {
     "name": "stdout",
     "output_type": "stream",
     "text": [
      "Computing the pearson similarity matrix...\n",
      "Done computing similarity matrix.\n"
     ]
    },
    {
     "data": {
      "text/html": [
       "<div>\n",
       "<style scoped>\n",
       "    .dataframe tbody tr th:only-of-type {\n",
       "        vertical-align: middle;\n",
       "    }\n",
       "\n",
       "    .dataframe tbody tr th {\n",
       "        vertical-align: top;\n",
       "    }\n",
       "\n",
       "    .dataframe thead th {\n",
       "        text-align: right;\n",
       "    }\n",
       "</style>\n",
       "<table border=\"1\" class=\"dataframe\">\n",
       "  <thead>\n",
       "    <tr style=\"text-align: right;\">\n",
       "      <th></th>\n",
       "      <th>movieId</th>\n",
       "      <th>title</th>\n",
       "      <th>genres</th>\n",
       "    </tr>\n",
       "  </thead>\n",
       "  <tbody>\n",
       "    <tr>\n",
       "      <th>48</th>\n",
       "      <td>53</td>\n",
       "      <td>Lamerica (1994)</td>\n",
       "      <td>Adventure|Drama</td>\n",
       "    </tr>\n",
       "    <tr>\n",
       "      <th>202</th>\n",
       "      <td>236</td>\n",
       "      <td>French Kiss (1995)</td>\n",
       "      <td>Action|Comedy|Romance</td>\n",
       "    </tr>\n",
       "    <tr>\n",
       "      <th>245</th>\n",
       "      <td>283</td>\n",
       "      <td>New Jersey Drive (1995)</td>\n",
       "      <td>Crime|Drama</td>\n",
       "    </tr>\n",
       "    <tr>\n",
       "      <th>292</th>\n",
       "      <td>334</td>\n",
       "      <td>Vanya on 42nd Street (1994)</td>\n",
       "      <td>Drama</td>\n",
       "    </tr>\n",
       "    <tr>\n",
       "      <th>450</th>\n",
       "      <td>515</td>\n",
       "      <td>Remains of the Day, The (1993)</td>\n",
       "      <td>Drama|Romance</td>\n",
       "    </tr>\n",
       "  </tbody>\n",
       "</table>\n",
       "</div>"
      ],
      "text/plain": [
       "     movieId                           title                 genres\n",
       "48        53                 Lamerica (1994)        Adventure|Drama\n",
       "202      236              French Kiss (1995)  Action|Comedy|Romance\n",
       "245      283         New Jersey Drive (1995)            Crime|Drama\n",
       "292      334     Vanya on 42nd Street (1994)                  Drama\n",
       "450      515  Remains of the Day, The (1993)          Drama|Romance"
      ]
     },
     "execution_count": 152,
     "metadata": {},
     "output_type": "execute_result"
    }
   ],
   "source": [
    "# test 2\n",
    "surp_knn_get_rec(uid=300, rec_count=5)"
   ]
  },
  {
   "cell_type": "markdown",
   "metadata": {},
   "source": [
    "### Model-Based Methods - Matrix Factorization using SVD:"
   ]
  },
  {
   "cell_type": "markdown",
   "metadata": {},
   "source": [
    "Let's try out a matric factorization technique on the data, by singular value decomposition:"
   ]
  },
  {
   "cell_type": "code",
   "execution_count": 153,
   "metadata": {},
   "outputs": [
    {
     "name": "stderr",
     "output_type": "stream",
     "text": [
      "[Parallel(n_jobs=-1)]: Using backend LokyBackend with 4 concurrent workers.\n",
      "[Parallel(n_jobs=-1)]: Done  10 tasks      | elapsed:    6.3s\n",
      "[Parallel(n_jobs=-1)]: Done  64 tasks      | elapsed:   24.7s\n",
      "[Parallel(n_jobs=-1)]: Done  80 out of  80 | elapsed:   39.3s finished\n"
     ]
    }
   ],
   "source": [
    "# Define the parameter grid for GridSearchCV\n",
    "param_grid = {\n",
    "    'n_factors': [20, 100],\n",
    "    'n_epochs': [5, 10],\n",
    "    'lr_all': [0.002, 0.005],\n",
    "    'reg_all': [0.4, 0.6]\n",
    "}\n",
    "\n",
    "# Create an instance of GridSearchCV for the SVD model\n",
    "gs_model = GridSearchCV(SVD, param_grid=param_grid, n_jobs=-1, joblib_verbose=5)\n",
    "\n",
    "# Fit the GridSearchCV model on the data\n",
    "gs_model.fit(data_surp)\n"
   ]
  },
  {
   "cell_type": "code",
   "execution_count": 154,
   "metadata": {},
   "outputs": [],
   "source": [
    "best_params = gs_model.best_params[\"rmse\"]"
   ]
  },
  {
   "cell_type": "code",
   "execution_count": 155,
   "metadata": {},
   "outputs": [
    {
     "name": "stdout",
     "output_type": "stream",
     "text": [
      "RMSE: 0.8816\n",
      "0.8816004603095179\n"
     ]
    }
   ],
   "source": [
    "# Split the data into training and testing sets\n",
    "trainset, testset = train_test_split(data_surp, test_size=0.2)\n",
    "\n",
    "# Create an instance of the SVD model with the best hyperparameters\n",
    "svd = SVD(**best_params)\n",
    "\n",
    "# Fit the SVD model on the training set\n",
    "svd.fit(trainset)\n",
    "\n",
    "# Test the SVD model on the testing set\n",
    "predictions = svd.test(testset)\n",
    "\n",
    "# Print the RMSE of the predictions\n",
    "print(accuracy.rmse(predictions))\n"
   ]
  },
  {
   "cell_type": "markdown",
   "metadata": {},
   "source": [
    "A value of 0.8925 suggests that, on average, the predicted ratings deviate by approximately 0.8925 from the true ratings. Lower RMSE values indicate better predictive accuracy."
   ]
  },
  {
   "cell_type": "code",
   "execution_count": 156,
   "metadata": {},
   "outputs": [
    {
     "data": {
      "text/plain": [
       "Prediction(uid='230', iid=23, r_ui=None, est=3.4231315465831735, details={'was_impossible': False})"
      ]
     },
     "execution_count": 156,
     "metadata": {},
     "output_type": "execute_result"
    }
   ],
   "source": [
    "# test\n",
    "svd.predict(uid=\"230\", iid=23)"
   ]
  },
  {
   "cell_type": "code",
   "execution_count": 157,
   "metadata": {},
   "outputs": [
    {
     "data": {
      "text/html": [
       "<div>\n",
       "<style scoped>\n",
       "    .dataframe tbody tr th:only-of-type {\n",
       "        vertical-align: middle;\n",
       "    }\n",
       "\n",
       "    .dataframe tbody tr th {\n",
       "        vertical-align: top;\n",
       "    }\n",
       "\n",
       "    .dataframe thead th {\n",
       "        text-align: right;\n",
       "    }\n",
       "</style>\n",
       "<table border=\"1\" class=\"dataframe\">\n",
       "  <thead>\n",
       "    <tr style=\"text-align: right;\">\n",
       "      <th></th>\n",
       "      <th>movieId</th>\n",
       "      <th>title</th>\n",
       "      <th>genres</th>\n",
       "    </tr>\n",
       "  </thead>\n",
       "  <tbody>\n",
       "    <tr>\n",
       "      <th>46</th>\n",
       "      <td>50</td>\n",
       "      <td>Usual Suspects, The (1995)</td>\n",
       "      <td>Crime|Mystery|Thriller</td>\n",
       "    </tr>\n",
       "    <tr>\n",
       "      <th>277</th>\n",
       "      <td>318</td>\n",
       "      <td>Shawshank Redemption, The (1994)</td>\n",
       "      <td>Crime|Drama</td>\n",
       "    </tr>\n",
       "    <tr>\n",
       "      <th>602</th>\n",
       "      <td>750</td>\n",
       "      <td>Dr. Strangelove or: How I Learned to Stop Worr...</td>\n",
       "      <td>Comedy|War</td>\n",
       "    </tr>\n",
       "    <tr>\n",
       "      <th>686</th>\n",
       "      <td>904</td>\n",
       "      <td>Rear Window (1954)</td>\n",
       "      <td>Mystery|Thriller</td>\n",
       "    </tr>\n",
       "    <tr>\n",
       "      <th>694</th>\n",
       "      <td>912</td>\n",
       "      <td>Casablanca (1942)</td>\n",
       "      <td>Drama|Romance</td>\n",
       "    </tr>\n",
       "    <tr>\n",
       "      <th>901</th>\n",
       "      <td>1199</td>\n",
       "      <td>Brazil (1985)</td>\n",
       "      <td>Fantasy|Sci-Fi</td>\n",
       "    </tr>\n",
       "    <tr>\n",
       "      <th>906</th>\n",
       "      <td>1204</td>\n",
       "      <td>Lawrence of Arabia (1962)</td>\n",
       "      <td>Adventure|Drama|War</td>\n",
       "    </tr>\n",
       "    <tr>\n",
       "      <th>909</th>\n",
       "      <td>1208</td>\n",
       "      <td>Apocalypse Now (1979)</td>\n",
       "      <td>Action|Drama|War</td>\n",
       "    </tr>\n",
       "    <tr>\n",
       "      <th>922</th>\n",
       "      <td>1221</td>\n",
       "      <td>Godfather: Part II, The (1974)</td>\n",
       "      <td>Crime|Drama</td>\n",
       "    </tr>\n",
       "    <tr>\n",
       "      <th>2226</th>\n",
       "      <td>2959</td>\n",
       "      <td>Fight Club (1999)</td>\n",
       "      <td>Action|Crime|Drama|Thriller</td>\n",
       "    </tr>\n",
       "  </tbody>\n",
       "</table>\n",
       "</div>"
      ],
      "text/plain": [
       "      movieId                                              title  \\\n",
       "46         50                         Usual Suspects, The (1995)   \n",
       "277       318                   Shawshank Redemption, The (1994)   \n",
       "602       750  Dr. Strangelove or: How I Learned to Stop Worr...   \n",
       "686       904                                 Rear Window (1954)   \n",
       "694       912                                  Casablanca (1942)   \n",
       "901      1199                                      Brazil (1985)   \n",
       "906      1204                          Lawrence of Arabia (1962)   \n",
       "909      1208                              Apocalypse Now (1979)   \n",
       "922      1221                     Godfather: Part II, The (1974)   \n",
       "2226     2959                                  Fight Club (1999)   \n",
       "\n",
       "                           genres  \n",
       "46         Crime|Mystery|Thriller  \n",
       "277                   Crime|Drama  \n",
       "602                    Comedy|War  \n",
       "686              Mystery|Thriller  \n",
       "694                 Drama|Romance  \n",
       "901                Fantasy|Sci-Fi  \n",
       "906           Adventure|Drama|War  \n",
       "909              Action|Drama|War  \n",
       "922                   Crime|Drama  \n",
       "2226  Action|Crime|Drama|Thriller  "
      ]
     },
     "execution_count": 157,
     "metadata": {},
     "output_type": "execute_result"
    }
   ],
   "source": [
    "def svd_get_rec(uid=1000, rec_count=0):\n",
    "    \"\"\"Returns top 10 movies using SVD\n",
    "    Parameters:\n",
    "    ===========\n",
    "    uid - user id\n",
    "    rec_count - movie recommendation count\n",
    "    \"\"\"\n",
    "    trainset, testset = train_test_split(data_surp, test_size=0.2)\n",
    "    # Get the user's unrated items\n",
    "    unrated_items = [item for item in trainset.all_items() if item not in trainset.ur[uid]]\n",
    "\n",
    "    # Predict ratings for unrated items\n",
    "    predictions = [svd.predict(uid, iid) for iid in unrated_items]\n",
    "\n",
    "    # Sort the predictions by estimated rating in descending order\n",
    "    sorted_predictions = sorted(predictions, key=lambda x: x.est, reverse=True)\n",
    "\n",
    "    # Extract the top N recommended items\n",
    "    top_recommendations = sorted_predictions[:rec_count]\n",
    "\n",
    "    # Print or return the recommended items\n",
    "    recommended_movie_ids = [prediction.iid for prediction in top_recommendations]\n",
    "    movie_df = data['movies']\n",
    "    recommended_movies = movie_df[movie_df['movieId'].isin(recommended_movie_ids)]\n",
    "\n",
    "    return recommended_movies\n",
    "\n",
    "# test\n",
    "svd_get_rec(uid=100, rec_count=10)"
   ]
  },
  {
   "cell_type": "markdown",
   "metadata": {},
   "source": [
    "### Summary of the models:\n"
   ]
  },
  {
   "cell_type": "markdown",
   "metadata": {},
   "source": [
    "## Final Recommender System:"
   ]
  },
  {
   "cell_type": "markdown",
   "metadata": {},
   "source": [
    "For the final recommender system, we decided to go with SciKit Learn's  recommender system (which is a neighbourhood based (KNN) system). \n",
    "> The main reason for this is because, it is easy to test out an item-item based movie system more than a user-user, after running the recommender functions, because the items are familiar more than the users.\n",
    "\n",
    "\n",
    "#### How the final system works:\n",
    "1. take in a user id.\n",
    "2. randomly select movies they highly rated.\n",
    "3. return 10 recommendations based on the movies liked.\n",
    "4. If no id given, use the unpersonalized recommender."
   ]
  },
  {
   "cell_type": "code",
   "execution_count": 168,
   "metadata": {},
   "outputs": [
    {
     "data": {
      "text/plain": [
       "['Top Gun (1986)',\n",
       " 'When Harry Met Sally... (1989)',\n",
       " 'Joy Luck Club, The (1993)',\n",
       " 'Sliding Doors (1998)',\n",
       " 'Wedding Singer, The (1998)',\n",
       " 'Out of Sight (1998)',\n",
       " 'Terms of Endearment (1983)',\n",
       " \"Christmas Vacation (National Lampoon's Christmas Vacation) (1989)\",\n",
       " 'Officer and a Gentleman, An (1982)',\n",
       " 'Sweet Home Alabama (2002)']"
      ]
     },
     "execution_count": 168,
     "metadata": {},
     "output_type": "execute_result"
    }
   ],
   "source": [
    "def ten_rated(uid, rec=10):\n",
    "    \"\"\"\n",
    "    Returns a list of movies highly rated by a user.\n",
    "    \n",
    "    Parameters:\n",
    "    uid (int): User ID of the user whose ratings are being queried.\n",
    "    rec (int): Number of top-rated movies to return (default is 10).\n",
    "\n",
    "    Returns:\n",
    "    list: A list of movie titles highly rated by the user.\n",
    "    \"\"\"\n",
    "    # Filter ratings to get only those from the specified user\n",
    "    mask = data[\"ratings\"]['userId'] == uid\n",
    "    user_movies = data[\"ratings\"][mask].sort_values(by=['rating'], ascending=False).head(rec)\n",
    "    \n",
    "    # Merge with movie titles to get full movie details\n",
    "    user_movies = pd.merge(data[\"movies\"], user_movies, how=\"inner\", on=\"movieId\")\n",
    "    \n",
    "    # Check if the user has any ratings\n",
    "    if len(user_movies) < 1:\n",
    "        raise ValueError(f\"User denoted by id: '{uid}' does not exist!\")\n",
    "    \n",
    "    # Return the list of movie titles\n",
    "    return list(user_movies[\"title\"])\n",
    "\n",
    "# Test the function for user-id: 100\n",
    "ten_rated(100)\n"
   ]
  },
  {
   "cell_type": "code",
   "execution_count": null,
   "metadata": {},
   "outputs": [
    {
     "name": "stdout",
     "output_type": "stream",
     "text": [
      "Unpersonalized recommendation:\n"
     ]
    },
    {
     "data": {
      "text/html": [
       "<div>\n",
       "<style scoped>\n",
       "    .dataframe tbody tr th:only-of-type {\n",
       "        vertical-align: middle;\n",
       "    }\n",
       "\n",
       "    .dataframe tbody tr th {\n",
       "        vertical-align: top;\n",
       "    }\n",
       "\n",
       "    .dataframe thead th {\n",
       "        text-align: right;\n",
       "    }\n",
       "</style>\n",
       "<table border=\"1\" class=\"dataframe\">\n",
       "  <thead>\n",
       "    <tr style=\"text-align: right;\">\n",
       "      <th></th>\n",
       "      <th>movieId</th>\n",
       "      <th>title</th>\n",
       "      <th>genres</th>\n",
       "      <th>imdbId</th>\n",
       "      <th>tmdbId</th>\n",
       "      <th>userId</th>\n",
       "      <th>rating</th>\n",
       "      <th>timestamp</th>\n",
       "      <th>year_of_release</th>\n",
       "    </tr>\n",
       "  </thead>\n",
       "  <tbody>\n",
       "    <tr>\n",
       "      <th>6051</th>\n",
       "      <td>40491</td>\n",
       "      <td>Match Factory Girl, The (Tulitikkutehtaan tytt...</td>\n",
       "      <td>Comedy|Drama</td>\n",
       "      <td>98532</td>\n",
       "      <td>7974.0</td>\n",
       "      <td>567.0</td>\n",
       "      <td>5.0</td>\n",
       "      <td>1.525282e+09</td>\n",
       "      <td>1990</td>\n",
       "    </tr>\n",
       "    <tr>\n",
       "      <th>915</th>\n",
       "      <td>1214</td>\n",
       "      <td>Alien (1979)</td>\n",
       "      <td>Horror|Sci-Fi</td>\n",
       "      <td>78748</td>\n",
       "      <td>348.0</td>\n",
       "      <td>469.0</td>\n",
       "      <td>5.0</td>\n",
       "      <td>9.653337e+08</td>\n",
       "      <td>1979</td>\n",
       "    </tr>\n",
       "    <tr>\n",
       "      <th>7372</th>\n",
       "      <td>79132</td>\n",
       "      <td>Inception (2010)</td>\n",
       "      <td>Action|Crime|Drama|Mystery|Sci-Fi|Thriller|IMAX</td>\n",
       "      <td>1375666</td>\n",
       "      <td>27205.0</td>\n",
       "      <td>348.0</td>\n",
       "      <td>5.0</td>\n",
       "      <td>1.378850e+09</td>\n",
       "      <td>2010</td>\n",
       "    </tr>\n",
       "    <tr>\n",
       "      <th>4076</th>\n",
       "      <td>5816</td>\n",
       "      <td>Harry Potter and the Chamber of Secrets (2002)</td>\n",
       "      <td>Adventure|Fantasy</td>\n",
       "      <td>295297</td>\n",
       "      <td>672.0</td>\n",
       "      <td>598.0</td>\n",
       "      <td>5.0</td>\n",
       "      <td>1.430617e+09</td>\n",
       "      <td>2002</td>\n",
       "    </tr>\n",
       "    <tr>\n",
       "      <th>972</th>\n",
       "      <td>1273</td>\n",
       "      <td>Down by Law (1986)</td>\n",
       "      <td>Comedy|Drama|Film-Noir</td>\n",
       "      <td>90967</td>\n",
       "      <td>1554.0</td>\n",
       "      <td>547.0</td>\n",
       "      <td>5.0</td>\n",
       "      <td>9.427234e+08</td>\n",
       "      <td>1986</td>\n",
       "    </tr>\n",
       "    <tr>\n",
       "      <th>307</th>\n",
       "      <td>349</td>\n",
       "      <td>Clear and Present Danger (1994)</td>\n",
       "      <td>Action|Crime|Drama|Thriller</td>\n",
       "      <td>109444</td>\n",
       "      <td>9331.0</td>\n",
       "      <td>524.0</td>\n",
       "      <td>5.0</td>\n",
       "      <td>8.516089e+08</td>\n",
       "      <td>1994</td>\n",
       "    </tr>\n",
       "    <tr>\n",
       "      <th>820</th>\n",
       "      <td>1080</td>\n",
       "      <td>Monty Python's Life of Brian (1979)</td>\n",
       "      <td>Comedy</td>\n",
       "      <td>79470</td>\n",
       "      <td>583.0</td>\n",
       "      <td>380.0</td>\n",
       "      <td>5.0</td>\n",
       "      <td>1.493474e+09</td>\n",
       "      <td>1979</td>\n",
       "    </tr>\n",
       "    <tr>\n",
       "      <th>413</th>\n",
       "      <td>475</td>\n",
       "      <td>In the Name of the Father (1993)</td>\n",
       "      <td>Drama</td>\n",
       "      <td>107207</td>\n",
       "      <td>7984.0</td>\n",
       "      <td>239.0</td>\n",
       "      <td>5.0</td>\n",
       "      <td>1.221159e+09</td>\n",
       "      <td>1993</td>\n",
       "    </tr>\n",
       "    <tr>\n",
       "      <th>1706</th>\n",
       "      <td>2294</td>\n",
       "      <td>Antz (1998)</td>\n",
       "      <td>Adventure|Animation|Children|Comedy|Fantasy</td>\n",
       "      <td>120587</td>\n",
       "      <td>8916.0</td>\n",
       "      <td>96.0</td>\n",
       "      <td>5.0</td>\n",
       "      <td>9.647740e+08</td>\n",
       "      <td>1998</td>\n",
       "    </tr>\n",
       "    <tr>\n",
       "      <th>314</th>\n",
       "      <td>356</td>\n",
       "      <td>Forrest Gump (1994)</td>\n",
       "      <td>Comedy|Drama|Romance|War</td>\n",
       "      <td>109830</td>\n",
       "      <td>13.0</td>\n",
       "      <td>443.0</td>\n",
       "      <td>5.0</td>\n",
       "      <td>1.501722e+09</td>\n",
       "      <td>1994</td>\n",
       "    </tr>\n",
       "  </tbody>\n",
       "</table>\n",
       "</div>"
      ],
      "text/plain": [
       "      movieId                                              title  \\\n",
       "6051    40491  Match Factory Girl, The (Tulitikkutehtaan tytt...   \n",
       "915      1214                                       Alien (1979)   \n",
       "7372    79132                                   Inception (2010)   \n",
       "4076     5816     Harry Potter and the Chamber of Secrets (2002)   \n",
       "972      1273                                 Down by Law (1986)   \n",
       "307       349                    Clear and Present Danger (1994)   \n",
       "820      1080                Monty Python's Life of Brian (1979)   \n",
       "413       475                   In the Name of the Father (1993)   \n",
       "1706     2294                                        Antz (1998)   \n",
       "314       356                                Forrest Gump (1994)   \n",
       "\n",
       "                                               genres   imdbId   tmdbId  \\\n",
       "6051                                     Comedy|Drama    98532   7974.0   \n",
       "915                                     Horror|Sci-Fi    78748    348.0   \n",
       "7372  Action|Crime|Drama|Mystery|Sci-Fi|Thriller|IMAX  1375666  27205.0   \n",
       "4076                                Adventure|Fantasy   295297    672.0   \n",
       "972                            Comedy|Drama|Film-Noir    90967   1554.0   \n",
       "307                       Action|Crime|Drama|Thriller   109444   9331.0   \n",
       "820                                            Comedy    79470    583.0   \n",
       "413                                             Drama   107207   7984.0   \n",
       "1706      Adventure|Animation|Children|Comedy|Fantasy   120587   8916.0   \n",
       "314                          Comedy|Drama|Romance|War   109830     13.0   \n",
       "\n",
       "     userId  rating     timestamp year_of_release  \n",
       "6051  567.0     5.0  1.525282e+09            1990  \n",
       "915   469.0     5.0  9.653337e+08            1979  \n",
       "7372  348.0     5.0  1.378850e+09            2010  \n",
       "4076  598.0     5.0  1.430617e+09            2002  \n",
       "972   547.0     5.0  9.427234e+08            1986  \n",
       "307   524.0     5.0  8.516089e+08            1994  \n",
       "820   380.0     5.0  1.493474e+09            1979  \n",
       "413   239.0     5.0  1.221159e+09            1993  \n",
       "1706   96.0     5.0  9.647740e+08            1998  \n",
       "314   443.0     5.0  1.501722e+09            1994  "
      ]
     },
     "metadata": {},
     "output_type": "display_data"
    }
   ],
   "source": [
    "def unp_recomm(count=10):\n",
    "    \"\"\"\n",
    "    Returns a random list of highly ranked movies across various genres.\n",
    "    \n",
    "    Parameters:\n",
    "    count (int): Number of recommended movies to return (default is 10).\n",
    "\n",
    "    Returns:\n",
    "    DataFrame: A DataFrame containing a random list of top-rated movies.\n",
    "    \"\"\"\n",
    "    # Extract unique genres from the 'genres' column\n",
    "    unique_genres = list(set(df['genres'].str.split('|', expand=True).stack()))\n",
    "    \n",
    "    recomms = pd.DataFrame()\n",
    "    for genre in unique_genres:\n",
    "        # Filter movies by the current genre and get the top 5 highest-rated movies\n",
    "        mask = df[\"genres\"].str.contains(genre, regex=False, case=False)\n",
    "        top_5 = df[mask].sort_values(by=\"rating\", ascending=False).head(5)\n",
    "        \n",
    "        # Extract the year of release from the movie title\n",
    "        top_5[\"year_of_release\"] = top_5[\"title\"].map(lambda x: x[-5:].strip(\")\"))\n",
    "        \n",
    "        # Concatenate the top 5 movies of this genre to the recommendations DataFrame\n",
    "        recomms = pd.concat([recomms, top_5])\n",
    "    \n",
    "    # Shuffle the recommendations and return a specified number of unique movies\n",
    "    print(\"Unpersonalized recommendation:\")\n",
    "    return recomms.sample(frac=1).drop_duplicates().head(count)\n",
    "\n",
    "# Test the function\n",
    "unp_recomm()\n"
   ]
  },
  {
   "cell_type": "code",
   "execution_count": 189,
   "metadata": {},
   "outputs": [
    {
     "name": "stdout",
     "output_type": "stream",
     "text": [
      "Recommendation for user id: 10\n"
     ]
    },
    {
     "data": {
      "text/html": [
       "<div>\n",
       "<style scoped>\n",
       "    .dataframe tbody tr th:only-of-type {\n",
       "        vertical-align: middle;\n",
       "    }\n",
       "\n",
       "    .dataframe tbody tr th {\n",
       "        vertical-align: top;\n",
       "    }\n",
       "\n",
       "    .dataframe thead th {\n",
       "        text-align: right;\n",
       "    }\n",
       "</style>\n",
       "<table border=\"1\" class=\"dataframe\">\n",
       "  <thead>\n",
       "    <tr style=\"text-align: right;\">\n",
       "      <th></th>\n",
       "      <th>movieId</th>\n",
       "      <th>title</th>\n",
       "      <th>genres</th>\n",
       "      <th>knn_distance</th>\n",
       "    </tr>\n",
       "  </thead>\n",
       "  <tbody>\n",
       "    <tr>\n",
       "      <th>8235</th>\n",
       "      <td>104211</td>\n",
       "      <td>We're the Millers (2013)</td>\n",
       "      <td>Comedy|Crime</td>\n",
       "      <td>0.405276</td>\n",
       "    </tr>\n",
       "    <tr>\n",
       "      <th>6943</th>\n",
       "      <td>65230</td>\n",
       "      <td>Marley &amp; Me (2008)</td>\n",
       "      <td>Comedy|Drama</td>\n",
       "      <td>0.435898</td>\n",
       "    </tr>\n",
       "    <tr>\n",
       "      <th>8816</th>\n",
       "      <td>131013</td>\n",
       "      <td>Get Hard (2015)</td>\n",
       "      <td>Comedy|Crime</td>\n",
       "      <td>0.442236</td>\n",
       "    </tr>\n",
       "    <tr>\n",
       "      <th>8761</th>\n",
       "      <td>128520</td>\n",
       "      <td>The Wedding Ringer (2015)</td>\n",
       "      <td>Comedy</td>\n",
       "      <td>0.488111</td>\n",
       "    </tr>\n",
       "    <tr>\n",
       "      <th>7056</th>\n",
       "      <td>69406</td>\n",
       "      <td>Proposal, The (2009)</td>\n",
       "      <td>Comedy|Romance</td>\n",
       "      <td>0.489349</td>\n",
       "    </tr>\n",
       "  </tbody>\n",
       "</table>\n",
       "</div>"
      ],
      "text/plain": [
       "      movieId                      title          genres  knn_distance\n",
       "8235   104211   We're the Millers (2013)    Comedy|Crime      0.405276\n",
       "6943    65230         Marley & Me (2008)    Comedy|Drama      0.435898\n",
       "8816   131013            Get Hard (2015)    Comedy|Crime      0.442236\n",
       "8761   128520  The Wedding Ringer (2015)          Comedy      0.488111\n",
       "7056    69406       Proposal, The (2009)  Comedy|Romance      0.489349"
      ]
     },
     "execution_count": 189,
     "metadata": {},
     "output_type": "execute_result"
    }
   ],
   "source": [
    "import random\n",
    "\n",
    "random.seed(555)\n",
    "\n",
    "def ft_recommender(uid=None, rec=10):\n",
    "    \"\"\"Get recommendations for a movie using KNN\n",
    "    params:\n",
    "    =======\n",
    "    uid - user id\n",
    "    rec - recommendation movie count\n",
    "    \"\"\"\n",
    "    if not uid:\n",
    "        return unpersonalized_recomm(rec)\n",
    "    # create a return dataframe\n",
    "    ret_df = pd.DataFrame()\n",
    "    # initiate an empty list to fill the knn distances\n",
    "    try:\n",
    "        # get top 10 movies\n",
    "        top_user_movies = top_ten_highly_rated(uid, rec)\n",
    "        \n",
    "        for i in range(rec):\n",
    "            # random title from top 10 movies highly ranked by user\n",
    "            random_title = top_user_movies[random.randint(0, 5)]\n",
    "            \n",
    "            # get the full title\n",
    "            title, _ = get_title(random_title, df)\n",
    "            \n",
    "            # get recommendation of random title\n",
    "            movie_rec = knn_get_rec(title, rec, verbose=False)\n",
    "            \n",
    "            # if not dataframe continue\n",
    "            if type(movie_rec) is str:\n",
    "                continue\n",
    "            # sort by distance (ascending)\n",
    "            ret_df = movie_rec.sort_values(by=\"knn_distance\")\n",
    "\n",
    "            # fill in the return df\n",
    "            ret_df = pd.concat([ret_df, ret_df.head()])\n",
    "                \n",
    "            # drop dups\n",
    "            ret_df = ret_df.drop_duplicates()\n",
    "\n",
    "        print(f\"Recommendation for user id: {uid}\")\n",
    "        return ret_df\n",
    "\n",
    "    except Exception as _:\n",
    "        print(_)\n",
    "        return \"⚠ Oops! Something went wrong!\"\n",
    "        \n",
    "\n",
    "# test for user-id: 100\n",
    "ft_recommender(10, 5)"
   ]
  },
  {
   "cell_type": "code",
   "execution_count": 191,
   "metadata": {},
   "outputs": [
    {
     "name": "stdout",
     "output_type": "stream",
     "text": [
      "Recommendation for user id: 30\n"
     ]
    },
    {
     "data": {
      "text/html": [
       "<div>\n",
       "<style scoped>\n",
       "    .dataframe tbody tr th:only-of-type {\n",
       "        vertical-align: middle;\n",
       "    }\n",
       "\n",
       "    .dataframe tbody tr th {\n",
       "        vertical-align: top;\n",
       "    }\n",
       "\n",
       "    .dataframe thead th {\n",
       "        text-align: right;\n",
       "    }\n",
       "</style>\n",
       "<table border=\"1\" class=\"dataframe\">\n",
       "  <thead>\n",
       "    <tr style=\"text-align: right;\">\n",
       "      <th></th>\n",
       "      <th>movieId</th>\n",
       "      <th>title</th>\n",
       "      <th>genres</th>\n",
       "      <th>knn_distance</th>\n",
       "    </tr>\n",
       "  </thead>\n",
       "  <tbody>\n",
       "    <tr>\n",
       "      <th>7372</th>\n",
       "      <td>79132</td>\n",
       "      <td>Inception (2010)</td>\n",
       "      <td>Action|Crime|Drama|Mystery|Sci-Fi|Thriller|IMAX</td>\n",
       "      <td>0.272737</td>\n",
       "    </tr>\n",
       "    <tr>\n",
       "      <th>6743</th>\n",
       "      <td>59315</td>\n",
       "      <td>Iron Man (2008)</td>\n",
       "      <td>Action|Adventure|Sci-Fi</td>\n",
       "      <td>0.329462</td>\n",
       "    </tr>\n",
       "    <tr>\n",
       "      <th>7768</th>\n",
       "      <td>91529</td>\n",
       "      <td>Dark Knight Rises, The (2012)</td>\n",
       "      <td>Action|Adventure|Crime|IMAX</td>\n",
       "      <td>0.333946</td>\n",
       "    </tr>\n",
       "    <tr>\n",
       "      <th>5917</th>\n",
       "      <td>33794</td>\n",
       "      <td>Batman Begins (2005)</td>\n",
       "      <td>Action|Crime|IMAX</td>\n",
       "      <td>0.348718</td>\n",
       "    </tr>\n",
       "    <tr>\n",
       "      <th>4800</th>\n",
       "      <td>7153</td>\n",
       "      <td>Lord of the Rings: The Return of the King, The...</td>\n",
       "      <td>Action|Adventure|Drama|Fantasy</td>\n",
       "      <td>0.379363</td>\n",
       "    </tr>\n",
       "  </tbody>\n",
       "</table>\n",
       "</div>"
      ],
      "text/plain": [
       "      movieId                                              title  \\\n",
       "7372    79132                                   Inception (2010)   \n",
       "6743    59315                                    Iron Man (2008)   \n",
       "7768    91529                      Dark Knight Rises, The (2012)   \n",
       "5917    33794                               Batman Begins (2005)   \n",
       "4800     7153  Lord of the Rings: The Return of the King, The...   \n",
       "\n",
       "                                               genres  knn_distance  \n",
       "7372  Action|Crime|Drama|Mystery|Sci-Fi|Thriller|IMAX      0.272737  \n",
       "6743                          Action|Adventure|Sci-Fi      0.329462  \n",
       "7768                      Action|Adventure|Crime|IMAX      0.333946  \n",
       "5917                                Action|Crime|IMAX      0.348718  \n",
       "4800                   Action|Adventure|Drama|Fantasy      0.379363  "
      ]
     },
     "execution_count": 191,
     "metadata": {},
     "output_type": "execute_result"
    }
   ],
   "source": [
    "# test 2 for user-id: 300\n",
    "ft_recommender(30, 5)"
   ]
  },
  {
   "cell_type": "code",
   "execution_count": 192,
   "metadata": {},
   "outputs": [
    {
     "name": "stdout",
     "output_type": "stream",
     "text": [
      "Unpersonalized recommendation:\n"
     ]
    },
    {
     "data": {
      "text/html": [
       "<div>\n",
       "<style scoped>\n",
       "    .dataframe tbody tr th:only-of-type {\n",
       "        vertical-align: middle;\n",
       "    }\n",
       "\n",
       "    .dataframe tbody tr th {\n",
       "        vertical-align: top;\n",
       "    }\n",
       "\n",
       "    .dataframe thead th {\n",
       "        text-align: right;\n",
       "    }\n",
       "</style>\n",
       "<table border=\"1\" class=\"dataframe\">\n",
       "  <thead>\n",
       "    <tr style=\"text-align: right;\">\n",
       "      <th></th>\n",
       "      <th>movieId</th>\n",
       "      <th>title</th>\n",
       "      <th>genres</th>\n",
       "      <th>imdbId</th>\n",
       "      <th>tmdbId</th>\n",
       "      <th>userId</th>\n",
       "      <th>rating</th>\n",
       "      <th>timestamp</th>\n",
       "      <th>year_of_release</th>\n",
       "    </tr>\n",
       "  </thead>\n",
       "  <tbody>\n",
       "    <tr>\n",
       "      <th>9426</th>\n",
       "      <td>166024</td>\n",
       "      <td>Whiplash (2013)</td>\n",
       "      <td>(no genres listed)</td>\n",
       "      <td>2654430</td>\n",
       "      <td>367412.0</td>\n",
       "      <td>601.0</td>\n",
       "      <td>5.0</td>\n",
       "      <td>1.521468e+09</td>\n",
       "      <td>2013</td>\n",
       "    </tr>\n",
       "    <tr>\n",
       "      <th>898</th>\n",
       "      <td>1196</td>\n",
       "      <td>Star Wars: Episode V - The Empire Strikes Back...</td>\n",
       "      <td>Action|Adventure|Sci-Fi</td>\n",
       "      <td>80684</td>\n",
       "      <td>1891.0</td>\n",
       "      <td>335.0</td>\n",
       "      <td>5.0</td>\n",
       "      <td>1.261542e+09</td>\n",
       "      <td>1980</td>\n",
       "    </tr>\n",
       "    <tr>\n",
       "      <th>959</th>\n",
       "      <td>1260</td>\n",
       "      <td>M (1931)</td>\n",
       "      <td>Crime|Film-Noir|Thriller</td>\n",
       "      <td>22100</td>\n",
       "      <td>832.0</td>\n",
       "      <td>410.0</td>\n",
       "      <td>5.0</td>\n",
       "      <td>9.909093e+08</td>\n",
       "      <td>1931</td>\n",
       "    </tr>\n",
       "    <tr>\n",
       "      <th>9541</th>\n",
       "      <td>172591</td>\n",
       "      <td>The Godfather Trilogy: 1972-1990 (1992)</td>\n",
       "      <td>(no genres listed)</td>\n",
       "      <td>150742</td>\n",
       "      <td>364150.0</td>\n",
       "      <td>62.0</td>\n",
       "      <td>5.0</td>\n",
       "      <td>1.525637e+09</td>\n",
       "      <td>1992</td>\n",
       "    </tr>\n",
       "    <tr>\n",
       "      <th>136</th>\n",
       "      <td>163</td>\n",
       "      <td>Desperado (1995)</td>\n",
       "      <td>Action|Romance|Western</td>\n",
       "      <td>112851</td>\n",
       "      <td>8068.0</td>\n",
       "      <td>1.0</td>\n",
       "      <td>5.0</td>\n",
       "      <td>9.649836e+08</td>\n",
       "      <td>1995</td>\n",
       "    </tr>\n",
       "    <tr>\n",
       "      <th>325</th>\n",
       "      <td>367</td>\n",
       "      <td>Mask, The (1994)</td>\n",
       "      <td>Action|Comedy|Crime|Fantasy</td>\n",
       "      <td>110475</td>\n",
       "      <td>854.0</td>\n",
       "      <td>524.0</td>\n",
       "      <td>5.0</td>\n",
       "      <td>8.516088e+08</td>\n",
       "      <td>1994</td>\n",
       "    </tr>\n",
       "    <tr>\n",
       "      <th>1706</th>\n",
       "      <td>2294</td>\n",
       "      <td>Antz (1998)</td>\n",
       "      <td>Adventure|Animation|Children|Comedy|Fantasy</td>\n",
       "      <td>120587</td>\n",
       "      <td>8916.0</td>\n",
       "      <td>96.0</td>\n",
       "      <td>5.0</td>\n",
       "      <td>9.647740e+08</td>\n",
       "      <td>1998</td>\n",
       "    </tr>\n",
       "    <tr>\n",
       "      <th>1701</th>\n",
       "      <td>2288</td>\n",
       "      <td>Thing, The (1982)</td>\n",
       "      <td>Action|Horror|Sci-Fi|Thriller</td>\n",
       "      <td>84787</td>\n",
       "      <td>1091.0</td>\n",
       "      <td>527.0</td>\n",
       "      <td>5.0</td>\n",
       "      <td>1.033175e+09</td>\n",
       "      <td>1982</td>\n",
       "    </tr>\n",
       "    <tr>\n",
       "      <th>2238</th>\n",
       "      <td>2973</td>\n",
       "      <td>Crimes and Misdemeanors (1989)</td>\n",
       "      <td>Comedy|Crime|Drama</td>\n",
       "      <td>97123</td>\n",
       "      <td>11562.0</td>\n",
       "      <td>597.0</td>\n",
       "      <td>5.0</td>\n",
       "      <td>9.416416e+08</td>\n",
       "      <td>1989</td>\n",
       "    </tr>\n",
       "    <tr>\n",
       "      <th>714</th>\n",
       "      <td>933</td>\n",
       "      <td>To Catch a Thief (1955)</td>\n",
       "      <td>Crime|Mystery|Romance|Thriller</td>\n",
       "      <td>48728</td>\n",
       "      <td>381.0</td>\n",
       "      <td>113.0</td>\n",
       "      <td>5.0</td>\n",
       "      <td>9.803069e+08</td>\n",
       "      <td>1955</td>\n",
       "    </tr>\n",
       "  </tbody>\n",
       "</table>\n",
       "</div>"
      ],
      "text/plain": [
       "      movieId                                              title  \\\n",
       "9426   166024                                    Whiplash (2013)   \n",
       "898      1196  Star Wars: Episode V - The Empire Strikes Back...   \n",
       "959      1260                                           M (1931)   \n",
       "9541   172591            The Godfather Trilogy: 1972-1990 (1992)   \n",
       "136       163                                   Desperado (1995)   \n",
       "325       367                                   Mask, The (1994)   \n",
       "1706     2294                                        Antz (1998)   \n",
       "1701     2288                                  Thing, The (1982)   \n",
       "2238     2973                     Crimes and Misdemeanors (1989)   \n",
       "714       933                            To Catch a Thief (1955)   \n",
       "\n",
       "                                           genres   imdbId    tmdbId userId  \\\n",
       "9426                           (no genres listed)  2654430  367412.0  601.0   \n",
       "898                       Action|Adventure|Sci-Fi    80684    1891.0  335.0   \n",
       "959                      Crime|Film-Noir|Thriller    22100     832.0  410.0   \n",
       "9541                           (no genres listed)   150742  364150.0   62.0   \n",
       "136                        Action|Romance|Western   112851    8068.0    1.0   \n",
       "325                   Action|Comedy|Crime|Fantasy   110475     854.0  524.0   \n",
       "1706  Adventure|Animation|Children|Comedy|Fantasy   120587    8916.0   96.0   \n",
       "1701                Action|Horror|Sci-Fi|Thriller    84787    1091.0  527.0   \n",
       "2238                           Comedy|Crime|Drama    97123   11562.0  597.0   \n",
       "714                Crime|Mystery|Romance|Thriller    48728     381.0  113.0   \n",
       "\n",
       "      rating     timestamp year_of_release  \n",
       "9426     5.0  1.521468e+09            2013  \n",
       "898      5.0  1.261542e+09            1980  \n",
       "959      5.0  9.909093e+08            1931  \n",
       "9541     5.0  1.525637e+09            1992  \n",
       "136      5.0  9.649836e+08            1995  \n",
       "325      5.0  8.516088e+08            1994  \n",
       "1706     5.0  9.647740e+08            1998  \n",
       "1701     5.0  1.033175e+09            1982  \n",
       "2238     5.0  9.416416e+08            1989  \n",
       "714      5.0  9.803069e+08            1955  "
      ]
     },
     "execution_count": 192,
     "metadata": {},
     "output_type": "execute_result"
    }
   ],
   "source": [
    "# no user-id: (unpersonalized)\n",
    "final_recommender()"
   ]
  },
  {
   "cell_type": "markdown",
   "metadata": {},
   "source": [
    "## Conclusion and Recommendation\n",
    "\n",
    "### Overview\n",
    "\n",
    "In developing a movie recommendation system, we explored several approaches: content-based filtering, neighborhood-based collaborative filtering (KNN), and model-based collaborative filtering (SVD). Each method provided distinct advantages and faced specific challenges.\n",
    "\n",
    "1. **Content-Based Filtering**\n",
    "\n",
    "   We constructed a recommender system using movie features such as genres. This approach generates recommendations by assessing similarities in movie content. However, it may encounter difficulties in capturing a wide range of user preferences.\n",
    "\n",
    "2. **Neighborhood-Based Collaborative Filtering (KNN)**\n",
    "\n",
    "   Implemented with SciKit Learn, the KNN model leveraged user-item interactions for recommendations. The item-based variant, focusing on cosine similarity, showed effectiveness in identifying similar movies.\n",
    "\n",
    "3. **Model-Based Collaborative Filtering (SVD)**\n",
    "\n",
    "   Using the Surprise library, we applied SVD, a matrix factorization technique. While SVD achieved a decent performance with an RMSE of 0.8925, its success can be influenced by tuning hyperparameters.\n",
    "\n",
    "### Recommendation\n",
    "\n",
    "Considering the trade-offs of different methods, we recommend adopting a hybrid model that combines content-based and collaborative filtering techniques. This approach can utilize the detailed user-item interactions from collaborative filtering while integrating content features for a more personalized and varied recommendation.\n",
    "\n",
    "Further improvements can be made by tuning hyperparameters and evaluating the model with a larger dataset. Regular updates based on user feedback and new content will also enhance the recommendation engine's effectiveness.\n",
    "\n",
    "In conclusion, selecting the right recommendation system depends on specific requirements, user preferences, and dataset characteristics. A balanced hybrid model, with ongoing refinements and validations, is likely to provide robust and accurate movie recommendations.\n"
   ]
  },
  {
   "cell_type": "markdown",
   "metadata": {},
   "source": [
    "# Final part of saving our file in pipelines"
   ]
  },
  {
   "cell_type": "markdown",
   "metadata": {},
   "source": [
    "joblib is a Python library used for efficiently serializing and deserializing large data objects, such as machine learning models, allowing for fast saving and loading of these objects to and from disk."
   ]
  },
  {
   "cell_type": "code",
   "execution_count": 207,
   "metadata": {},
   "outputs": [
    {
     "data": {
      "text/plain": [
       "['knn_pv.joblib']"
      ]
     },
     "execution_count": 207,
     "metadata": {},
     "output_type": "execute_result"
    }
   ],
   "source": [
    "import joblib\n",
    "\n",
    "# Save the trained KNN model using joblib\n",
    "joblib.dump(model_knn, \"recom_model.joblib\")\n",
    "\n",
    "# Save the DataFrame using joblib\n",
    "joblib.dump(knnrc_df, \"knn_pv.joblib\")\n",
    "\n",
    "\n",
    "\n"
   ]
  },
  {
   "cell_type": "code",
   "execution_count": null,
   "metadata": {},
   "outputs": [],
   "source": []
  }
 ],
 "metadata": {
  "kernelspec": {
   "display_name": "Python 3",
   "language": "python",
   "name": "python3"
  },
  "language_info": {
   "codemirror_mode": {
    "name": "ipython",
    "version": 3
   },
   "file_extension": ".py",
   "mimetype": "text/x-python",
   "name": "python",
   "nbconvert_exporter": "python",
   "pygments_lexer": "ipython3",
   "version": "3.12.1"
  }
 },
 "nbformat": 4,
 "nbformat_minor": 2
}
