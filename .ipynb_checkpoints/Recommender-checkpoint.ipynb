{
 "cells": [
  {
   "cell_type": "code",
   "execution_count": null,
   "metadata": {},
   "outputs": [],
   "source": []
  },
  {
   "cell_type": "markdown",
   "metadata": {},
   "source": [
    "### Business Understanding\n",
    "In the highly competitive streaming industry, platforms like Netflix, Amazon Prime, Hulu, and others aim to retain users and maximize user engagement by providing personalized content. A robust recommendation system is crucial for achieving this goal.\n",
    "\n",
    "### Business Problem\n",
    "Enhancing User Retention and Engagement through Personalized Recommendations\n",
    "\n",
    "### objective\n",
    "1. Increase User Engagement: By recommending movies that align with a user's preferences, the platform can encourage users to spend more time on the platform, thereby increasing engagement.\n",
    "\n",
    "2. Improve User Retention: Personalized recommendations can lead to higher user satisfaction, reducing the churn rate and ensuring users stay subscribed to the service.\n",
    "\n",
    "3. Drive Revenue Growth: Higher engagement and retention rates can lead to increased subscription renewals and potential upsells of premium services.\n",
    "\n",
    "4. Competitive Advantage: Offering superior personalization compared to competitors can differentiate the platform, attracting more users.\n",
    "\n",
    "### Key Performance Indicators (KPIs)\n",
    "\n",
    "- User Engagement Metrics:\n",
    "Average watch time per user,\n",
    "Number of movies watched per user &\n",
    "Frequency of user visits\n",
    "\n",
    "- User Retention Metrics:\n",
    "Monthly and yearly retention rates &\n",
    "Churn rate\n",
    "\n",
    "- Recommendation Performance Metrics:\n",
    "Click-through rate (CTR) on recommended movies,\n",
    "Conversion rate (proportion of recommendations that lead to a watch) &\n",
    "Precision and recall of the recommendation system\n",
    "\n",
    "### Stakeholders\n",
    "1. Product Managers: Interested in the overall functionality and performance of the recommendation system.\n",
    "2. Marketing Teams: Focus on using personalized recommendations to target users with relevant content.\n",
    "3. Data Scientists and Engineers: Responsible for building, testing, and maintaining the recommendation system.\n",
    "4. Executives: Concerned with how the recommendation system impacts business goals like user retention, engagement, and revenue.\n",
    "Solution\n",
    "### Collaborative Filtering-Based Recommendation System\n",
    "\n",
    "1. User-Based Collaborative Filtering: Recommend movies based on the ratings and preferences of similar users.\n",
    "\n",
    "2. Item-Based Collaborative Filtering (Optional): Recommend movies based on similarity between items (movies).\n",
    "\n",
    "3. Hybrid Approach (Optional): Combine collaborative filtering with content-based filtering to address cold start problems and improve reccommendation\n",
    "\n",
    "### Implementation Plan\n",
    "\n",
    "- Data Collection and Preprocessing:\n",
    "Gather user ratings data from the MovieLens dataset.\n",
    "Clean and preprocess the data for analysis.\n",
    "\n",
    "- Model Development:\n",
    " Develop a collaborative filtering model to generate personalized movie recommendations.\n",
    "Optional: Enhance the model with a hybrid approach for improved accuracy.\n",
    "- Evaluation:\n",
    " Evaluate the model using metrics like precision, recall, and RMSE.\n",
    "Conduct A/B testing to compare the new recommendation system against existing methods.\n",
    "- Deployment:\n",
    "Integrate the recommendation system into the platform.\n",
    "Create a user interface for users to rate movies and receive recommendations.\n",
    "\n",
    "- Monitoring and Optimization:\n",
    " Continuously monitor the performance of the recommendation system.\n",
    "Update and refine the model based on user feedback and new data.\n",
    "\n",
    "### Challenges\n",
    "1. Data Sparsity: Many users might rate only a few movies, leading to sparse user-item matrices.\n",
    "\n",
    "2. Cold Start Problem: New users or movies with little to no ratings can be difficult to recommend.\n",
    "\n",
    "3. Scalability: As the number of users and movies grows, ensuring the recommendation system remains efficient and responsive is crucial.\n",
    "\n",
    "By addressing these challenges and focusing on the outlined objectives, the recommendation system can significantly enhance the user experience, leading to increased engagement, retention, and ultimately, revenue growth for the streaming platform."
   ]
  },
  {
   "cell_type": "code",
   "execution_count": 75,
   "metadata": {},
   "outputs": [],
   "source": [
    "# Import necessary libraries for data manipulation and numerical computations\n",
    "import pandas as pd\n",
    "import numpy as np\n",
    "\n",
    "# Import machine learning libraries\n",
    "from sklearn.metrics.pairwise import cosine_similarity\n",
    "from sklearn.metrics import mean_squared_error\n",
    "from sklearn.model_selection import train_test_split\n",
    "\n",
    "# Import library for handling sparse matrices\n",
    "from scipy.sparse import csr_matrix\n",
    "\n",
    "# Import warnings library to manage warnings\n",
    "import warnings\n",
    "\n",
    "# Ignore warnings\n",
    "warnings.filterwarnings('ignore')\n",
    "\n",
    "# Import libraries for data visualization\n",
    "import matplotlib.pyplot as plt\n",
    "import seaborn as sns\n"
   ]
  },
  {
   "cell_type": "code",
   "execution_count": 76,
   "metadata": {},
   "outputs": [],
   "source": [
    "#load the datasets\n",
    "ratings = pd.read_csv('Movies_datasets/ratings.csv', index_col = 0)\n",
    "movies = pd.read_csv('Movies_datasets/movies.csv', index_col = 0)\n",
    "links = pd.read_csv('Movies_datasets/links.csv', index_col = 0)\n",
    "\n"
   ]
  },
  {
   "cell_type": "code",
   "execution_count": 77,
   "metadata": {},
   "outputs": [
    {
     "data": {
      "text/html": [
       "<div>\n",
       "<style scoped>\n",
       "    .dataframe tbody tr th:only-of-type {\n",
       "        vertical-align: middle;\n",
       "    }\n",
       "\n",
       "    .dataframe tbody tr th {\n",
       "        vertical-align: top;\n",
       "    }\n",
       "\n",
       "    .dataframe thead th {\n",
       "        text-align: right;\n",
       "    }\n",
       "</style>\n",
       "<table border=\"1\" class=\"dataframe\">\n",
       "  <thead>\n",
       "    <tr style=\"text-align: right;\">\n",
       "      <th></th>\n",
       "      <th>movieId</th>\n",
       "      <th>rating</th>\n",
       "      <th>timestamp</th>\n",
       "    </tr>\n",
       "    <tr>\n",
       "      <th>userId</th>\n",
       "      <th></th>\n",
       "      <th></th>\n",
       "      <th></th>\n",
       "    </tr>\n",
       "  </thead>\n",
       "  <tbody>\n",
       "    <tr>\n",
       "      <th>1</th>\n",
       "      <td>1</td>\n",
       "      <td>4.0</td>\n",
       "      <td>964982703</td>\n",
       "    </tr>\n",
       "    <tr>\n",
       "      <th>1</th>\n",
       "      <td>3</td>\n",
       "      <td>4.0</td>\n",
       "      <td>964981247</td>\n",
       "    </tr>\n",
       "    <tr>\n",
       "      <th>1</th>\n",
       "      <td>6</td>\n",
       "      <td>4.0</td>\n",
       "      <td>964982224</td>\n",
       "    </tr>\n",
       "    <tr>\n",
       "      <th>1</th>\n",
       "      <td>47</td>\n",
       "      <td>5.0</td>\n",
       "      <td>964983815</td>\n",
       "    </tr>\n",
       "    <tr>\n",
       "      <th>1</th>\n",
       "      <td>50</td>\n",
       "      <td>5.0</td>\n",
       "      <td>964982931</td>\n",
       "    </tr>\n",
       "    <tr>\n",
       "      <th>...</th>\n",
       "      <td>...</td>\n",
       "      <td>...</td>\n",
       "      <td>...</td>\n",
       "    </tr>\n",
       "    <tr>\n",
       "      <th>610</th>\n",
       "      <td>166534</td>\n",
       "      <td>4.0</td>\n",
       "      <td>1493848402</td>\n",
       "    </tr>\n",
       "    <tr>\n",
       "      <th>610</th>\n",
       "      <td>168248</td>\n",
       "      <td>5.0</td>\n",
       "      <td>1493850091</td>\n",
       "    </tr>\n",
       "    <tr>\n",
       "      <th>610</th>\n",
       "      <td>168250</td>\n",
       "      <td>5.0</td>\n",
       "      <td>1494273047</td>\n",
       "    </tr>\n",
       "    <tr>\n",
       "      <th>610</th>\n",
       "      <td>168252</td>\n",
       "      <td>5.0</td>\n",
       "      <td>1493846352</td>\n",
       "    </tr>\n",
       "    <tr>\n",
       "      <th>610</th>\n",
       "      <td>170875</td>\n",
       "      <td>3.0</td>\n",
       "      <td>1493846415</td>\n",
       "    </tr>\n",
       "  </tbody>\n",
       "</table>\n",
       "<p>100836 rows × 3 columns</p>\n",
       "</div>"
      ],
      "text/plain": [
       "        movieId  rating   timestamp\n",
       "userId                             \n",
       "1             1     4.0   964982703\n",
       "1             3     4.0   964981247\n",
       "1             6     4.0   964982224\n",
       "1            47     5.0   964983815\n",
       "1            50     5.0   964982931\n",
       "...         ...     ...         ...\n",
       "610      166534     4.0  1493848402\n",
       "610      168248     5.0  1493850091\n",
       "610      168250     5.0  1494273047\n",
       "610      168252     5.0  1493846352\n",
       "610      170875     3.0  1493846415\n",
       "\n",
       "[100836 rows x 3 columns]"
      ]
     },
     "execution_count": 77,
     "metadata": {},
     "output_type": "execute_result"
    }
   ],
   "source": [
    "#checking the first and last rows in the ratings dataset\n",
    "ratings"
   ]
  },
  {
   "cell_type": "code",
   "execution_count": 78,
   "metadata": {},
   "outputs": [
    {
     "data": {
      "text/html": [
       "<div>\n",
       "<style scoped>\n",
       "    .dataframe tbody tr th:only-of-type {\n",
       "        vertical-align: middle;\n",
       "    }\n",
       "\n",
       "    .dataframe tbody tr th {\n",
       "        vertical-align: top;\n",
       "    }\n",
       "\n",
       "    .dataframe thead th {\n",
       "        text-align: right;\n",
       "    }\n",
       "</style>\n",
       "<table border=\"1\" class=\"dataframe\">\n",
       "  <thead>\n",
       "    <tr style=\"text-align: right;\">\n",
       "      <th></th>\n",
       "      <th>title</th>\n",
       "      <th>genres</th>\n",
       "    </tr>\n",
       "    <tr>\n",
       "      <th>movieId</th>\n",
       "      <th></th>\n",
       "      <th></th>\n",
       "    </tr>\n",
       "  </thead>\n",
       "  <tbody>\n",
       "    <tr>\n",
       "      <th>1</th>\n",
       "      <td>Toy Story (1995)</td>\n",
       "      <td>Adventure|Animation|Children|Comedy|Fantasy</td>\n",
       "    </tr>\n",
       "    <tr>\n",
       "      <th>2</th>\n",
       "      <td>Jumanji (1995)</td>\n",
       "      <td>Adventure|Children|Fantasy</td>\n",
       "    </tr>\n",
       "    <tr>\n",
       "      <th>3</th>\n",
       "      <td>Grumpier Old Men (1995)</td>\n",
       "      <td>Comedy|Romance</td>\n",
       "    </tr>\n",
       "    <tr>\n",
       "      <th>4</th>\n",
       "      <td>Waiting to Exhale (1995)</td>\n",
       "      <td>Comedy|Drama|Romance</td>\n",
       "    </tr>\n",
       "    <tr>\n",
       "      <th>5</th>\n",
       "      <td>Father of the Bride Part II (1995)</td>\n",
       "      <td>Comedy</td>\n",
       "    </tr>\n",
       "    <tr>\n",
       "      <th>...</th>\n",
       "      <td>...</td>\n",
       "      <td>...</td>\n",
       "    </tr>\n",
       "    <tr>\n",
       "      <th>193581</th>\n",
       "      <td>Black Butler: Book of the Atlantic (2017)</td>\n",
       "      <td>Action|Animation|Comedy|Fantasy</td>\n",
       "    </tr>\n",
       "    <tr>\n",
       "      <th>193583</th>\n",
       "      <td>No Game No Life: Zero (2017)</td>\n",
       "      <td>Animation|Comedy|Fantasy</td>\n",
       "    </tr>\n",
       "    <tr>\n",
       "      <th>193585</th>\n",
       "      <td>Flint (2017)</td>\n",
       "      <td>Drama</td>\n",
       "    </tr>\n",
       "    <tr>\n",
       "      <th>193587</th>\n",
       "      <td>Bungo Stray Dogs: Dead Apple (2018)</td>\n",
       "      <td>Action|Animation</td>\n",
       "    </tr>\n",
       "    <tr>\n",
       "      <th>193609</th>\n",
       "      <td>Andrew Dice Clay: Dice Rules (1991)</td>\n",
       "      <td>Comedy</td>\n",
       "    </tr>\n",
       "  </tbody>\n",
       "</table>\n",
       "<p>9742 rows × 2 columns</p>\n",
       "</div>"
      ],
      "text/plain": [
       "                                             title  \\\n",
       "movieId                                              \n",
       "1                                 Toy Story (1995)   \n",
       "2                                   Jumanji (1995)   \n",
       "3                          Grumpier Old Men (1995)   \n",
       "4                         Waiting to Exhale (1995)   \n",
       "5               Father of the Bride Part II (1995)   \n",
       "...                                            ...   \n",
       "193581   Black Butler: Book of the Atlantic (2017)   \n",
       "193583                No Game No Life: Zero (2017)   \n",
       "193585                                Flint (2017)   \n",
       "193587         Bungo Stray Dogs: Dead Apple (2018)   \n",
       "193609         Andrew Dice Clay: Dice Rules (1991)   \n",
       "\n",
       "                                              genres  \n",
       "movieId                                               \n",
       "1        Adventure|Animation|Children|Comedy|Fantasy  \n",
       "2                         Adventure|Children|Fantasy  \n",
       "3                                     Comedy|Romance  \n",
       "4                               Comedy|Drama|Romance  \n",
       "5                                             Comedy  \n",
       "...                                              ...  \n",
       "193581               Action|Animation|Comedy|Fantasy  \n",
       "193583                      Animation|Comedy|Fantasy  \n",
       "193585                                         Drama  \n",
       "193587                              Action|Animation  \n",
       "193609                                        Comedy  \n",
       "\n",
       "[9742 rows x 2 columns]"
      ]
     },
     "execution_count": 78,
     "metadata": {},
     "output_type": "execute_result"
    }
   ],
   "source": [
    "#checking the first and last rows in the movies dataset\n",
    "movies"
   ]
  },
  {
   "cell_type": "code",
   "execution_count": 79,
   "metadata": {},
   "outputs": [
    {
     "data": {
      "text/html": [
       "<div>\n",
       "<style scoped>\n",
       "    .dataframe tbody tr th:only-of-type {\n",
       "        vertical-align: middle;\n",
       "    }\n",
       "\n",
       "    .dataframe tbody tr th {\n",
       "        vertical-align: top;\n",
       "    }\n",
       "\n",
       "    .dataframe thead th {\n",
       "        text-align: right;\n",
       "    }\n",
       "</style>\n",
       "<table border=\"1\" class=\"dataframe\">\n",
       "  <thead>\n",
       "    <tr style=\"text-align: right;\">\n",
       "      <th></th>\n",
       "      <th>imdbId</th>\n",
       "      <th>tmdbId</th>\n",
       "    </tr>\n",
       "    <tr>\n",
       "      <th>movieId</th>\n",
       "      <th></th>\n",
       "      <th></th>\n",
       "    </tr>\n",
       "  </thead>\n",
       "  <tbody>\n",
       "    <tr>\n",
       "      <th>1</th>\n",
       "      <td>114709</td>\n",
       "      <td>862.0</td>\n",
       "    </tr>\n",
       "    <tr>\n",
       "      <th>2</th>\n",
       "      <td>113497</td>\n",
       "      <td>8844.0</td>\n",
       "    </tr>\n",
       "    <tr>\n",
       "      <th>3</th>\n",
       "      <td>113228</td>\n",
       "      <td>15602.0</td>\n",
       "    </tr>\n",
       "    <tr>\n",
       "      <th>4</th>\n",
       "      <td>114885</td>\n",
       "      <td>31357.0</td>\n",
       "    </tr>\n",
       "    <tr>\n",
       "      <th>5</th>\n",
       "      <td>113041</td>\n",
       "      <td>11862.0</td>\n",
       "    </tr>\n",
       "    <tr>\n",
       "      <th>...</th>\n",
       "      <td>...</td>\n",
       "      <td>...</td>\n",
       "    </tr>\n",
       "    <tr>\n",
       "      <th>193581</th>\n",
       "      <td>5476944</td>\n",
       "      <td>432131.0</td>\n",
       "    </tr>\n",
       "    <tr>\n",
       "      <th>193583</th>\n",
       "      <td>5914996</td>\n",
       "      <td>445030.0</td>\n",
       "    </tr>\n",
       "    <tr>\n",
       "      <th>193585</th>\n",
       "      <td>6397426</td>\n",
       "      <td>479308.0</td>\n",
       "    </tr>\n",
       "    <tr>\n",
       "      <th>193587</th>\n",
       "      <td>8391976</td>\n",
       "      <td>483455.0</td>\n",
       "    </tr>\n",
       "    <tr>\n",
       "      <th>193609</th>\n",
       "      <td>101726</td>\n",
       "      <td>37891.0</td>\n",
       "    </tr>\n",
       "  </tbody>\n",
       "</table>\n",
       "<p>9742 rows × 2 columns</p>\n",
       "</div>"
      ],
      "text/plain": [
       "          imdbId    tmdbId\n",
       "movieId                   \n",
       "1         114709     862.0\n",
       "2         113497    8844.0\n",
       "3         113228   15602.0\n",
       "4         114885   31357.0\n",
       "5         113041   11862.0\n",
       "...          ...       ...\n",
       "193581   5476944  432131.0\n",
       "193583   5914996  445030.0\n",
       "193585   6397426  479308.0\n",
       "193587   8391976  483455.0\n",
       "193609    101726   37891.0\n",
       "\n",
       "[9742 rows x 2 columns]"
      ]
     },
     "execution_count": 79,
     "metadata": {},
     "output_type": "execute_result"
    }
   ],
   "source": [
    "#checking the first and last rows in the links dataset\n",
    "links"
   ]
  },
  {
   "cell_type": "code",
   "execution_count": 80,
   "metadata": {},
   "outputs": [
    {
     "data": {
      "text/plain": [
       "Index(['movieId', 'rating', 'timestamp'], dtype='object')"
      ]
     },
     "execution_count": 80,
     "metadata": {},
     "output_type": "execute_result"
    }
   ],
   "source": [
    "#chacking the columns in the ratings dataset\n",
    "ratings.columns"
   ]
  },
  {
   "cell_type": "code",
   "execution_count": 81,
   "metadata": {},
   "outputs": [
    {
     "data": {
      "text/plain": [
       "Index(['title', 'genres'], dtype='object')"
      ]
     },
     "execution_count": 81,
     "metadata": {},
     "output_type": "execute_result"
    }
   ],
   "source": [
    "#checking the columns in the movies dataset\n",
    "movies.columns"
   ]
  },
  {
   "cell_type": "code",
   "execution_count": 82,
   "metadata": {},
   "outputs": [
    {
     "data": {
      "text/plain": [
       "Index(['imdbId', 'tmdbId'], dtype='object')"
      ]
     },
     "execution_count": 82,
     "metadata": {},
     "output_type": "execute_result"
    }
   ],
   "source": [
    "#checking the columns in the links dataset\n",
    "links.columns"
   ]
  },
  {
   "cell_type": "markdown",
   "metadata": {},
   "source": [
    "### Checking the Datasets"
   ]
  },
  {
   "cell_type": "code",
   "execution_count": 83,
   "metadata": {},
   "outputs": [
    {
     "name": "stdout",
     "output_type": "stream",
     "text": [
      "<class 'pandas.core.frame.DataFrame'>\n",
      "Index: 100836 entries, 1 to 610\n",
      "Data columns (total 3 columns):\n",
      " #   Column     Non-Null Count   Dtype  \n",
      "---  ------     --------------   -----  \n",
      " 0   movieId    100836 non-null  int64  \n",
      " 1   rating     100836 non-null  float64\n",
      " 2   timestamp  100836 non-null  int64  \n",
      "dtypes: float64(1), int64(2)\n",
      "memory usage: 3.1 MB\n"
     ]
    }
   ],
   "source": [
    "#checking the dataset information\n",
    "ratings.info()"
   ]
  },
  {
   "cell_type": "code",
   "execution_count": 84,
   "metadata": {},
   "outputs": [
    {
     "name": "stdout",
     "output_type": "stream",
     "text": [
      "<class 'pandas.core.frame.DataFrame'>\n",
      "Index: 9742 entries, 1 to 193609\n",
      "Data columns (total 2 columns):\n",
      " #   Column  Non-Null Count  Dtype \n",
      "---  ------  --------------  ----- \n",
      " 0   title   9742 non-null   object\n",
      " 1   genres  9742 non-null   object\n",
      "dtypes: object(2)\n",
      "memory usage: 228.3+ KB\n"
     ]
    }
   ],
   "source": [
    "#checking the dataset information\n",
    "movies.info()"
   ]
  },
  {
   "cell_type": "code",
   "execution_count": 85,
   "metadata": {},
   "outputs": [
    {
     "name": "stdout",
     "output_type": "stream",
     "text": [
      "<class 'pandas.core.frame.DataFrame'>\n",
      "Index: 9742 entries, 1 to 193609\n",
      "Data columns (total 2 columns):\n",
      " #   Column  Non-Null Count  Dtype  \n",
      "---  ------  --------------  -----  \n",
      " 0   imdbId  9742 non-null   int64  \n",
      " 1   tmdbId  9734 non-null   float64\n",
      "dtypes: float64(1), int64(1)\n",
      "memory usage: 228.3 KB\n"
     ]
    }
   ],
   "source": [
    "#checking the links dataset information\n",
    "links.info()"
   ]
  },
  {
   "cell_type": "code",
   "execution_count": 86,
   "metadata": {},
   "outputs": [
    {
     "data": {
      "text/plain": [
       "movieId        int64\n",
       "rating       float64\n",
       "timestamp      int64\n",
       "dtype: object"
      ]
     },
     "execution_count": 86,
     "metadata": {},
     "output_type": "execute_result"
    }
   ],
   "source": [
    "#previewing the datatypes in ratings dataframe\n",
    "ratings.dtypes"
   ]
  },
  {
   "cell_type": "code",
   "execution_count": 87,
   "metadata": {},
   "outputs": [
    {
     "data": {
      "text/plain": [
       "title     object\n",
       "genres    object\n",
       "dtype: object"
      ]
     },
     "execution_count": 87,
     "metadata": {},
     "output_type": "execute_result"
    }
   ],
   "source": [
    "#previewing the datatypes in movies dataframe\n",
    "movies.dtypes"
   ]
  },
  {
   "cell_type": "code",
   "execution_count": 88,
   "metadata": {},
   "outputs": [
    {
     "data": {
      "text/plain": [
       "imdbId      int64\n",
       "tmdbId    float64\n",
       "dtype: object"
      ]
     },
     "execution_count": 88,
     "metadata": {},
     "output_type": "execute_result"
    }
   ],
   "source": [
    "#previewing the datatypes in links dataframe\n",
    "links.dtypes"
   ]
  },
  {
   "cell_type": "code",
   "execution_count": 89,
   "metadata": {},
   "outputs": [
    {
     "data": {
      "text/plain": [
       "((100836, 3), (9742, 2), (9742, 2))"
      ]
     },
     "execution_count": 89,
     "metadata": {},
     "output_type": "execute_result"
    }
   ],
   "source": [
    "#Determining the no of records in our datasets\n",
    "ratings.shape, movies.shape, links.shape\n"
   ]
  },
  {
   "cell_type": "code",
   "execution_count": 90,
   "metadata": {},
   "outputs": [
    {
     "data": {
      "text/html": [
       "<div>\n",
       "<style scoped>\n",
       "    .dataframe tbody tr th:only-of-type {\n",
       "        vertical-align: middle;\n",
       "    }\n",
       "\n",
       "    .dataframe tbody tr th {\n",
       "        vertical-align: top;\n",
       "    }\n",
       "\n",
       "    .dataframe thead th {\n",
       "        text-align: right;\n",
       "    }\n",
       "</style>\n",
       "<table border=\"1\" class=\"dataframe\">\n",
       "  <thead>\n",
       "    <tr style=\"text-align: right;\">\n",
       "      <th></th>\n",
       "      <th>movieId</th>\n",
       "      <th>rating</th>\n",
       "      <th>timestamp</th>\n",
       "    </tr>\n",
       "  </thead>\n",
       "  <tbody>\n",
       "    <tr>\n",
       "      <th>count</th>\n",
       "      <td>100836.000000</td>\n",
       "      <td>100836.000000</td>\n",
       "      <td>1.008360e+05</td>\n",
       "    </tr>\n",
       "    <tr>\n",
       "      <th>mean</th>\n",
       "      <td>19435.295718</td>\n",
       "      <td>3.501557</td>\n",
       "      <td>1.205946e+09</td>\n",
       "    </tr>\n",
       "    <tr>\n",
       "      <th>std</th>\n",
       "      <td>35530.987199</td>\n",
       "      <td>1.042529</td>\n",
       "      <td>2.162610e+08</td>\n",
       "    </tr>\n",
       "    <tr>\n",
       "      <th>min</th>\n",
       "      <td>1.000000</td>\n",
       "      <td>0.500000</td>\n",
       "      <td>8.281246e+08</td>\n",
       "    </tr>\n",
       "    <tr>\n",
       "      <th>25%</th>\n",
       "      <td>1199.000000</td>\n",
       "      <td>3.000000</td>\n",
       "      <td>1.019124e+09</td>\n",
       "    </tr>\n",
       "    <tr>\n",
       "      <th>50%</th>\n",
       "      <td>2991.000000</td>\n",
       "      <td>3.500000</td>\n",
       "      <td>1.186087e+09</td>\n",
       "    </tr>\n",
       "    <tr>\n",
       "      <th>75%</th>\n",
       "      <td>8122.000000</td>\n",
       "      <td>4.000000</td>\n",
       "      <td>1.435994e+09</td>\n",
       "    </tr>\n",
       "    <tr>\n",
       "      <th>max</th>\n",
       "      <td>193609.000000</td>\n",
       "      <td>5.000000</td>\n",
       "      <td>1.537799e+09</td>\n",
       "    </tr>\n",
       "  </tbody>\n",
       "</table>\n",
       "</div>"
      ],
      "text/plain": [
       "             movieId         rating     timestamp\n",
       "count  100836.000000  100836.000000  1.008360e+05\n",
       "mean    19435.295718       3.501557  1.205946e+09\n",
       "std     35530.987199       1.042529  2.162610e+08\n",
       "min         1.000000       0.500000  8.281246e+08\n",
       "25%      1199.000000       3.000000  1.019124e+09\n",
       "50%      2991.000000       3.500000  1.186087e+09\n",
       "75%      8122.000000       4.000000  1.435994e+09\n",
       "max    193609.000000       5.000000  1.537799e+09"
      ]
     },
     "execution_count": 90,
     "metadata": {},
     "output_type": "execute_result"
    }
   ],
   "source": [
    "#summary of the data contained in ratings dataset\n",
    "ratings.describe()"
   ]
  },
  {
   "cell_type": "code",
   "execution_count": 91,
   "metadata": {},
   "outputs": [
    {
     "data": {
      "text/html": [
       "<div>\n",
       "<style scoped>\n",
       "    .dataframe tbody tr th:only-of-type {\n",
       "        vertical-align: middle;\n",
       "    }\n",
       "\n",
       "    .dataframe tbody tr th {\n",
       "        vertical-align: top;\n",
       "    }\n",
       "\n",
       "    .dataframe thead th {\n",
       "        text-align: right;\n",
       "    }\n",
       "</style>\n",
       "<table border=\"1\" class=\"dataframe\">\n",
       "  <thead>\n",
       "    <tr style=\"text-align: right;\">\n",
       "      <th></th>\n",
       "      <th>title</th>\n",
       "      <th>genres</th>\n",
       "    </tr>\n",
       "  </thead>\n",
       "  <tbody>\n",
       "    <tr>\n",
       "      <th>count</th>\n",
       "      <td>9742</td>\n",
       "      <td>9742</td>\n",
       "    </tr>\n",
       "    <tr>\n",
       "      <th>unique</th>\n",
       "      <td>9737</td>\n",
       "      <td>951</td>\n",
       "    </tr>\n",
       "    <tr>\n",
       "      <th>top</th>\n",
       "      <td>Emma (1996)</td>\n",
       "      <td>Drama</td>\n",
       "    </tr>\n",
       "    <tr>\n",
       "      <th>freq</th>\n",
       "      <td>2</td>\n",
       "      <td>1053</td>\n",
       "    </tr>\n",
       "  </tbody>\n",
       "</table>\n",
       "</div>"
      ],
      "text/plain": [
       "              title genres\n",
       "count          9742   9742\n",
       "unique         9737    951\n",
       "top     Emma (1996)  Drama\n",
       "freq              2   1053"
      ]
     },
     "execution_count": 91,
     "metadata": {},
     "output_type": "execute_result"
    }
   ],
   "source": [
    "#summary of the data contained in the movies dataset\n",
    "movies.describe()"
   ]
  },
  {
   "cell_type": "code",
   "execution_count": 92,
   "metadata": {},
   "outputs": [
    {
     "data": {
      "text/html": [
       "<div>\n",
       "<style scoped>\n",
       "    .dataframe tbody tr th:only-of-type {\n",
       "        vertical-align: middle;\n",
       "    }\n",
       "\n",
       "    .dataframe tbody tr th {\n",
       "        vertical-align: top;\n",
       "    }\n",
       "\n",
       "    .dataframe thead th {\n",
       "        text-align: right;\n",
       "    }\n",
       "</style>\n",
       "<table border=\"1\" class=\"dataframe\">\n",
       "  <thead>\n",
       "    <tr style=\"text-align: right;\">\n",
       "      <th></th>\n",
       "      <th>imdbId</th>\n",
       "      <th>tmdbId</th>\n",
       "    </tr>\n",
       "  </thead>\n",
       "  <tbody>\n",
       "    <tr>\n",
       "      <th>count</th>\n",
       "      <td>9.742000e+03</td>\n",
       "      <td>9734.000000</td>\n",
       "    </tr>\n",
       "    <tr>\n",
       "      <th>mean</th>\n",
       "      <td>6.771839e+05</td>\n",
       "      <td>55162.123793</td>\n",
       "    </tr>\n",
       "    <tr>\n",
       "      <th>std</th>\n",
       "      <td>1.107228e+06</td>\n",
       "      <td>93653.481487</td>\n",
       "    </tr>\n",
       "    <tr>\n",
       "      <th>min</th>\n",
       "      <td>4.170000e+02</td>\n",
       "      <td>2.000000</td>\n",
       "    </tr>\n",
       "    <tr>\n",
       "      <th>25%</th>\n",
       "      <td>9.518075e+04</td>\n",
       "      <td>9665.500000</td>\n",
       "    </tr>\n",
       "    <tr>\n",
       "      <th>50%</th>\n",
       "      <td>1.672605e+05</td>\n",
       "      <td>16529.000000</td>\n",
       "    </tr>\n",
       "    <tr>\n",
       "      <th>75%</th>\n",
       "      <td>8.055685e+05</td>\n",
       "      <td>44205.750000</td>\n",
       "    </tr>\n",
       "    <tr>\n",
       "      <th>max</th>\n",
       "      <td>8.391976e+06</td>\n",
       "      <td>525662.000000</td>\n",
       "    </tr>\n",
       "  </tbody>\n",
       "</table>\n",
       "</div>"
      ],
      "text/plain": [
       "             imdbId         tmdbId\n",
       "count  9.742000e+03    9734.000000\n",
       "mean   6.771839e+05   55162.123793\n",
       "std    1.107228e+06   93653.481487\n",
       "min    4.170000e+02       2.000000\n",
       "25%    9.518075e+04    9665.500000\n",
       "50%    1.672605e+05   16529.000000\n",
       "75%    8.055685e+05   44205.750000\n",
       "max    8.391976e+06  525662.000000"
      ]
     },
     "execution_count": 92,
     "metadata": {},
     "output_type": "execute_result"
    }
   ],
   "source": [
    "#summary of the data contained in the links dataset\n",
    "links.describe()"
   ]
  },
  {
   "cell_type": "code",
   "execution_count": 93,
   "metadata": {},
   "outputs": [
    {
     "data": {
      "text/plain": [
       "1.08686721429614"
      ]
     },
     "execution_count": 93,
     "metadata": {},
     "output_type": "execute_result"
    }
   ],
   "source": [
    "#checking for the variance between the mean and the column rating\n",
    "ratings['rating'].var()"
   ]
  },
  {
   "cell_type": "code",
   "execution_count": 94,
   "metadata": {},
   "outputs": [
    {
     "data": {
      "text/plain": [
       "array(['Adventure|Animation|Children|Comedy|Fantasy',\n",
       "       'Adventure|Children|Fantasy', 'Comedy|Romance',\n",
       "       'Comedy|Drama|Romance', 'Comedy', 'Action|Crime|Thriller',\n",
       "       'Adventure|Children', 'Action', 'Action|Adventure|Thriller',\n",
       "       'Comedy|Horror', 'Adventure|Animation|Children', 'Drama',\n",
       "       'Action|Adventure|Romance', 'Crime|Drama', 'Drama|Romance',\n",
       "       'Action|Comedy|Crime|Drama|Thriller', 'Comedy|Crime|Thriller',\n",
       "       'Crime|Drama|Horror|Mystery|Thriller', 'Drama|Sci-Fi',\n",
       "       'Children|Drama', 'Adventure|Drama|Fantasy|Mystery|Sci-Fi',\n",
       "       'Mystery|Sci-Fi|Thriller', 'Children|Comedy', 'Drama|War',\n",
       "       'Action|Crime|Drama', 'Action|Adventure|Fantasy',\n",
       "       'Comedy|Drama|Thriller', 'Mystery|Thriller',\n",
       "       'Animation|Children|Drama|Musical|Romance',\n",
       "       'Crime|Mystery|Thriller', 'Adventure|Drama', 'Drama|Thriller',\n",
       "       'Comedy|Crime', 'Action|Sci-Fi|Thriller',\n",
       "       'Action|Comedy|Horror|Thriller', 'Comedy|Drama', 'Documentary',\n",
       "       'Action|Crime|Drama|Thriller', 'Crime|Drama|Romance',\n",
       "       'Action|Adventure|Drama', 'Action|Thriller',\n",
       "       'Drama|Horror|Thriller', 'Comedy|Horror|Romance',\n",
       "       'Adventure|Comedy|Crime|Romance',\n",
       "       'Adventure|Children|Comedy|Musical', 'Action|Drama|War',\n",
       "       'Crime|Drama|Thriller', 'Action|Adventure|Comedy|Crime',\n",
       "       'Drama|Mystery', 'Drama|Mystery|Romance', 'Thriller',\n",
       "       'Adventure|Drama|IMAX', 'Action|Drama|Romance|War', 'Drama|Horror',\n",
       "       'Adventure|Drama|War', 'Comedy|War', 'Crime|Drama|Mystery',\n",
       "       'Action|Adventure|Mystery|Sci-Fi', 'Drama|Thriller|War',\n",
       "       'Action|Romance|Western', 'Crime|Film-Noir|Mystery|Thriller',\n",
       "       'Comedy|Crime|Drama', 'Action|Drama|Romance',\n",
       "       'Adventure|Children|Drama', 'Action|Adventure|Crime|Thriller',\n",
       "       'Action|Crime|Sci-Fi', 'Horror', 'Action|Children',\n",
       "       'Comedy|Horror|Thriller', 'Fantasy|Horror|Mystery',\n",
       "       'Comedy|Fantasy', 'Horror|Sci-Fi',\n",
       "       'Action|Crime|Drama|Mystery|Sci-Fi|Thriller',\n",
       "       'Drama|Musical|Romance', 'Drama|Fantasy',\n",
       "       'Action|Adventure|Sci-Fi', 'Western',\n",
       "       'Adventure|Comedy|Crime|Mystery', 'Adventure|Comedy',\n",
       "       'Action|Comedy|Romance', 'Animation|Children|Comedy|Romance',\n",
       "       'Drama|Musical', 'Children|Comedy|Fantasy', 'Comedy|Sci-Fi',\n",
       "       'Adventure|Children|Comedy|Fantasy|Romance',\n",
       "       'Drama|Fantasy|Romance', 'Drama|Romance|War|Western',\n",
       "       'Drama|Horror|Sci-Fi', 'Action|Crime',\n",
       "       'Action|Drama|Sci-Fi|Thriller', 'Comedy|Crime|Drama|Thriller',\n",
       "       'Action|Thriller|Western', 'Horror|Thriller', 'Animation|Children',\n",
       "       'Children|Drama|Fantasy|Mystery', 'Action|Drama|Thriller',\n",
       "       'Comedy|Drama|Fantasy', 'Film-Noir|Thriller',\n",
       "       'Action|Comedy|Sci-Fi', 'Adventure|Drama|Sci-Fi',\n",
       "       'Action|Crime|Horror', 'Children', 'Drama|Film-Noir|Romance',\n",
       "       'Drama|Mystery|Thriller', 'Action|Crime|Fantasy|Thriller',\n",
       "       'Comedy|Drama|Romance|War', 'Action|Comedy',\n",
       "       'Adventure|Children|Romance',\n",
       "       'Adventure|Animation|Children|Drama|Musical|IMAX',\n",
       "       'Drama|Horror|Mystery|Thriller', 'Action|Comedy|Crime|Fantasy',\n",
       "       'Adventure|Comedy|Western', 'Action|Romance|Thriller',\n",
       "       'Action|Adventure|Comedy|Romance|Thriller',\n",
       "       'Drama|Horror|Romance|Thriller', 'Drama|Romance|War',\n",
       "       'Action|Fantasy', 'Comedy|Thriller',\n",
       "       'Action|Comedy|Crime|Thriller', 'Horror|Sci-Fi|Thriller',\n",
       "       'Drama|Mystery|Romance|Thriller', 'Action|Comedy|Drama',\n",
       "       'Drama|Western', 'Action|Adventure|Crime|Drama|Romance|Thriller',\n",
       "       'Action|Comedy|War', 'Action|Adventure|Sci-Fi|Thriller',\n",
       "       'Action|Adventure|Comedy|Fantasy', 'Comedy|Western',\n",
       "       'Comedy|Mystery', 'Comedy|Drama|Romance|Thriller',\n",
       "       'Action|Children|Romance', 'Action|Drama|Sci-Fi', 'Action|Drama',\n",
       "       'Comedy|Mystery|Romance', 'Action|Drama|Mystery',\n",
       "       'Action|Crime|Drama|Sci-Fi|Thriller', 'Crime|Thriller',\n",
       "       'Comedy|Crime|Horror', 'Action|Adventure|Fantasy|Mystery',\n",
       "       'Comedy|Romance|Thriller',\n",
       "       'Action|Adventure|Children|Comedy|Fantasy|Sci-Fi',\n",
       "       'Action|Mystery|Thriller', 'Animation|Children|Fantasy|Musical',\n",
       "       'Action|Adventure|Comedy|Romance', 'Action|Drama|Western',\n",
       "       'Action|Adventure|Animation|Children|Fantasy',\n",
       "       'Comedy|Drama|Fantasy|Romance|Thriller',\n",
       "       'Adventure|Animation|Children|Comedy|Musical', 'Action|Sci-Fi',\n",
       "       'Adventure|Drama|Western', 'Crime|Horror|Thriller',\n",
       "       'Animation|Children|Drama|Fantasy|Musical',\n",
       "       'Animation|Children|Fantasy|Musical|Romance|IMAX',\n",
       "       'Adventure|Western', 'Action|Comedy|Crime', 'Fantasy|Horror',\n",
       "       'Action|Adventure|Animation|Horror|Sci-Fi', 'Action|Horror|Sci-Fi',\n",
       "       'Crime|Drama|Mystery|Thriller',\n",
       "       'Adventure|Animation|Children|Fantasy|Musical|Romance', 'Romance',\n",
       "       'Action|Crime|Drama|War', 'Action|Adventure|Mystery|Thriller',\n",
       "       'Adventure|Animation|Children|Fantasy|Musical', 'Comedy|Drama|War',\n",
       "       'Adventure|Animation|Children|Comedy|Fantasy|Sci-Fi',\n",
       "       'Adventure|Comedy|Sci-Fi', 'Drama|Mystery|Romance|Sci-Fi|Thriller',\n",
       "       'Action|Adventure|Comedy|War', 'Action|Adventure',\n",
       "       'Drama|Mystery|Western', 'Comedy|Fantasy|Sci-Fi',\n",
       "       'Adventure|Animation|Comedy', 'Drama|Fantasy|Horror|Thriller',\n",
       "       'Action|Adventure|Romance|Thriller', 'Animation|Sci-Fi',\n",
       "       'Animation|Children|Comedy', 'Horror|Mystery',\n",
       "       'Comedy|Fantasy|Romance|Sci-Fi', 'Action|Adventure|Drama|Thriller',\n",
       "       'Comedy|Fantasy|Musical', 'Crime|Drama|Romance|Thriller',\n",
       "       'Crime|Drama|Musical|Thriller', 'Sci-Fi|Thriller',\n",
       "       'Children|Drama|Fantasy', 'Adventure|Animation|Children|Musical',\n",
       "       'Adventure|Drama|Romance|War', 'Comedy|Musical|Romance',\n",
       "       'Musical|Romance', 'Comedy|Musical',\n",
       "       'Action|Adventure|Mystery|Romance|Thriller',\n",
       "       'Comedy|Crime|Mystery|Romance|Thriller', 'Film-Noir|Mystery',\n",
       "       'Comedy|Drama|Musical|Romance', 'Musical',\n",
       "       'Adventure|Children|Fantasy|Musical',\n",
       "       'Drama|Film-Noir|Mystery|Thriller', 'Film-Noir|Romance|Thriller',\n",
       "       'Mystery|Romance|Thriller', 'Crime|Mystery|Romance|Thriller',\n",
       "       'Adventure', 'Crime|Film-Noir|Mystery', 'Drama|Romance|Western',\n",
       "       'Children|Drama|Fantasy|Romance', 'Adventure|Comedy|Romance|War',\n",
       "       'Adventure|Comedy|Crime|Drama|Romance', 'Romance|War',\n",
       "       'Crime|Film-Noir', 'Children|Comedy|Western',\n",
       "       'Children|Comedy|Fantasy|Romance', 'Children|Comedy|Romance',\n",
       "       'Children|Comedy|Drama', 'Children|Comedy|Mystery',\n",
       "       'Animation|Children|Fantasy|Musical|Romance',\n",
       "       'Animation|Children|Musical', 'Children|Comedy|Fantasy|Musical',\n",
       "       'Animation|Children|Drama|Musical', 'Adventure|Children|Musical',\n",
       "       'Animation|Children|Drama', 'Action|Horror|Sci-Fi|Thriller',\n",
       "       'Documentary|Drama',\n",
       "       'Animation|Children|Comedy|Fantasy|Musical|Romance',\n",
       "       'Drama|Romance|Thriller', 'Children|Drama|Sci-Fi',\n",
       "       'Action|Romance', 'Adventure|Comedy|Fantasy',\n",
       "       'Animation|Children|Comedy|Crime',\n",
       "       'Animation|Comedy|Drama|Fantasy', 'Crime|Drama|Film-Noir',\n",
       "       'Documentary|Musical', 'Action|Adventure|Comedy|Fantasy|Romance',\n",
       "       'Fantasy|Sci-Fi', 'Action|Adventure|Horror|Sci-Fi',\n",
       "       'Action|Adventure|Western', 'Crime|Drama|Sci-Fi|Thriller',\n",
       "       'Film-Noir|Mystery|Thriller',\n",
       "       'Action|Adventure|Comedy|Fantasy|Horror',\n",
       "       'Adventure|Drama|Romance', 'Crime|Horror', 'Action|Comedy|Musical',\n",
       "       'Adventure|Animation|Children|Comedy|Sci-Fi',\n",
       "       'Drama|Mystery|Sci-Fi', 'Comedy|Fantasy|Horror',\n",
       "       'Crime|Drama|Film-Noir|Thriller', 'Crime|Film-Noir|Thriller',\n",
       "       'Action|Crime|Romance|Thriller', 'Drama|Sci-Fi|Thriller',\n",
       "       'Action|Adventure|Drama|Western', 'Comedy|Horror|Sci-Fi',\n",
       "       'Comedy|Musical|War', 'Action|Comedy|Fantasy|Horror',\n",
       "       'Action|Adventure|Drama|War',\n",
       "       'Action|Drama|Mystery|Romance|Thriller', 'Comedy|Fantasy|Romance',\n",
       "       'Crime|Thriller|War', 'Comedy|Mystery|Thriller',\n",
       "       'Comedy|Drama|Film-Noir', 'Action|Adventure|Animation|Sci-Fi',\n",
       "       'Action|Western', 'Fantasy|Horror|Romance|Thriller',\n",
       "       'Drama|Fantasy|Horror', 'Horror|Mystery|Thriller',\n",
       "       'Adventure|Children|Comedy', 'Adventure|Sci-Fi',\n",
       "       'Action|Mystery|Sci-Fi', 'Action|Comedy|Western', 'Action|Horror',\n",
       "       'Action|Comedy|Crime|Drama|Sci-Fi',\n",
       "       'Adventure|Animation|Comedy|Crime',\n",
       "       'Comedy|Horror|Mystery|Thriller', 'Action|Romance|War|Western',\n",
       "       'Comedy|Drama|Fantasy|Romance', 'Action|Adventure|Comedy|Thriller',\n",
       "       'Crime', 'Crime|Drama|Fantasy|Film-Noir|Mystery|Romance',\n",
       "       'Action|Comedy|Crime|Drama', 'Action|Romance|Sci-Fi|Thriller',\n",
       "       'Comedy|Drama|Mystery|Romance', 'Action|Adventure|Children',\n",
       "       'Comedy|Crime|Romance', 'Action|Adventure|Comedy',\n",
       "       'Action|Adventure|Comedy|Sci-Fi',\n",
       "       'Action|Adventure|Fantasy|Thriller', 'Children|Fantasy',\n",
       "       'Adventure|Romance', 'Action|Thriller|War',\n",
       "       'Children|Comedy|Romance|Sci-Fi', 'Romance|Thriller',\n",
       "       'Comedy|Drama|Sci-Fi',\n",
       "       'Adventure|Animation|Children|Drama|Musical',\n",
       "       'Action|Adventure|Drama|Sci-Fi', 'Action|Children|Comedy',\n",
       "       'Adventure|Film-Noir|Sci-Fi|Thriller',\n",
       "       'Crime|Drama|Fantasy|Thriller', 'Crime|Romance|Thriller',\n",
       "       'Crime|Drama|Mystery|Romance|Thriller', 'Documentary|IMAX',\n",
       "       'Comedy|Crime|Drama|Mystery|Thriller', 'Comedy|Documentary',\n",
       "       'Adventure|Children|Comedy|Fantasy', 'Crime|Drama|Romance|War',\n",
       "       'Adventure|Comedy|Drama', 'Adventure|Comedy|Romance',\n",
       "       'Adventure|Animation|Children|Comedy|Drama|Musical|Romance',\n",
       "       'Action|Crime|Mystery|Sci-Fi|Thriller',\n",
       "       'Comedy|Crime|Drama|Romance|Thriller',\n",
       "       'Animation|Children|Fantasy|War', 'Comedy|Drama|Musical',\n",
       "       'Adventure|Fantasy|Musical',\n",
       "       'Action|Adventure|Children|Comedy|Fantasy',\n",
       "       'Drama|Mystery|Sci-Fi|Thriller', 'Adventure|Comedy|Sci-Fi|Western',\n",
       "       'Children|Fantasy|Musical', 'Adventure|Animation|Children|Fantasy',\n",
       "       'Children|Sci-Fi', 'Children|Comedy|Sci-Fi',\n",
       "       'Action|Adventure|Children|Comedy', 'Adventure|Children|Sci-Fi',\n",
       "       'Action|Animation|Children|Crime',\n",
       "       'Children|Comedy|Fantasy|Horror',\n",
       "       'Adventure|Children|Comedy|Fantasy|Sci-Fi',\n",
       "       'Action|Crime|Drama|Mystery|Thriller', 'Film-Noir',\n",
       "       'Drama|Fantasy|Mystery', 'Animation|Children|Comedy|Musical',\n",
       "       'Animation|Children|Comedy|Musical|Romance',\n",
       "       'Children|Comedy|Musical', 'Children|Musical',\n",
       "       'Adventure|Comedy|Musical',\n",
       "       'Adventure|Animation|Children|Crime|Drama',\n",
       "       'Children|Drama|Fantasy|Mystery|Thriller',\n",
       "       'Adventure|Children|Fantasy|Western',\n",
       "       'Animation|Children|Comedy|Drama|Fantasy',\n",
       "       'Action|Crime|Mystery|Thriller',\n",
       "       'Adventure|Animation|Children|Drama|Fantasy',\n",
       "       'Adventure|Animation|Children|Drama', 'Adventure|Fantasy',\n",
       "       'Adventure|Animation|Children|Comedy',\n",
       "       'Adventure|Animation|Children|Musical|Western',\n",
       "       'Adventure|Fantasy|Romance', 'Adventure|Drama|Fantasy',\n",
       "       'Action|Comedy|Drama|Horror', 'Action|Horror|Thriller',\n",
       "       'Drama|Film-Noir|Thriller', 'Adventure|Drama|Mystery|Thriller',\n",
       "       'Horror|Mystery|Sci-Fi|Thriller', 'Drama|Fantasy|Thriller',\n",
       "       'Adventure|Drama|Fantasy|Romance', 'Sci-Fi',\n",
       "       'Drama|Fantasy|Mystery|Romance', 'Action|Sci-Fi|War',\n",
       "       'Fantasy|Horror|Thriller', 'Horror|Western',\n",
       "       'Action|Adventure|Fantasy|Horror',\n",
       "       'Adventure|Fantasy|Romance|Sci-Fi|Thriller',\n",
       "       'Comedy|Crime|Mystery', 'Action|Drama|Romance|Sci-Fi',\n",
       "       'Animation|Musical', 'Action|Adventure|Thriller|War',\n",
       "       'Comedy|Crime|Mystery|Thriller',\n",
       "       'Action|Adventure|Children|Fantasy|Mystery|Thriller',\n",
       "       'Action|Adventure|Children|Drama',\n",
       "       'Action|Adventure|Drama|Fantasy|Thriller', 'Horror|Mystery|Sci-Fi',\n",
       "       'Drama|Horror|Sci-Fi|Thriller', 'Action|Comedy|Romance|Thriller',\n",
       "       'Action|War', 'Adventure|Comedy|Thriller',\n",
       "       'Action|Sci-Fi|Thriller|Western', 'Drama|Romance|Sci-Fi|Thriller',\n",
       "       'Drama|Film-Noir',\n",
       "       'Action|Adventure|Comedy|Fantasy|Horror|Thriller',\n",
       "       'Action|Adventure|Crime|Sci-Fi|Thriller',\n",
       "       'Adventure|Drama|Mystery', 'Horror|Romance',\n",
       "       'Comedy|Horror|Musical|Sci-Fi', 'War', 'Comedy|Romance|Sci-Fi',\n",
       "       'Animation|Comedy|Musical', 'Action|Comedy|Sci-Fi|Western',\n",
       "       'Action|Comedy|Fantasy', 'Adventure|Drama|Thriller',\n",
       "       'Action|Adventure|Comedy|Fantasy|Mystery', 'Comedy|Horror|Musical',\n",
       "       'Adventure|Animation|Children|Drama|Sci-Fi',\n",
       "       'Drama|Horror|Mystery', 'Action|Mystery',\n",
       "       'Comedy|Horror|Romance|Thriller', 'Action|Drama|Romance|Thriller',\n",
       "       'Animation|Horror|Mystery|Thriller',\n",
       "       'Adventure|Children|Comedy|Drama', 'Adventure|Sci-Fi|Thriller',\n",
       "       'Adventure|Animation|Comedy|Fantasy|Musical',\n",
       "       'Animation|Children|Fantasy', 'Action|Adventure|Comedy|Drama|War',\n",
       "       'Crime|Drama|Western', 'Comedy|Crime|Drama|Fantasy',\n",
       "       'Drama|Film-Noir|Mystery|Romance', 'Musical|Romance|War',\n",
       "       'Adventure|Comedy|Fantasy|Sci-Fi', 'Drama|Fantasy|Musical',\n",
       "       'Action|Crime|Sci-Fi|Thriller',\n",
       "       'Adventure|Animation|Children|Comedy|Crime|Fantasy|Mystery',\n",
       "       'Action|Adventure|Animation|Drama|Fantasy',\n",
       "       'Adventure|Animation|Children|Fantasy|Sci-Fi',\n",
       "       'Fantasy|Horror|Mystery|Romance',\n",
       "       'Action|Fantasy|Horror|Mystery|Thriller', 'Drama|Romance|Sci-Fi',\n",
       "       'Animation|Children|Musical|IMAX', 'Action|Comedy|Horror',\n",
       "       'Action|Crime|Thriller|Western', 'Fantasy|Horror|Mystery|Thriller',\n",
       "       'Romance|Western', 'Adventure|Crime|Drama|Romance',\n",
       "       'Adventure|Crime|Drama', 'Animation|Comedy',\n",
       "       'Action|Children|Comedy|Fantasy|Sci-Fi', 'Action|Children|Fantasy',\n",
       "       'Action|Adventure|Drama|Thriller|Western',\n",
       "       'Crime|Horror|Mystery|Thriller', 'Action|Adventure|Comedy|Western',\n",
       "       'Action|Drama|Thriller|Western',\n",
       "       'Adventure|Animation|Fantasy|Sci-Fi',\n",
       "       'Comedy|Horror|Sci-Fi|Thriller', 'Adventure|Drama|Romance|Sci-Fi',\n",
       "       'Film-Noir|Horror|Mystery|Thriller',\n",
       "       'Action|Adventure|Animation|Children|Sci-Fi',\n",
       "       'Action|Fantasy|Horror|Sci-Fi|Thriller',\n",
       "       'Action|Comedy|Crime|Romance', 'Adventure|Horror|Sci-Fi',\n",
       "       'Adventure|Animation|Children|Sci-Fi', 'Adventure|Comedy|Crime',\n",
       "       'Action|Drama|War|Western',\n",
       "       'Action|Crime|Mystery|Romance|Thriller', 'Romance|Sci-Fi',\n",
       "       'Fantasy|Romance', 'Action|Adventure|Fantasy|Sci-Fi',\n",
       "       'Adventure|Comedy|Horror', 'Animation|Comedy|Fantasy',\n",
       "       'Action|Adventure|War', 'Action|Crime|Drama|Horror|Thriller',\n",
       "       'Crime|Mystery', 'Adventure|Comedy|Mystery|Romance',\n",
       "       'Adventure|Animation|Children|Comedy|Fantasy|Romance',\n",
       "       'Adventure|War|Western', 'Comedy|Drama|Mystery|Thriller',\n",
       "       'Comedy|Drama|Romance|Western', 'Action|Comedy|Sci-Fi|Thriller',\n",
       "       'Adventure|Documentary|IMAX', 'Animation|Drama|Sci-Fi|IMAX',\n",
       "       'Action|Comedy|Horror|Sci-Fi', 'Comedy|Musical|Sci-Fi',\n",
       "       'Drama|Musical|Mystery', 'Crime|Musical', 'Comedy|Musical|Western',\n",
       "       'Action|Animation|Comedy|Crime|Drama|Romance|Thriller',\n",
       "       'Action|Adventure|Drama|Romance',\n",
       "       'Comedy|Fantasy|Horror|Musical|Thriller', 'Crime|Horror|Mystery',\n",
       "       'Action|Adventure|Drama|Romance|Thriller',\n",
       "       'Action|Comedy|Romance|War', 'Action|Adventure|Comedy|Drama',\n",
       "       'Adventure|Thriller', 'Crime|Drama|Film-Noir|Mystery|Thriller',\n",
       "       'Action|Animation|Sci-Fi', 'Animation|Drama|Fantasy',\n",
       "       'Drama|Fantasy|Mystery|Sci-Fi',\n",
       "       'Drama|Fantasy|Horror|Thriller|War', 'Fantasy|Mystery|Thriller',\n",
       "       'Action|Adventure|Comedy|Drama|Romance|Thriller',\n",
       "       'Mystery|Romance|Sci-Fi|Thriller',\n",
       "       'Adventure|Crime|Drama|Thriller', 'Comedy|Drama|Mystery',\n",
       "       'Animation|Fantasy', 'Drama|Fantasy|Horror|Mystery|Thriller',\n",
       "       'Drama|Fantasy|Mystery|Romance|Thriller',\n",
       "       'Animation|Fantasy|Horror|Sci-Fi', 'Documentary|War',\n",
       "       'Children|Horror|Mystery|Thriller', 'Musical|Western',\n",
       "       'Action|Adventure|Sci-Fi|IMAX',\n",
       "       'Adventure|Animation|Children|Western',\n",
       "       'Adventure|Children|Comedy|Fantasy|Mystery',\n",
       "       'Adventure|Drama|Horror|Mystery|Thriller',\n",
       "       'Comedy|Sci-Fi|Thriller', 'Action|Animation|Children|Comedy',\n",
       "       'Children|Drama|Musical', 'Comedy|Drama|Fantasy|Sci-Fi',\n",
       "       'Action|Adventure|Fantasy|Romance',\n",
       "       'Comedy|Crime|Romance|Thriller', 'Adventure|War',\n",
       "       'Comedy|Crime|Musical|Mystery', 'Adventure|Animation|Fantasy',\n",
       "       'Animation|Comedy|War', 'Action|Adventure|Comedy|Crime|Drama',\n",
       "       'Animation|Drama|War', 'Documentary|Horror',\n",
       "       'Action|Horror|Mystery|Sci-Fi', 'Action|Comedy|Documentary',\n",
       "       'Adventure|Animation|Children|Sci-Fi|IMAX', 'Comedy|Drama|Horror',\n",
       "       'Animation|Children|Drama|Fantasy', 'Comedy|Crime|Drama|Musical',\n",
       "       'Action|Adventure|Animation|Fantasy|Sci-Fi',\n",
       "       'Action|Adventure|Crime|Drama|Thriller',\n",
       "       'Comedy|Crime|Drama|Romance', 'Comedy|Documentary|Musical',\n",
       "       'Action|Animation|Sci-Fi|Thriller',\n",
       "       'Adventure|Children|Comedy|Mystery', 'Mystery|Sci-Fi',\n",
       "       'Adventure|Children|Comedy|Fantasy|Musical',\n",
       "       'Action|Adventure|Animation|Children|Fantasy|Sci-Fi',\n",
       "       'Action|Adventure|Sci-Fi|Thriller|IMAX',\n",
       "       'Action|Drama|Horror|Sci-Fi|Thriller', 'Drama|War|Western',\n",
       "       'Comedy|Crime|Mystery|Romance', 'Comedy|War|Western',\n",
       "       'Action|Adventure|Comedy|Crime|Thriller', 'Action|Fantasy|Sci-Fi',\n",
       "       'Action|Comedy|Thriller', 'Comedy|Crime|Drama|War',\n",
       "       'Adventure|Comedy|Crime|Thriller',\n",
       "       'Action|Adventure|Children|Fantasy',\n",
       "       'Drama|Fantasy|Musical|Romance', 'Animation|Drama|Romance',\n",
       "       'Comedy|Romance|Sci-Fi|Thriller', 'Action|Fantasy|Horror',\n",
       "       'Fantasy|Horror|Sci-Fi|Thriller', 'Comedy|Musical|Romance|Western',\n",
       "       'Drama|Fantasy|Sci-Fi', 'Children|Comedy|Crime|Musical',\n",
       "       'Action|Adventure|Animation|Fantasy', 'Crime|Documentary',\n",
       "       'Adventure|Comedy|Drama|Fantasy|Mystery|Sci-Fi|Thriller',\n",
       "       'Action|Animation|Children|Fantasy', 'Comedy|Mystery|Sci-Fi',\n",
       "       'Adventure|Thriller|Western', 'Comedy|Crime|Drama|Mystery|Romance',\n",
       "       'Action|Crime|Fantasy|Sci-Fi|Thriller', 'Crime|Fantasy|Horror',\n",
       "       'Action|Drama|Horror|Thriller', 'Comedy|Fantasy|Horror|Thriller',\n",
       "       'Action|Drama|Romance|Western',\n",
       "       'Adventure|Animation|Drama|Fantasy|Sci-Fi',\n",
       "       'Animation|Drama|Sci-Fi|War', 'Action|Adventure|Drama|Fantasy',\n",
       "       'Adventure|Drama|Romance|Thriller|War',\n",
       "       'Crime|Drama|Film-Noir|Romance|Thriller',\n",
       "       'Drama|Film-Noir|Mystery',\n",
       "       'Action|Comedy|Crime|Drama|Horror|Thriller',\n",
       "       'Adventure|Documentary', 'Action|Adventure|Children|Comedy|Crime',\n",
       "       'Animation|Comedy|Fantasy|Musical',\n",
       "       'Action|Adventure|Children|Comedy|Mystery', 'Action|Drama|Horror',\n",
       "       'Musical|Romance|Western', 'Action|Drama|Thriller|War',\n",
       "       'Comedy|Crime|Drama|Musical|Mystery|Romance',\n",
       "       'Adventure|Comedy|War', 'Fantasy|Musical|Romance',\n",
       "       'Drama|Thriller|Western', 'Crime|Horror|Sci-Fi',\n",
       "       'Animation|Fantasy|Thriller', 'Children|Comedy|Fantasy|Sci-Fi',\n",
       "       'Mystery', 'Action|Adventure|Animation|Comedy|Crime|Mystery',\n",
       "       'Adventure|Animation|Children|Comedy|Musical|Romance',\n",
       "       'Action|Adventure|Drama|Sci-Fi|Thriller', 'Adventure|Fantasy|IMAX',\n",
       "       'Action|Crime|Horror|Mystery|Thriller', 'Comedy|Fantasy|Thriller',\n",
       "       'Animation|Comedy|Drama|Fantasy|Sci-Fi',\n",
       "       'Comedy|Documentary|Drama', 'Crime|Drama|Film-Noir|Romance',\n",
       "       'Action|Adventure|Drama|Romance|Thriller|Western',\n",
       "       'Crime|Drama|Horror', 'Adventure|Comedy|Fantasy|Musical',\n",
       "       'Adventure|Animation|Drama', 'Comedy|Drama|Fantasy|Mystery',\n",
       "       'Action|Crime|Fantasy', 'Comedy|Drama|Sci-Fi|War',\n",
       "       'Adventure|Fantasy|Sci-Fi',\n",
       "       'Adventure|Drama|Horror|Sci-Fi|Thriller',\n",
       "       'Action|Adventure|Animation|Comedy',\n",
       "       'Action|Adventure|Animation|Children|Comedy',\n",
       "       'Adventure|Animation|Children|Fantasy|IMAX',\n",
       "       'Action|Adventure|Drama|Mystery|Thriller',\n",
       "       'Action|Fantasy|Horror|Thriller', 'Fantasy',\n",
       "       'Crime|Documentary|War', 'Children|Comedy|Musical|Romance',\n",
       "       'Drama|Horror|War', 'Action|Adventure|Comedy|Drama|Romance|War',\n",
       "       'Fantasy|Western', 'Adventure|Comedy|Horror|Romance',\n",
       "       'Action|Adventure|Animation|Children|Comedy|Fantasy',\n",
       "       'Action|Adventure|Children|Crime|Mystery|Thriller',\n",
       "       'Adventure|Children|Fantasy|Sci-Fi',\n",
       "       'Action|Fantasy|Horror|Romance', 'Animation|Fantasy|Mystery',\n",
       "       'Action|Animation|Crime|Drama|Film-Noir|Mystery|Sci-Fi|Thriller',\n",
       "       'Animation|Drama', 'Action|Fantasy|Sci-Fi|Thriller|War',\n",
       "       'Adventure|Animation|Comedy|Fantasy|Romance',\n",
       "       'Drama|Romance|Thriller|War',\n",
       "       'Adventure|Drama|Fantasy|Horror|Sci-Fi',\n",
       "       'Drama|Fantasy|Horror|Mystery|Sci-Fi|Thriller', 'Action|Animation',\n",
       "       'Adventure|Animation|Children|Musical|Romance',\n",
       "       'Action|Documentary|Drama|Thriller',\n",
       "       'Action|Adventure|Comedy|Sci-Fi|Thriller',\n",
       "       'Action|Adventure|Drama|Fantasy|Romance',\n",
       "       'Action|Animation|Drama|Fantasy|Sci-Fi',\n",
       "       'Drama|Fantasy|Romance|Sci-Fi',\n",
       "       'Action|Animation|Crime|Sci-Fi|Thriller',\n",
       "       'Drama|Horror|Mystery|Romance|Thriller',\n",
       "       'Action|Comedy|Crime|Fantasy|Thriller',\n",
       "       'Crime|Drama|Mystery|Thriller|War', 'Comedy|Drama|Romance|Sci-Fi',\n",
       "       'Action|Animation|Horror', 'Comedy|Crime|Horror|Mystery|Thriller',\n",
       "       'Comedy|Fantasy|Mystery|Sci-Fi',\n",
       "       'Comedy|Crime|Drama|Sci-Fi|Thriller',\n",
       "       'Action|Comedy|Horror|Musical', 'Drama|Sci-Fi|War',\n",
       "       'Action|Animation|Drama|Sci-Fi',\n",
       "       'Action|Comedy|Horror|Sci-Fi|Thriller|Western',\n",
       "       'Action|Comedy|Drama|War', 'Drama|Mystery|Romance|War',\n",
       "       'Action|Animation|Drama|Sci-Fi|Thriller',\n",
       "       'Children|Comedy|Crime|Drama|Fantasy', 'Action|Horror|Sci-Fi|War',\n",
       "       'Animation|Drama|Mystery|Sci-Fi|Thriller',\n",
       "       'Action|Drama|Fantasy|Sci-Fi', 'Comedy|Crime|Drama|Horror|Mystery',\n",
       "       'Adventure|Children|Comedy|Fantasy|IMAX', 'Animation|Documentary',\n",
       "       'Drama|Horror|Mystery|Sci-Fi|Thriller',\n",
       "       'Animation|Fantasy|Sci-Fi|War', 'Action|Animation|Fantasy|Sci-Fi',\n",
       "       'Action|Adventure|Crime|Drama',\n",
       "       'Action|Adventure|Comedy|Crime|Romance|Thriller',\n",
       "       'Action|Adventure|Drama|Romance|War',\n",
       "       'Adventure|Animation|Fantasy|Romance',\n",
       "       'Action|Fantasy|Horror|Mystery|Sci-Fi|Thriller',\n",
       "       'Adventure|Comedy|Crime|Drama|Mystery|Thriller',\n",
       "       'Comedy|Crime|Drama|Mystery', 'Comedy|Crime|Musical',\n",
       "       'Adventure|Animation|Children|Comedy|Fantasy|Sci-Fi|IMAX',\n",
       "       'Adventure|Comedy|Documentary', 'Comedy|Crime|Drama|Western',\n",
       "       'Adventure|Drama|War|Western', 'Animation|Fantasy|Sci-Fi|Thriller',\n",
       "       'Action|Crime|Film-Noir|Mystery|Thriller',\n",
       "       'Animation|Comedy|Sci-Fi', 'Animation|Fantasy|Horror',\n",
       "       'Children|Documentary', 'Action|Crime|IMAX',\n",
       "       'Adventure|Animation|Children|Comedy|Fantasy|War',\n",
       "       'Action|Adventure|Horror|Mystery|Sci-Fi|Thriller',\n",
       "       'Action|Crime|Drama|Thriller|War',\n",
       "       'Fantasy|Mystery|Romance|Thriller', 'Crime|Drama|Horror|Thriller',\n",
       "       'Animation|Comedy|Fantasy|Musical|Romance',\n",
       "       'Adventure|Children|Drama|Fantasy',\n",
       "       'Action|Horror|Mystery|Thriller',\n",
       "       'Adventure|Comedy|Fantasy|Horror',\n",
       "       'Action|Adventure|Animation|Children|Comedy|Sci-Fi',\n",
       "       'Adventure|Drama|Horror|Thriller',\n",
       "       'Adventure|Fantasy|Thriller|IMAX', 'Crime|Drama|Thriller|War',\n",
       "       'Action|Adventure|Comedy|Drama|Romance',\n",
       "       'Animation|Drama|Romance|Sci-Fi', 'Fantasy|Mystery|Western',\n",
       "       'Adventure|Comedy|Drama|Fantasy', 'Action|Comedy|Crime|Western',\n",
       "       'Action|Crime|Drama|Horror', 'Action|Fantasy|Sci-Fi|Thriller',\n",
       "       'Action|Drama|Fantasy|Horror|Mystery|Sci-Fi|Thriller',\n",
       "       'Action|Animation|Children|Sci-Fi', 'Action|Sci-Fi|Thriller|IMAX',\n",
       "       'Comedy|Fantasy|Horror|Sci-Fi', 'Action|Crime|Mystery',\n",
       "       'Crime|Drama|Film-Noir|Mystery',\n",
       "       'Action|Animation|Film-Noir|Sci-Fi|Thriller',\n",
       "       'Action|Adventure|Thriller|IMAX',\n",
       "       'Adventure|Comedy|Drama|Fantasy|Romance',\n",
       "       'Children|Comedy|Drama|Musical|Romance',\n",
       "       'Comedy|Documentary|Romance', 'Animation|Children|Fantasy|Mystery',\n",
       "       'Comedy|Fantasy|Mystery', 'Action|Comedy|Fantasy|IMAX',\n",
       "       'Adventure|Animation|Children|Comedy|Fantasy|IMAX',\n",
       "       'Adventure|Animation|Comedy|Fantasy|Romance|Sci-Fi',\n",
       "       'Crime|Drama|Musical', 'Adventure|Comedy|Sci-Fi|Thriller',\n",
       "       'Adventure|Animation|Children|Comedy|IMAX',\n",
       "       'Documentary|Drama|War', 'Crime|Western',\n",
       "       'Action|Adventure|Crime|Drama|Thriller|War',\n",
       "       'Children|Comedy|Drama|Fantasy', 'Drama|Fantasy|Horror|Romance',\n",
       "       'Action|Fantasy|Thriller', 'Action|Comedy|Crime|Mystery',\n",
       "       'Action|Comedy|Drama|Horror|Thriller', 'Action|Fantasy|War|IMAX',\n",
       "       'Comedy|Drama|Horror|Sci-Fi|Thriller',\n",
       "       'Drama|Fantasy|Mystery|Thriller',\n",
       "       'Action|Crime|Horror|Sci-Fi|Thriller',\n",
       "       'Adventure|Drama|Sci-Fi|Thriller',\n",
       "       'Action|Adventure|Animation|Comedy|Fantasy|Mystery|Sci-Fi',\n",
       "       'Crime|Drama|Fantasy|Mystery|Thriller',\n",
       "       'Action|Crime|Horror|Thriller', 'Animation|Mystery|Sci-Fi',\n",
       "       'Adventure|Crime|Thriller',\n",
       "       'Action|Adventure|Crime|Horror|Thriller',\n",
       "       'Adventure|Drama|Fantasy|IMAX', 'Adventure|Comedy|Fantasy|Romance',\n",
       "       'Action|Adventure|Fantasy|War', 'Action|Crime|Drama|Western',\n",
       "       'Action|Adventure|Comedy|Drama|Thriller',\n",
       "       'Action|Adventure|Animation|Crime|Fantasy',\n",
       "       'Action|Adventure|Animation|Fantasy|IMAX',\n",
       "       'Comedy|Drama|Sci-Fi|Thriller',\n",
       "       'Adventure|Animation|Children|Comedy|Fantasy|Musical|Romance',\n",
       "       'Action|Horror|Sci-Fi|Thriller|IMAX',\n",
       "       'Drama|Horror|Musical|Thriller', 'Action|Mystery|Sci-Fi|Thriller',\n",
       "       'Adventure|Animation|Drama|Horror',\n",
       "       'Animation|Comedy|Drama|Romance|Sci-Fi', 'Crime|Sci-Fi',\n",
       "       'Adventure|Children|Drama|Fantasy|IMAX',\n",
       "       'Adventure|Romance|Thriller', 'Crime|Drama|War',\n",
       "       'Action|Crime|Drama|IMAX', 'Documentary|Musical|IMAX',\n",
       "       'Action|Children|Sci-Fi|IMAX',\n",
       "       'Action|Animation|Children|Comedy|IMAX',\n",
       "       'Comedy|Crime|Drama|Horror', 'Action|Comedy|Drama|Thriller',\n",
       "       'Adventure|Animation|Children|Romance|Sci-Fi',\n",
       "       'Action|Adventure|Comedy|Crime|Fantasy',\n",
       "       'Action|Animation|Comedy|Romance|Sci-Fi',\n",
       "       'Children|Comedy|Drama|Mystery',\n",
       "       'Animation|Children|Comedy|Fantasy|Musical',\n",
       "       'Action|Adventure|Horror|Sci-Fi|Thriller',\n",
       "       'Adventure|Children|Comedy|Romance|Sci-Fi',\n",
       "       'Action|Comedy|Fantasy|Horror|Thriller',\n",
       "       'Action|Drama|Mystery|Sci-Fi|Thriller|IMAX',\n",
       "       'Adventure|Fantasy|Thriller', 'Action|Animation|Crime',\n",
       "       'Adventure|Comedy|Drama|Romance',\n",
       "       'Animation|Documentary|Drama|War',\n",
       "       'Action|Comedy|Fantasy|Thriller', 'Action|Animation|Comedy|Horror',\n",
       "       'Action|Crime|Thriller|IMAX', 'Animation|Comedy|Fantasy|Sci-Fi',\n",
       "       'Action|Adventure|Animation|Comedy|Fantasy|Sci-Fi',\n",
       "       'Action|Adventure|Animation|Children|Comedy|IMAX',\n",
       "       'Children|Fantasy|Musical|Romance',\n",
       "       'Drama|Fantasy|Romance|Thriller',\n",
       "       'Adventure|Animation|Comedy|Fantasy', 'Drama|Sci-Fi|Thriller|IMAX',\n",
       "       'Action|Adventure|Animation', 'Action|Animation|Comedy|Sci-Fi',\n",
       "       'Animation', 'Adventure|Comedy|Mystery',\n",
       "       'Comedy|Drama|Musical|Sci-Fi', 'Comedy|Crime|Horror|Thriller',\n",
       "       'Action|Drama|Mystery|Sci-Fi|Thriller', 'Animation|Sci-Fi|IMAX',\n",
       "       'Drama|Fantasy|Sci-Fi|Thriller', 'Action|Comedy|IMAX',\n",
       "       'Adventure|Fantasy|Musical|Romance',\n",
       "       'Action|Animation|Mystery|Sci-Fi',\n",
       "       'Action|Adventure|Animation|Drama',\n",
       "       'Action|Adventure|Comedy|Horror',\n",
       "       'Action|Adventure|Animation|Children|Comedy|Romance',\n",
       "       'Action|Adventure|Animation|Horror',\n",
       "       'Adventure|Fantasy|Mystery|Romance|IMAX',\n",
       "       'Adventure|Children|Fantasy|Sci-Fi|Thriller',\n",
       "       'Comedy|Documentary|Drama|Romance', 'Adventure|Animation|Sci-Fi',\n",
       "       'Animation|Children|Fantasy|IMAX',\n",
       "       'Action|Animation|Comedy|Horror|Thriller',\n",
       "       'Animation|Comedy|Drama',\n",
       "       'Action|Adventure|Drama|Fantasy|Romance|Sci-Fi|Thriller',\n",
       "       'Action|Comedy|Drama|Romance',\n",
       "       'Adventure|Animation|Children|Comedy|Crime',\n",
       "       'Animation|Children|Drama|Fantasy|IMAX',\n",
       "       'Animation|Children|Comedy|Fantasy',\n",
       "       'Drama|Fantasy|Horror|Romance|Thriller',\n",
       "       'Action|Adventure|Animation|Comedy|Thriller',\n",
       "       'Crime|Drama|Fantasy|Horror|Thriller', 'Children|Drama|Romance',\n",
       "       'Horror|Thriller|Western', 'Comedy|Musical|Sci-Fi|Western',\n",
       "       'Action|Adventure|Fantasy|Romance|IMAX',\n",
       "       'Fantasy|Romance|Thriller|IMAX',\n",
       "       'Action|Crime|Drama|Mystery|Sci-Fi|Thriller|IMAX',\n",
       "       'Action|Children|Drama', 'Action|Comedy|Fantasy|Musical|Romance',\n",
       "       'Documentary|Drama|Mystery', 'Adventure|Animation|Fantasy|IMAX',\n",
       "       'Documentary|Mystery',\n",
       "       'Action|Adventure|Comedy|Crime|Drama|Film-Noir|Horror|Mystery|Thriller|Western',\n",
       "       'Horror|IMAX', 'Action|Animation|Children|Comedy|Sci-Fi|IMAX',\n",
       "       'Action|Adventure|Fantasy|IMAX',\n",
       "       'Animation|Children|Comedy|Fantasy|Musical|Romance|IMAX',\n",
       "       'Crime|Romance', 'Adventure|Documentary|Western',\n",
       "       'Action|Comedy|Crime|Fantasy|Thriller|IMAX',\n",
       "       'Action|Fantasy|Western', 'Action|Sci-Fi|Thriller|Western|IMAX',\n",
       "       'Action|Adventure|Animation|Children|Comedy|Western',\n",
       "       'Romance|Sci-Fi|Thriller', 'Adventure|Animation|Comedy|Sci-Fi',\n",
       "       'Action|Adventure|Animation|Children|Comedy|Sci-Fi|IMAX',\n",
       "       'Action|Fantasy|Thriller|IMAX', 'Animation|Children|Comedy|Horror',\n",
       "       'Action|Adventure|Drama|Fantasy|IMAX',\n",
       "       'Action|Crime|Drama|Thriller|IMAX', 'Drama|Mystery|War',\n",
       "       'Action|Adventure|Sci-Fi|Thriller|War',\n",
       "       'Mystery|Sci-Fi|Thriller|IMAX', 'Action|Adventure|Sci-Fi|War|IMAX',\n",
       "       'Action|Adventure|Drama|Fantasy|Mystery|IMAX',\n",
       "       'Horror|Thriller|IMAX', 'Sci-Fi|Thriller|IMAX',\n",
       "       'Action|Drama|Sci-Fi|IMAX', 'Crime|Sci-Fi|Thriller',\n",
       "       'Action|Drama|Mystery|Thriller',\n",
       "       'Adventure|Animation|Comedy|Fantasy|IMAX',\n",
       "       'Action|Animation|Mystery|IMAX', 'Children|Drama|Mystery',\n",
       "       'Action|Drama|Fantasy', 'Animation|Children|Comedy|IMAX',\n",
       "       'Animation|Children|Comedy|Drama', 'Action|Crime|Film-Noir',\n",
       "       'Action|Adventure|Crime|IMAX',\n",
       "       'Action|Adventure|Drama|Thriller|IMAX',\n",
       "       'Action|Adventure|Comedy|Crime|Mystery|Thriller',\n",
       "       'Action|Fantasy|Horror|IMAX', 'Crime|Drama|Fantasy',\n",
       "       'Action|Adventure|Comedy|Sci-Fi|IMAX', 'Action|Adventure|Horror',\n",
       "       'Crime|Thriller|Western', 'Animation|Fantasy|Musical|IMAX',\n",
       "       'Action|Animation|Fantasy', 'Comedy|Horror|IMAX',\n",
       "       'Action|Comedy|Sci-Fi|IMAX', 'Action|Horror|Sci-Fi|IMAX',\n",
       "       'Action|Adventure|Animation|Children',\n",
       "       'Action|Adventure|Animation|Sci-Fi|Thriller',\n",
       "       'Comedy|Drama|Musical|IMAX', 'Children|Musical|Mystery',\n",
       "       'Drama|Fantasy|Musical|Mystery|Sci-Fi',\n",
       "       'Animation|Comedy|Horror|IMAX', 'Drama|Sci-Fi|IMAX',\n",
       "       'Action|Adventure|Comedy|Documentary|Fantasy',\n",
       "       'Action|Adventure|Crime', 'Children|Crime|Drama',\n",
       "       'Adventure|Drama|Fantasy|Romance|IMAX', 'Animation|Comedy|Romance',\n",
       "       'Drama|Musical|Romance|IMAX',\n",
       "       'Adventure|Comedy|Fantasy|Romance|IMAX',\n",
       "       'Animation|Comedy|Horror|Musical', 'Action|Animation|Comedy',\n",
       "       'Children|Horror|Sci-Fi', 'Action|Drama|IMAX',\n",
       "       'Documentary|Fantasy', 'Action|Adventure|Fantasy|Sci-Fi|IMAX',\n",
       "       'Action|Drama|Horror|IMAX', 'Action|Drama|Thriller|IMAX',\n",
       "       'Action|Adventure|Western|IMAX', 'Drama|Fantasy|Thriller|War',\n",
       "       'Action|IMAX', 'Action|Sci-Fi|IMAX',\n",
       "       'Adventure|Comedy|Musical|Sci-Fi', 'Adventure|Drama|Thriller|IMAX',\n",
       "       'Children|Drama|War',\n",
       "       'Adventure|Animation|Comedy|Fantasy|Musical|Romance',\n",
       "       'Action|Animation|Drama', 'Drama|Horror|Romance',\n",
       "       'Action|Animation|Fantasy|IMAX', 'Adventure|Romance|Sci-Fi|IMAX',\n",
       "       'Adventure|Animation|Children|Comedy|Drama|Romance',\n",
       "       'Action|Fantasy|Sci-Fi|IMAX', 'Action|Crime|Sci-Fi|IMAX',\n",
       "       'Animation|Comedy|Drama|Romance', 'Sci-Fi|IMAX',\n",
       "       'Animation|Romance', 'Action|Drama|War|IMAX',\n",
       "       'Action|Animation|Children|Comedy|Musical',\n",
       "       'Action|Adventure|Children|IMAX', 'Action|Animation|Children',\n",
       "       'Animation|Drama|Fantasy|Mystery',\n",
       "       'Action|Animation|Crime|Thriller', 'Documentary|Drama|Musical',\n",
       "       '(no genres listed)', 'Adventure|Animation',\n",
       "       'Adventure|Animation|Romance',\n",
       "       'Animation|Children|Comedy|Musical|Sci-Fi',\n",
       "       'Action|Adventure|Comedy|Drama|Fantasy|Thriller',\n",
       "       'Documentary|Drama|Thriller', 'Adventure|Mystery|Thriller',\n",
       "       'Horror|Romance|Thriller', 'Animation|Children|Mystery',\n",
       "       'Comedy|Drama|Fantasy|Mystery|Romance',\n",
       "       'Crime|Drama|Horror|Mystery', 'Adventure|Romance|Sci-Fi',\n",
       "       'Horror|Sci-Fi|Western', 'Action|Adventure|Children|Comedy|Sci-Fi',\n",
       "       'Action|Adventure|Animation|Comedy|Sci-Fi',\n",
       "       'Horror|Romance|Sci-Fi',\n",
       "       'Action|Adventure|Children|Mystery|Sci-Fi', 'Comedy|Crime|Sci-Fi',\n",
       "       'Action|Comedy|Fantasy|Sci-Fi',\n",
       "       'Adventure|Animation|Children|Comedy|Drama|Fantasy',\n",
       "       'Adventure|Children|Comedy|Sci-Fi',\n",
       "       'Action|Animation|Crime|Sci-Fi', 'Action|Adventure|Romance|Sci-Fi',\n",
       "       'Action|Crime|Drama|Sci-Fi',\n",
       "       'Animation|Children|Comedy|Drama|Romance',\n",
       "       'Action|Fantasy|Mystery', 'Comedy|Horror|Mystery',\n",
       "       'Comedy|Crime|Fantasy', 'Animation|Horror|Mystery',\n",
       "       'Comedy|Romance|Western', 'Adventure|Drama|Fantasy|Sci-Fi',\n",
       "       'Adventure|Children|Drama|Sci-Fi',\n",
       "       'Adventure|Children|Comedy|Drama|Fantasy|Sci-Fi',\n",
       "       'Animation|Fantasy|Horror|Mystery',\n",
       "       'Adventure|Animation|Fantasy|Horror|Sci-Fi',\n",
       "       'Action|Animation|Crime|Drama',\n",
       "       'Action|Adventure|Animation|Drama|Fantasy|Sci-Fi',\n",
       "       'Action|Animation|Mystery', 'Animation|Drama|Sci-Fi',\n",
       "       'Animation|Drama|Fantasy|Romance',\n",
       "       'Action|Adventure|Comedy|Fantasy|Sci-Fi|Thriller',\n",
       "       'Action|Adventure|Fantasy|Horror|Thriller', 'Comedy|Sci-Fi|War',\n",
       "       'Comedy|Mystery|Romance|Thriller', 'Fantasy|Horror|Sci-Fi|Western',\n",
       "       'Animation|Crime|Drama', 'Adventure|Mystery|Sci-Fi|Thriller',\n",
       "       'Action|Comedy|Crime|Horror', 'Action|Adventure|Children|Sci-Fi',\n",
       "       'Action|Adventure|Comedy|Fantasy|Sci-Fi',\n",
       "       'Action|Animation|Comedy|Fantasy'], dtype=object)"
      ]
     },
     "execution_count": 94,
     "metadata": {},
     "output_type": "execute_result"
    }
   ],
   "source": [
    "#checking for unique values\n",
    "movies['genres'].unique()\n"
   ]
  },
  {
   "cell_type": "markdown",
   "metadata": {},
   "source": [
    "### Data Cleaning\n"
   ]
  },
  {
   "cell_type": "code",
   "execution_count": 95,
   "metadata": {},
   "outputs": [
    {
     "data": {
      "text/plain": [
       "movieId      0\n",
       "rating       0\n",
       "timestamp    0\n",
       "dtype: int64"
      ]
     },
     "execution_count": 95,
     "metadata": {},
     "output_type": "execute_result"
    }
   ],
   "source": [
    "#Checking null values in ratings dataset\n",
    "ratings.isnull().sum()"
   ]
  },
  {
   "cell_type": "code",
   "execution_count": 96,
   "metadata": {},
   "outputs": [
    {
     "data": {
      "text/plain": [
       "title     0\n",
       "genres    0\n",
       "dtype: int64"
      ]
     },
     "execution_count": 96,
     "metadata": {},
     "output_type": "execute_result"
    }
   ],
   "source": [
    "#Checking null values in movies dataset\n",
    "movies.isnull().sum()"
   ]
  },
  {
   "cell_type": "code",
   "execution_count": 97,
   "metadata": {},
   "outputs": [
    {
     "data": {
      "text/plain": [
       "imdbId    0\n",
       "tmdbId    8\n",
       "dtype: int64"
      ]
     },
     "execution_count": 97,
     "metadata": {},
     "output_type": "execute_result"
    }
   ],
   "source": [
    "#Checking null values in links dataset\n",
    "links.isnull().sum()"
   ]
  },
  {
   "cell_type": "code",
   "execution_count": 98,
   "metadata": {},
   "outputs": [
    {
     "data": {
      "text/plain": [
       "False"
      ]
     },
     "execution_count": 98,
     "metadata": {},
     "output_type": "execute_result"
    }
   ],
   "source": [
    "#Checking for duplicates\n",
    "ratings.duplicated().any()\n"
   ]
  },
  {
   "cell_type": "code",
   "execution_count": 99,
   "metadata": {},
   "outputs": [
    {
     "data": {
      "text/plain": [
       "False"
      ]
     },
     "execution_count": 99,
     "metadata": {},
     "output_type": "execute_result"
    }
   ],
   "source": [
    "#checking for duplicates\n",
    "movies.duplicated().any()"
   ]
  },
  {
   "cell_type": "code",
   "execution_count": 100,
   "metadata": {},
   "outputs": [
    {
     "data": {
      "text/plain": [
       "False"
      ]
     },
     "execution_count": 100,
     "metadata": {},
     "output_type": "execute_result"
    }
   ],
   "source": [
    "#Checking for duplicates\n",
    "links.duplicated().any()"
   ]
  },
  {
   "cell_type": "markdown",
   "metadata": {},
   "source": [
    "###  Exploratory Data Analysis"
   ]
  },
  {
   "cell_type": "markdown",
   "metadata": {},
   "source": [
    "Exploratory Data Analysis is an approach to analyse data to summarise their main characteristics and often with visual methods."
   ]
  },
  {
   "cell_type": "markdown",
   "metadata": {},
   "source": [
    "### Univariate Data Analysis"
   ]
  },
  {
   "cell_type": "markdown",
   "metadata": {},
   "source": [
    "The term univariate analysis refers to the analysis of one variable. You can remember this because the prefix “uni” means “one.”\n",
    "\n",
    "The purpose of univariate analysis is to understand the distribution of values for a single variable."
   ]
  },
  {
   "cell_type": "markdown",
   "metadata": {},
   "source": [
    "### Histogram"
   ]
  },
  {
   "cell_type": "markdown",
   "metadata": {},
   "source": [
    "### Ratings dataset"
   ]
  },
  {
   "cell_type": "code",
   "execution_count": 101,
   "metadata": {},
   "outputs": [
    {
     "data": {
      "image/png": "[encoded data removed]",
      "text/plain": [
       "<Figure size 1000x600 with 1 Axes>"
      ]
     },
     "metadata": {},
     "output_type": "display_data"
    }
   ],
   "source": [
    "#Histrogram showing ratings\n",
    "x=ratings['rating']\n",
    "#when you are plotting the histogram,plt.hist(have the necessary parameters here)\n",
    "plt.hist(x, bins=10, histtype='bar')\n",
    "#when to give my plot a title\n",
    "plt.title('Histogram showing rating')\n",
    "plt.xlabel('rating')\n",
    "plt.ylabel('Frequency of values')\n",
    "plt.show()\n",
    "\n"
   ]
  },
  {
   "cell_type": "markdown",
   "metadata": {},
   "source": [
    "The majority of ratings are clustered around the higher end of the scale, particularly around 4.0, indicating that users tend to rate movies positively. There are fewer low ratings, suggesting that either the movies are generally well-received, or users are more generous with their ratings. This kind of analysis is crucial for understanding user behavior and preferences, which is essential for building effective recommendation systems."
   ]
  },
  {
   "cell_type": "markdown",
   "metadata": {},
   "source": [
    "### Links dataset"
   ]
  },
  {
   "cell_type": "code",
   "execution_count": 102,
   "metadata": {},
   "outputs": [
    {
     "data": {
      "image/png": "[encoded data removed]",
      "text/plain": [
       "<Figure size 1000x600 with 1 Axes>"
      ]
     },
     "metadata": {},
     "output_type": "display_data"
    }
   ],
   "source": [
    "#Histrogram showing links\n",
    "x=links['imdbId']\n",
    "#when you are plotting the histogram,plt.hist(have the necessary parameters here)\n",
    "plt.hist(x, bins=10, histtype='bar')\n",
    "#when to give my plot a title\n",
    "plt.title('Histogram showing imdbId')\n",
    "plt.xlabel('imdbId')\n",
    "plt.ylabel('Frequency of values')\n",
    "plt.show()\n",
    "\n"
   ]
  },
  {
   "cell_type": "markdown",
   "metadata": {},
   "source": [
    "The right-skewness of the distribution suggests that only a small proportion of movies have very high IMDb IDs, which could be more recent additions to the IMDb database."
   ]
  },
  {
   "cell_type": "markdown",
   "metadata": {},
   "source": [
    "### Movies dataset"
   ]
  },
  {
   "cell_type": "code",
   "execution_count": 103,
   "metadata": {},
   "outputs": [
    {
     "data": {
      "image/png": "[encoded data removed]",
      "text/plain": [
       "<Figure size 1500x800 with 1 Axes>"
      ]
     },
     "metadata": {},
     "output_type": "display_data"
    }
   ],
   "source": [
    "\n",
    "\n",
    "# Count the occurrences of each genre\n",
    "genre_counts = movies['genres'].value_counts()\n",
    "\n",
    "# Get the top 50 genres\n",
    "top_50_genres = genre_counts.head(50).index\n",
    "\n",
    "# Filter the DataFrame to include only the top 50 genres\n",
    "filtered_df = movies[movies['genres'].isin(top_50_genres)]\n",
    "\n",
    "# Plot the histogram\n",
    "plt.figure(figsize=(15, 8))\n",
    "sns.histplot(data=filtered_df, x='genres', discrete=True)\n",
    "plt.xticks(rotation=90)\n",
    "plt.title('Histogram showing top 50 genres')\n",
    "plt.xlabel('Genres')\n",
    "plt.ylabel('Frequency of Values')\n",
    "plt.show()\n"
   ]
  },
  {
   "cell_type": "markdown",
   "metadata": {},
   "source": [
    "the above histogram helps us analyse which genre has the highest frequency value, from the graph  drama followed by comedy have a high frequency value."
   ]
  },
  {
   "cell_type": "markdown",
   "metadata": {},
   "source": [
    "### Box Plot\n",
    "### Ratings dataset"
   ]
  },
  {
   "cell_type": "code",
   "execution_count": 104,
   "metadata": {},
   "outputs": [
    {
     "data": {
      "text/plain": [
       "Text(0.5, 1.0, 'Distribution of timestamp')"
      ]
     },
     "execution_count": 104,
     "metadata": {},
     "output_type": "execute_result"
    },
    {
     "data": {
      "image/png": "[encoded data removed]",
      "text/plain": [
       "<Figure size 2000x2000 with 4 Axes>"
      ]
     },
     "metadata": {},
     "output_type": "display_data"
    }
   ],
   "source": [
    "#Checking for anomalies and outliers in the ratings dataset\n",
    "fig, ax = plt.subplots(2,2, figsize=[20,20])\n",
    "sns.boxplot(x='rating', data=ratings, ax=ax[0,0])\n",
    "sns.boxplot(x= 'movieId', data=ratings, ax=ax[0,1])\n",
    "sns.boxplot(x='timestamp', data=ratings, ax=ax[1,0])\n",
    "\n",
    "\n",
    "# Setting the Title of the Plots\n",
    "ax[0,0].set_title(\"Distribution of rating\")\n",
    "ax[0,1].set_title(\"Distribution of movieId\")\n",
    "ax[1,0].set_title(\"Distribution of timestamp\")\n"
   ]
  },
  {
   "cell_type": "markdown",
   "metadata": {},
   "source": [
    "A boxplot displays the five-number summary of a set of data.\n",
    "The five-number summary is the minimum, first quartile, median, third quartile, and maximum.\n",
    "\n",
    "Box plots give a good graphical image of the concentration of the data. They also show how far the extreme values are from most of the data. from the data we an see the disribution of our values.\n"
   ]
  },
  {
   "cell_type": "markdown",
   "metadata": {},
   "source": [
    "### Links dataset"
   ]
  },
  {
   "cell_type": "code",
   "execution_count": 105,
   "metadata": {},
   "outputs": [
    {
     "data": {
      "text/plain": [
       "Text(0.5, 1.0, 'Distribution of tmdbId')"
      ]
     },
     "execution_count": 105,
     "metadata": {},
     "output_type": "execute_result"
    },
    {
     "data": {
      "image/png": "[encoded data removed]",
      "text/plain": [
       "<Figure size 2000x2000 with 4 Axes>"
      ]
     },
     "metadata": {},
     "output_type": "display_data"
    }
   ],
   "source": [
    "#Checking for anomalies and outliers in the links dataset\n",
    "fig, ax = plt.subplots(2,2, figsize=[20,20])\n",
    "sns.boxplot(x='imdbId', data=links, ax=ax[0,0])\n",
    "sns.boxplot(x= 'tmdbId', data=links, ax=ax[0,1])\n",
    "\n",
    "\n",
    "\n",
    "# Setting the Title of the Plots\n",
    "ax[0,0].set_title(\"Distribution of imdbId\")\n",
    "ax[0,1].set_title(\"Distribution of tmdbId\")\n",
    "\n"
   ]
  },
  {
   "cell_type": "markdown",
   "metadata": {},
   "source": [
    "most of the values in the above  links dataset lie in the between the median and the maximum. it helps us identify outliers before modelling"
   ]
  }
 ],
 "metadata": {
  "kernelspec": {
   "display_name": "Python 3",
   "language": "python",
   "name": "python3"
  },
  "language_info": {
   "codemirror_mode": {
    "name": "ipython",
    "version": 3
   },
   "file_extension": ".py",
   "mimetype": "text/x-python",
   "name": "python",
   "nbconvert_exporter": "python",
   "pygments_lexer": "ipython3",
   "version": "3.8.5"
  }
 },
 "nbformat": 4,
 "nbformat_minor": 2
}
