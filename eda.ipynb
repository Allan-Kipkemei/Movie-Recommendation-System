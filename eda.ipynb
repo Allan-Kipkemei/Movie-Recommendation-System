{
 "cells": [
  {
   "cell_type": "code",
   "execution_count": 1,
   "metadata": {},
   "outputs": [],
   "source": [
    "import pandas as pd"
   ]
  },
  {
   "cell_type": "code",
   "execution_count": 2,
   "metadata": {},
   "outputs": [],
   "source": [
    "# Datasets\n",
    "movies = \"data/ml-latest-small/movies.csv\"\n",
    "links = \"data/ml-latest-small/links.csv\"\n",
    "ratings = \"data/ml-latest-small/ratings.csv\"\n",
    "tags = \"data/ml-latest-small/tags.csv\"\n",
    "\n",
    "data = {\"movies\":None, \"links\": None, \"ratings\": None, \"tags\": None}\n",
    "\n",
    "for key in data.keys():\n",
    "    data[key] = pd.read_csv(f\"data/ml-latest-small/{key}.csv\")"
   ]
  },
  {
   "cell_type": "code",
   "execution_count": 5,
   "metadata": {},
   "outputs": [
    {
     "data": {
      "text/plain": [
       "{'movies':       movieId                                      title  \\\n",
       " 0           1                           Toy Story (1995)   \n",
       " 1           2                             Jumanji (1995)   \n",
       " 2           3                    Grumpier Old Men (1995)   \n",
       " 3           4                   Waiting to Exhale (1995)   \n",
       " 4           5         Father of the Bride Part II (1995)   \n",
       " ...       ...                                        ...   \n",
       " 9737   193581  Black Butler: Book of the Atlantic (2017)   \n",
       " 9738   193583               No Game No Life: Zero (2017)   \n",
       " 9739   193585                               Flint (2017)   \n",
       " 9740   193587        Bungo Stray Dogs: Dead Apple (2018)   \n",
       " 9741   193609        Andrew Dice Clay: Dice Rules (1991)   \n",
       " \n",
       "                                            genres  \n",
       " 0     Adventure|Animation|Children|Comedy|Fantasy  \n",
       " 1                      Adventure|Children|Fantasy  \n",
       " 2                                  Comedy|Romance  \n",
       " 3                            Comedy|Drama|Romance  \n",
       " 4                                          Comedy  \n",
       " ...                                           ...  \n",
       " 9737              Action|Animation|Comedy|Fantasy  \n",
       " 9738                     Animation|Comedy|Fantasy  \n",
       " 9739                                        Drama  \n",
       " 9740                             Action|Animation  \n",
       " 9741                                       Comedy  \n",
       " \n",
       " [9742 rows x 3 columns],\n",
       " 'links':       movieId   imdbId    tmdbId\n",
       " 0           1   114709     862.0\n",
       " 1           2   113497    8844.0\n",
       " 2           3   113228   15602.0\n",
       " 3           4   114885   31357.0\n",
       " 4           5   113041   11862.0\n",
       " ...       ...      ...       ...\n",
       " 9737   193581  5476944  432131.0\n",
       " 9738   193583  5914996  445030.0\n",
       " 9739   193585  6397426  479308.0\n",
       " 9740   193587  8391976  483455.0\n",
       " 9741   193609   101726   37891.0\n",
       " \n",
       " [9742 rows x 3 columns],\n",
       " 'ratings':         userId  movieId  rating   timestamp\n",
       " 0            1        1     4.0   964982703\n",
       " 1            1        3     4.0   964981247\n",
       " 2            1        6     4.0   964982224\n",
       " 3            1       47     5.0   964983815\n",
       " 4            1       50     5.0   964982931\n",
       " ...        ...      ...     ...         ...\n",
       " 100831     610   166534     4.0  1493848402\n",
       " 100832     610   168248     5.0  1493850091\n",
       " 100833     610   168250     5.0  1494273047\n",
       " 100834     610   168252     5.0  1493846352\n",
       " 100835     610   170875     3.0  1493846415\n",
       " \n",
       " [100836 rows x 4 columns],\n",
       " 'tags':       userId  movieId               tag   timestamp\n",
       " 0          2    60756             funny  1445714994\n",
       " 1          2    60756   Highly quotable  1445714996\n",
       " 2          2    60756      will ferrell  1445714992\n",
       " 3          2    89774      Boxing story  1445715207\n",
       " 4          2    89774               MMA  1445715200\n",
       " ...      ...      ...               ...         ...\n",
       " 3678     606     7382         for katie  1171234019\n",
       " 3679     606     7936           austere  1173392334\n",
       " 3680     610     3265            gun fu  1493843984\n",
       " 3681     610     3265  heroic bloodshed  1493843978\n",
       " 3682     610   168248  Heroic Bloodshed  1493844270\n",
       " \n",
       " [3683 rows x 4 columns]}"
      ]
     },
     "execution_count": 5,
     "metadata": {},
     "output_type": "execute_result"
    }
   ],
   "source": [
    "data\n"
   ]
  },
  {
   "cell_type": "code",
   "execution_count": 6,
   "metadata": {},
   "outputs": [
    {
     "name": "stdout",
     "output_type": "stream",
     "text": [
      "(9742, 5)\n"
     ]
    }
   ],
   "source": [
    "# merging movies df and link df using an inner join\n",
    "movies_df = data[\"movies\"]\n",
    "links_df = data[\"links\"]\n",
    "\n",
    "# Using join with movies_df as the left DataFrame\n",
    "merged_movies_links = movies_df.join(links_df.set_index(\"movieId\"), on=\"movieId\", how=\"inner\")\n",
    "\n",
    "# Display the shape of the resulting DataFrame\n",
    "print(merged_movies_links.shape)"
   ]
  },
  {
   "cell_type": "code",
   "execution_count": 7,
   "metadata": {},
   "outputs": [
    {
     "data": {
      "text/html": [
       "<div>\n",
       "<style scoped>\n",
       "    .dataframe tbody tr th:only-of-type {\n",
       "        vertical-align: middle;\n",
       "    }\n",
       "\n",
       "    .dataframe tbody tr th {\n",
       "        vertical-align: top;\n",
       "    }\n",
       "\n",
       "    .dataframe thead th {\n",
       "        text-align: right;\n",
       "    }\n",
       "</style>\n",
       "<table border=\"1\" class=\"dataframe\">\n",
       "  <thead>\n",
       "    <tr style=\"text-align: right;\">\n",
       "      <th></th>\n",
       "      <th>movieId</th>\n",
       "      <th>title</th>\n",
       "      <th>genres</th>\n",
       "      <th>imdbId</th>\n",
       "      <th>tmdbId</th>\n",
       "    </tr>\n",
       "  </thead>\n",
       "  <tbody>\n",
       "    <tr>\n",
       "      <th>0</th>\n",
       "      <td>1</td>\n",
       "      <td>Toy Story (1995)</td>\n",
       "      <td>Adventure|Animation|Children|Comedy|Fantasy</td>\n",
       "      <td>114709</td>\n",
       "      <td>862.0</td>\n",
       "    </tr>\n",
       "    <tr>\n",
       "      <th>1</th>\n",
       "      <td>2</td>\n",
       "      <td>Jumanji (1995)</td>\n",
       "      <td>Adventure|Children|Fantasy</td>\n",
       "      <td>113497</td>\n",
       "      <td>8844.0</td>\n",
       "    </tr>\n",
       "    <tr>\n",
       "      <th>2</th>\n",
       "      <td>3</td>\n",
       "      <td>Grumpier Old Men (1995)</td>\n",
       "      <td>Comedy|Romance</td>\n",
       "      <td>113228</td>\n",
       "      <td>15602.0</td>\n",
       "    </tr>\n",
       "    <tr>\n",
       "      <th>3</th>\n",
       "      <td>4</td>\n",
       "      <td>Waiting to Exhale (1995)</td>\n",
       "      <td>Comedy|Drama|Romance</td>\n",
       "      <td>114885</td>\n",
       "      <td>31357.0</td>\n",
       "    </tr>\n",
       "    <tr>\n",
       "      <th>4</th>\n",
       "      <td>5</td>\n",
       "      <td>Father of the Bride Part II (1995)</td>\n",
       "      <td>Comedy</td>\n",
       "      <td>113041</td>\n",
       "      <td>11862.0</td>\n",
       "    </tr>\n",
       "  </tbody>\n",
       "</table>\n",
       "</div>"
      ],
      "text/plain": [
       "   movieId                               title  \\\n",
       "0        1                    Toy Story (1995)   \n",
       "1        2                      Jumanji (1995)   \n",
       "2        3             Grumpier Old Men (1995)   \n",
       "3        4            Waiting to Exhale (1995)   \n",
       "4        5  Father of the Bride Part II (1995)   \n",
       "\n",
       "                                        genres  imdbId   tmdbId  \n",
       "0  Adventure|Animation|Children|Comedy|Fantasy  114709    862.0  \n",
       "1                   Adventure|Children|Fantasy  113497   8844.0  \n",
       "2                               Comedy|Romance  113228  15602.0  \n",
       "3                         Comedy|Drama|Romance  114885  31357.0  \n",
       "4                                       Comedy  113041  11862.0  "
      ]
     },
     "execution_count": 7,
     "metadata": {},
     "output_type": "execute_result"
    }
   ],
   "source": [
    "merged_movies_links.head()"
   ]
  },
  {
   "cell_type": "code",
   "execution_count": 8,
   "metadata": {},
   "outputs": [
    {
     "name": "stdout",
     "output_type": "stream",
     "text": [
      "Final Merged Data has 100854 rows and 8 columns:\n"
     ]
    },
    {
     "data": {
      "text/html": [
       "<div>\n",
       "<style scoped>\n",
       "    .dataframe tbody tr th:only-of-type {\n",
       "        vertical-align: middle;\n",
       "    }\n",
       "\n",
       "    .dataframe tbody tr th {\n",
       "        vertical-align: top;\n",
       "    }\n",
       "\n",
       "    .dataframe thead th {\n",
       "        text-align: right;\n",
       "    }\n",
       "</style>\n",
       "<table border=\"1\" class=\"dataframe\">\n",
       "  <thead>\n",
       "    <tr style=\"text-align: right;\">\n",
       "      <th></th>\n",
       "      <th>movieId</th>\n",
       "      <th>title</th>\n",
       "      <th>genres</th>\n",
       "      <th>imdbId</th>\n",
       "      <th>tmdbId</th>\n",
       "      <th>userId</th>\n",
       "      <th>rating</th>\n",
       "      <th>timestamp</th>\n",
       "    </tr>\n",
       "  </thead>\n",
       "  <tbody>\n",
       "    <tr>\n",
       "      <th>0</th>\n",
       "      <td>1</td>\n",
       "      <td>Toy Story (1995)</td>\n",
       "      <td>Adventure|Animation|Children|Comedy|Fantasy</td>\n",
       "      <td>114709</td>\n",
       "      <td>862.0</td>\n",
       "      <td>1.0</td>\n",
       "      <td>4.0</td>\n",
       "      <td>9.649827e+08</td>\n",
       "    </tr>\n",
       "    <tr>\n",
       "      <th>0</th>\n",
       "      <td>1</td>\n",
       "      <td>Toy Story (1995)</td>\n",
       "      <td>Adventure|Animation|Children|Comedy|Fantasy</td>\n",
       "      <td>114709</td>\n",
       "      <td>862.0</td>\n",
       "      <td>5.0</td>\n",
       "      <td>4.0</td>\n",
       "      <td>8.474350e+08</td>\n",
       "    </tr>\n",
       "    <tr>\n",
       "      <th>0</th>\n",
       "      <td>1</td>\n",
       "      <td>Toy Story (1995)</td>\n",
       "      <td>Adventure|Animation|Children|Comedy|Fantasy</td>\n",
       "      <td>114709</td>\n",
       "      <td>862.0</td>\n",
       "      <td>7.0</td>\n",
       "      <td>4.5</td>\n",
       "      <td>1.106636e+09</td>\n",
       "    </tr>\n",
       "    <tr>\n",
       "      <th>0</th>\n",
       "      <td>1</td>\n",
       "      <td>Toy Story (1995)</td>\n",
       "      <td>Adventure|Animation|Children|Comedy|Fantasy</td>\n",
       "      <td>114709</td>\n",
       "      <td>862.0</td>\n",
       "      <td>15.0</td>\n",
       "      <td>2.5</td>\n",
       "      <td>1.510578e+09</td>\n",
       "    </tr>\n",
       "    <tr>\n",
       "      <th>0</th>\n",
       "      <td>1</td>\n",
       "      <td>Toy Story (1995)</td>\n",
       "      <td>Adventure|Animation|Children|Comedy|Fantasy</td>\n",
       "      <td>114709</td>\n",
       "      <td>862.0</td>\n",
       "      <td>17.0</td>\n",
       "      <td>4.5</td>\n",
       "      <td>1.305696e+09</td>\n",
       "    </tr>\n",
       "  </tbody>\n",
       "</table>\n",
       "</div>"
      ],
      "text/plain": [
       "   movieId             title                                       genres  \\\n",
       "0        1  Toy Story (1995)  Adventure|Animation|Children|Comedy|Fantasy   \n",
       "0        1  Toy Story (1995)  Adventure|Animation|Children|Comedy|Fantasy   \n",
       "0        1  Toy Story (1995)  Adventure|Animation|Children|Comedy|Fantasy   \n",
       "0        1  Toy Story (1995)  Adventure|Animation|Children|Comedy|Fantasy   \n",
       "0        1  Toy Story (1995)  Adventure|Animation|Children|Comedy|Fantasy   \n",
       "\n",
       "   imdbId  tmdbId  userId  rating     timestamp  \n",
       "0  114709   862.0     1.0     4.0  9.649827e+08  \n",
       "0  114709   862.0     5.0     4.0  8.474350e+08  \n",
       "0  114709   862.0     7.0     4.5  1.106636e+09  \n",
       "0  114709   862.0    15.0     2.5  1.510578e+09  \n",
       "0  114709   862.0    17.0     4.5  1.305696e+09  "
      ]
     },
     "execution_count": 8,
     "metadata": {},
     "output_type": "execute_result"
    }
   ],
   "source": [
    "# Left outer join with ratings_df and specify suffixes\n",
    "merged_data_ratings = merged_movies_links.join(data[\"ratings\"].set_index(\"movieId\"), on=\"movieId\", how=\"left\", lsuffix='_movies_links', rsuffix='_ratings')\n",
    "\n",
    "# Left outer join with tags_df and specify suffixes\n",
    "df = merged_data_ratings\n",
    "\n",
    "# Display the first few rows of the resulting DataFrame\n",
    "print(f\"Final Merged Data has {df.shape[0]} rows and {df.shape[1]} columns:\")\n",
    "df.head()"
   ]
  },
  {
   "cell_type": "code",
   "execution_count": 9,
   "metadata": {},
   "outputs": [
    {
     "name": "stdout",
     "output_type": "stream",
     "text": [
      "Summary Statistics:\n",
      "             movieId        imdbId         tmdbId         userId  \\\n",
      "count  100854.000000  1.008540e+05  100841.000000  100836.000000   \n",
      "mean    19435.051728  3.515154e+05   20106.212146     326.127564   \n",
      "std     35528.850950  6.220251e+05   53269.783825     182.618491   \n",
      "min         1.000000  4.170000e+02       2.000000       1.000000   \n",
      "25%      1199.000000  9.968500e+04     712.000000     177.000000   \n",
      "50%      2991.000000  1.187550e+05    6961.000000     325.000000   \n",
      "75%      8128.000000  3.149790e+05   11637.000000     477.000000   \n",
      "max    193609.000000  8.391976e+06  525662.000000     610.000000   \n",
      "\n",
      "              rating     timestamp  \n",
      "count  100836.000000  1.008360e+05  \n",
      "mean        3.501557  1.205946e+09  \n",
      "std         1.042529  2.162610e+08  \n",
      "min         0.500000  8.281246e+08  \n",
      "25%         3.000000  1.019124e+09  \n",
      "50%         3.500000  1.186087e+09  \n",
      "75%         4.000000  1.435994e+09  \n",
      "max         5.000000  1.537799e+09  \n"
     ]
    }
   ],
   "source": [
    "import pandas as pd\n",
    "\n",
    "# Assuming 'df' is your DataFrame\n",
    "print(\"Summary Statistics:\")\n",
    "print(df.describe())\n"
   ]
  },
  {
   "cell_type": "code",
   "execution_count": 12,
   "metadata": {},
   "outputs": [
    {
     "name": "stdout",
     "output_type": "stream",
     "text": [
      "The DataFrame has 0 duplicated rows.\n"
     ]
    }
   ],
   "source": [
    "duplicated_rows = df.duplicated().sum()\n",
    "print(f'The DataFrame has {duplicated_rows} duplicated rows.')"
   ]
  },
  {
   "cell_type": "code",
   "execution_count": null,
   "metadata": {},
   "outputs": [],
   "source": []
  }
 ],
 "metadata": {
  "kernelspec": {
   "display_name": "Python 3",
   "language": "python",
   "name": "python3"
  },
  "language_info": {
   "codemirror_mode": {
    "name": "ipython",
    "version": 3
   },
   "file_extension": ".py",
   "mimetype": "text/x-python",
   "name": "python",
   "nbconvert_exporter": "python",
   "pygments_lexer": "ipython3",
   "version": "3.12.1"
  }
 },
 "nbformat": 4,
 "nbformat_minor": 2
}
