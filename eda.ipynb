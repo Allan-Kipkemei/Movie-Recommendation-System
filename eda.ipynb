{
 "cells": [
  {
   "cell_type": "code",
   "execution_count": 1,
   "metadata": {},
   "outputs": [],
   "source": [
    "import pandas as pd"
   ]
  },
  {
   "cell_type": "code",
   "execution_count": 2,
   "metadata": {},
   "outputs": [],
   "source": [
    "# Datasets\n",
    "movies = \"data/ml-latest-small/movies.csv\"\n",
    "links = \"data/ml-latest-small/links.csv\"\n",
    "ratings = \"data/ml-latest-small/ratings.csv\"\n",
    "tags = \"data/ml-latest-small/tags.csv\"\n",
    "\n",
    "data = {\"movies\":None, \"links\": None, \"ratings\": None, \"tags\": None}\n",
    "\n",
    "for key in data.keys():\n",
    "    data[key] = pd.read_csv(f\"data/ml-latest-small/{key}.csv\")"
   ]
  },
  {
   "cell_type": "code",
   "execution_count": null,
   "metadata": {},
   "outputs": [],
   "source": []
  }
 ],
 "metadata": {
  "kernelspec": {
   "display_name": "Python 3",
   "language": "python",
   "name": "python3"
  },
  "language_info": {
   "codemirror_mode": {
    "name": "ipython",
    "version": 3
   },
   "file_extension": ".py",
   "mimetype": "text/x-python",
   "name": "python",
   "nbconvert_exporter": "python",
   "pygments_lexer": "ipython3",
   "version": "3.12.1"
  }
 },
 "nbformat": 4,
 "nbformat_minor": 2
}
